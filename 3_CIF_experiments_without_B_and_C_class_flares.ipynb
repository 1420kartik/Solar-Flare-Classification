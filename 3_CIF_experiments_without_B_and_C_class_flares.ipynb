{
 "cells": [
  {
   "cell_type": "markdown",
   "id": "1e2bfe6d",
   "metadata": {},
   "source": [
    "# 1. Imports"
   ]
  },
  {
   "cell_type": "code",
   "execution_count": 1,
   "id": "111d7ebe",
   "metadata": {
    "scrolled": true
   },
   "outputs": [
    {
     "name": "stderr",
     "output_type": "stream",
     "text": [
      "/home/dmlab/miniconda3/lib/python3.9/site-packages/sktime/datatypes/_series/_check.py:43: FutureWarning: pandas.Int64Index is deprecated and will be removed from pandas in a future version. Use pandas.Index with the appropriate dtype instead.\n",
      "  VALID_INDEX_TYPES = (pd.Int64Index, pd.RangeIndex, pd.PeriodIndex, pd.DatetimeIndex)\n",
      "/home/dmlab/miniconda3/lib/python3.9/site-packages/sktime/datatypes/_hierarchical/_check.py:50: FutureWarning: pandas.Int64Index is deprecated and will be removed from pandas in a future version. Use pandas.Index with the appropriate dtype instead.\n",
      "  VALID_INDEX_TYPES = (pd.Int64Index, pd.RangeIndex, pd.PeriodIndex, pd.DatetimeIndex)\n",
      "/home/dmlab/miniconda3/lib/python3.9/site-packages/sktime/datatypes/_hierarchical/_check.py:51: FutureWarning: pandas.Int64Index is deprecated and will be removed from pandas in a future version. Use pandas.Index with the appropriate dtype instead.\n",
      "  VALID_MULTIINDEX_TYPES = (pd.Int64Index, pd.RangeIndex)\n",
      "/home/dmlab/miniconda3/lib/python3.9/site-packages/sktime/datatypes/_panel/_check.py:48: FutureWarning: pandas.Int64Index is deprecated and will be removed from pandas in a future version. Use pandas.Index with the appropriate dtype instead.\n",
      "  VALID_INDEX_TYPES = (pd.Int64Index, pd.RangeIndex, pd.PeriodIndex, pd.DatetimeIndex)\n",
      "/home/dmlab/miniconda3/lib/python3.9/site-packages/sktime/datatypes/_panel/_check.py:49: FutureWarning: pandas.Int64Index is deprecated and will be removed from pandas in a future version. Use pandas.Index with the appropriate dtype instead.\n",
      "  VALID_MULTIINDEX_TYPES = (pd.Int64Index, pd.RangeIndex)\n"
     ]
    }
   ],
   "source": [
    "import json\n",
    "import pandas as pd\n",
    "import numpy as np\n",
    "from sklearn.metrics import accuracy_score, confusion_matrix, adjusted_rand_score\n",
    "from sklearn.svm import SVC\n",
    "import pickle\n",
    "from pandas import DataFrame\n",
    "from sklearn.linear_model import RidgeClassifierCV\n",
    "from sklearn.pipeline import Pipeline\n",
    "from sktime.transformations.panel.rocket import Rocket\n",
    "from collections import Counter\n",
    "from matplotlib import pyplot\n",
    "from numpy import where\n",
    "import statistics\n",
    "from sklearn.model_selection import StratifiedKFold\n",
    "from sktime.transformations.panel.rocket import MiniRocket, MiniRocketMultivariate\n",
    "import matplotlib.pyplot as plt\n",
    "from datetime import datetime\n",
    "from sktime.classification.hybrid import HIVECOTEV2\n",
    "from sktime.classification.interval_based import CanonicalIntervalForest\n",
    "import time"
   ]
  },
  {
   "cell_type": "markdown",
   "id": "f36f393d",
   "metadata": {},
   "source": [
    "# 2. Data loading"
   ]
  },
  {
   "cell_type": "markdown",
   "id": "39367405",
   "metadata": {},
   "source": [
    "### 2.1 Original Data"
   ]
  },
  {
   "cell_type": "code",
   "execution_count": 2,
   "id": "12947051",
   "metadata": {},
   "outputs": [],
   "source": [
    "p1_data = pd.read_pickle(r'../og_data/partition1_data.pkl')\n",
    "p2_data = pd.read_pickle(r'../og_data/partition2_data.pkl')\n",
    "p3_data = pd.read_pickle(r'../og_data/partition3_data.pkl')\n",
    "p4_data = pd.read_pickle(r'../og_data/partition4_data.pkl')\n",
    "p5_data = pd.read_pickle(r'../og_data/partition5_data.pkl')\n",
    "p1_labels = pd.read_pickle(r'../og_data/partition1_labels.pkl')\n",
    "p2_labels = pd.read_pickle(r'../og_data/partition2_labels.pkl')\n",
    "p3_labels = pd.read_pickle(r'../og_data/partition3_labels.pkl')\n",
    "p4_labels = pd.read_pickle(r'../og_data/partition4_labels.pkl')\n",
    "p5_labels = pd.read_pickle(r'../og_data/partition5_labels.pkl')"
   ]
  },
  {
   "cell_type": "code",
   "execution_count": 3,
   "id": "65049078",
   "metadata": {},
   "outputs": [],
   "source": [
    "# Removing B and C Class flares\n",
    "result1 = np.where(p1_labels == 'B')\n",
    "result2 = np.where(p2_labels == 'B')\n",
    "result3 = np.where(p3_labels == 'B')\n",
    "result4 = np.where(p4_labels == 'B')\n",
    "result5 = np.where(p5_labels == 'B')\n",
    "\n",
    "p1_labels = np.delete(p1_labels, result1[0], 0)\n",
    "p2_labels = np.delete(p2_labels, result2[0], 0)\n",
    "p3_labels = np.delete(p3_labels, result3[0], 0)\n",
    "p4_labels = np.delete(p4_labels, result4[0], 0)\n",
    "p5_labels = np.delete(p5_labels, result5[0], 0)\n",
    "\n",
    "p1_data = np.delete(p1_data, result1[0], 0)\n",
    "p2_data = np.delete(p2_data, result2[0], 0)\n",
    "p3_data = np.delete(p3_data, result3[0], 0)\n",
    "p4_data = np.delete(p4_data, result4[0], 0)\n",
    "p5_data = np.delete(p5_data, result5[0], 0)\n",
    "\n",
    "result11 = np.where(p1_labels == 'C')\n",
    "result22 = np.where(p2_labels == 'C')\n",
    "result33 = np.where(p3_labels == 'C')\n",
    "result44 = np.where(p4_labels == 'C')\n",
    "result55 = np.where(p5_labels == 'C')\n",
    "\n",
    "p1_labels = np.delete(p1_labels, result11[0], 0)\n",
    "p2_labels = np.delete(p2_labels, result22[0], 0)\n",
    "p3_labels = np.delete(p3_labels, result33[0], 0)\n",
    "p4_labels = np.delete(p4_labels, result44[0], 0)\n",
    "p5_labels = np.delete(p5_labels, result55[0], 0)\n",
    "\n",
    "p1_data = np.delete(p1_data, result11[0], 0)\n",
    "p2_data = np.delete(p2_data, result22[0], 0)\n",
    "p3_data = np.delete(p3_data, result33[0], 0)\n",
    "p4_data = np.delete(p4_data, result44[0], 0)\n",
    "p5_data = np.delete(p5_data, result55[0], 0)"
   ]
  },
  {
   "cell_type": "markdown",
   "id": "9294e38a",
   "metadata": {},
   "source": [
    "### 2.2 Converting labels into Binary"
   ]
  },
  {
   "cell_type": "code",
   "execution_count": 5,
   "id": "1438dafc",
   "metadata": {},
   "outputs": [],
   "source": [
    "# converting labels into binary class\n",
    "p1_labels_binary = np.where(p1_labels == 'F', 'NF', p1_labels)\n",
    "p1_labels_binary = np.where(p1_labels_binary == 'M', 'F', p1_labels_binary)\n",
    "p1_labels_binary = np.where(p1_labels_binary == 'X', 'F', p1_labels_binary)\n",
    "\n",
    "p2_labels_binary = np.where(p2_labels == 'F', 'NF', p2_labels)\n",
    "p2_labels_binary = np.where(p2_labels_binary == 'M', 'F', p2_labels_binary)\n",
    "p2_labels_binary = np.where(p2_labels_binary == 'X', 'F', p2_labels_binary)\n",
    "\n",
    "p3_labels_binary = np.where(p3_labels == 'F', 'NF', p3_labels)\n",
    "p3_labels_binary = np.where(p3_labels_binary == 'M', 'F', p3_labels_binary)\n",
    "p3_labels_binary = np.where(p3_labels_binary == 'X', 'F', p3_labels_binary)\n",
    "\n",
    "p4_labels_binary = np.where(p4_labels == 'F', 'NF', p4_labels)\n",
    "p4_labels_binary = np.where(p4_labels_binary == 'M', 'F', p4_labels_binary)\n",
    "p4_labels_binary = np.where(p4_labels_binary == 'X', 'F', p4_labels_binary)\n",
    "\n",
    "p5_labels_binary = np.where(p5_labels == 'F', 'NF', p5_labels)\n",
    "p5_labels_binary = np.where(p5_labels_binary == 'M', 'F', p5_labels_binary)\n",
    "p5_labels_binary = np.where(p5_labels_binary == 'X', 'F', p5_labels_binary)"
   ]
  },
  {
   "cell_type": "markdown",
   "id": "8d78c9fc",
   "metadata": {},
   "source": [
    "# 3. All possible partition pair"
   ]
  },
  {
   "cell_type": "code",
   "execution_count": 6,
   "id": "b168274e",
   "metadata": {},
   "outputs": [],
   "source": [
    "pp_20_all = [ \n",
    "[p1_data, p2_data, p1_labels, p2_labels],\n",
    "\n",
    "[p1_data, p3_data, p1_labels, p3_labels],\n",
    "\n",
    "[p1_data, p4_data, p1_labels, p4_labels],\n",
    "\n",
    "[p1_data, p5_data, p1_labels, p5_labels],\n",
    "\n",
    "[p2_data, p1_data, p2_labels, p1_labels],\n",
    "\n",
    "[p2_data, p3_data, p2_labels, p3_labels],\n",
    "\n",
    "[p2_data, p4_data, p2_labels, p4_labels],\n",
    "\n",
    "[p2_data, p5_data, p2_labels, p5_labels],\n",
    "\n",
    "[p3_data, p1_data, p3_labels, p1_labels],\n",
    "\n",
    "[p3_data, p2_data, p3_labels, p2_labels],\n",
    "\n",
    "[p3_data, p4_data, p3_labels, p4_labels],\n",
    "\n",
    "[p3_data, p5_data, p3_labels, p5_labels],\n",
    "\n",
    "[p4_data, p1_data, p4_labels, p1_labels],\n",
    "\n",
    "[p4_data, p2_data, p4_labels, p2_labels],\n",
    "\n",
    "[p4_data, p3_data, p4_labels, p3_labels],\n",
    "\n",
    "[p4_data, p5_data, p4_labels, p5_labels],\n",
    "\n",
    "[p5_data, p1_data, p5_labels, p1_labels],\n",
    "\n",
    "[p5_data, p2_data, p5_labels, p2_labels],\n",
    "\n",
    "[p5_data, p3_data, p5_labels, p3_labels],\n",
    "\n",
    "[p5_data, p4_data, p5_labels, p4_labels],\n",
    "]"
   ]
  },
  {
   "cell_type": "code",
   "execution_count": 7,
   "id": "5c338f52",
   "metadata": {},
   "outputs": [],
   "source": [
    "pp_20_bin = [ \n",
    "[p1_data, p2_data, p1_labels_binary, p2_labels_binary],\n",
    "\n",
    "[p1_data, p3_data, p1_labels_binary, p3_labels_binary],\n",
    "\n",
    "[p1_data, p4_data, p1_labels_binary, p4_labels_binary],\n",
    "\n",
    "[p1_data, p5_data, p1_labels_binary, p5_labels_binary],\n",
    "\n",
    "[p2_data, p1_data, p2_labels_binary, p1_labels_binary],\n",
    "\n",
    "[p2_data, p3_data, p2_labels_binary, p3_labels_binary],\n",
    "\n",
    "[p2_data, p4_data, p2_labels_binary, p4_labels_binary],\n",
    "\n",
    "[p2_data, p5_data, p2_labels_binary, p5_labels_binary],\n",
    "\n",
    "[p3_data, p1_data, p3_labels_binary, p1_labels_binary],\n",
    "\n",
    "[p3_data, p2_data, p3_labels_binary, p2_labels_binary],\n",
    "\n",
    "[p3_data, p4_data, p3_labels_binary, p4_labels_binary],\n",
    "\n",
    "[p3_data, p5_data, p3_labels_binary, p5_labels_binary],\n",
    "\n",
    "[p4_data, p1_data, p4_labels_binary, p1_labels_binary],\n",
    "\n",
    "[p4_data, p2_data, p4_labels_binary, p2_labels_binary],\n",
    "\n",
    "[p4_data, p3_data, p4_labels_binary, p3_labels_binary],\n",
    "\n",
    "[p4_data, p5_data, p4_labels_binary, p5_labels_binary],\n",
    "\n",
    "[p5_data, p1_data, p5_labels_binary, p1_labels_binary],\n",
    "\n",
    "[p5_data, p2_data, p5_labels_binary, p2_labels_binary],\n",
    "\n",
    "[p5_data, p3_data, p5_labels_binary, p3_labels_binary],\n",
    "\n",
    "[p5_data, p4_data, p5_labels_binary, p4_labels_binary],\n",
    "]"
   ]
  },
  {
   "cell_type": "markdown",
   "id": "9fee1fc1",
   "metadata": {},
   "source": [
    "# 4. Experiment"
   ]
  },
  {
   "cell_type": "markdown",
   "id": "9a0b95eb",
   "metadata": {},
   "source": [
    "### Binary"
   ]
  },
  {
   "cell_type": "code",
   "execution_count": 12,
   "id": "20acd0a5",
   "metadata": {},
   "outputs": [
    {
     "name": "stderr",
     "output_type": "stream",
     "text": [
      "/home/dmlab/miniconda3/lib/python3.9/site-packages/sktime/classification/interval_based/_cif.py:296: RuntimeWarning: overflow encountered in multiply\n",
      "  transformed_x = transformed_x.round(8)\n"
     ]
    },
    {
     "ename": "ValueError",
     "evalue": "Input X contains NaN.",
     "output_type": "error",
     "traceback": [
      "\u001b[0;31m---------------------------------------------------------------------------\u001b[0m",
      "\u001b[0;31mValueError\u001b[0m                                Traceback (most recent call last)",
      "\u001b[0;32m/tmp/ipykernel_7844/1898376156.py\u001b[0m in \u001b[0;36m<module>\u001b[0;34m\u001b[0m\n\u001b[1;32m      7\u001b[0m     \u001b[0;31m# Fit CLF\u001b[0m\u001b[0;34m\u001b[0m\u001b[0;34m\u001b[0m\u001b[0;34m\u001b[0m\u001b[0m\n\u001b[1;32m      8\u001b[0m     \u001b[0mclf\u001b[0m \u001b[0;34m=\u001b[0m \u001b[0mCanonicalIntervalForest\u001b[0m\u001b[0;34m(\u001b[0m\u001b[0mrandom_state\u001b[0m\u001b[0;34m=\u001b[0m\u001b[0;36m21\u001b[0m\u001b[0;34m)\u001b[0m\u001b[0;34m\u001b[0m\u001b[0;34m\u001b[0m\u001b[0m\n\u001b[0;32m----> 9\u001b[0;31m     \u001b[0mclf\u001b[0m\u001b[0;34m.\u001b[0m\u001b[0mfit\u001b[0m\u001b[0;34m(\u001b[0m\u001b[0mi\u001b[0m\u001b[0;34m[\u001b[0m\u001b[0;36m0\u001b[0m\u001b[0;34m]\u001b[0m\u001b[0;34m,\u001b[0m \u001b[0mi\u001b[0m\u001b[0;34m[\u001b[0m\u001b[0;36m2\u001b[0m\u001b[0;34m]\u001b[0m\u001b[0;34m)\u001b[0m\u001b[0;34m\u001b[0m\u001b[0;34m\u001b[0m\u001b[0m\n\u001b[0m\u001b[1;32m     10\u001b[0m \u001b[0;34m\u001b[0m\u001b[0m\n\u001b[1;32m     11\u001b[0m     \u001b[0;31m# Predict\u001b[0m\u001b[0;34m\u001b[0m\u001b[0;34m\u001b[0m\u001b[0;34m\u001b[0m\u001b[0m\n",
      "\u001b[0;32m~/miniconda3/lib/python3.9/site-packages/sktime/classification/base.py\u001b[0m in \u001b[0;36mfit\u001b[0;34m(self, X, y)\u001b[0m\n\u001b[1;32m    125\u001b[0m         \u001b[0;32mfor\u001b[0m \u001b[0mindex\u001b[0m\u001b[0;34m,\u001b[0m \u001b[0mclass_val\u001b[0m \u001b[0;32min\u001b[0m \u001b[0menumerate\u001b[0m\u001b[0;34m(\u001b[0m\u001b[0mself\u001b[0m\u001b[0;34m.\u001b[0m\u001b[0mclasses_\u001b[0m\u001b[0;34m)\u001b[0m\u001b[0;34m:\u001b[0m\u001b[0;34m\u001b[0m\u001b[0;34m\u001b[0m\u001b[0m\n\u001b[1;32m    126\u001b[0m             \u001b[0mself\u001b[0m\u001b[0;34m.\u001b[0m\u001b[0m_class_dictionary\u001b[0m\u001b[0;34m[\u001b[0m\u001b[0mclass_val\u001b[0m\u001b[0;34m]\u001b[0m \u001b[0;34m=\u001b[0m \u001b[0mindex\u001b[0m\u001b[0;34m\u001b[0m\u001b[0;34m\u001b[0m\u001b[0m\n\u001b[0;32m--> 127\u001b[0;31m         \u001b[0mself\u001b[0m\u001b[0;34m.\u001b[0m\u001b[0m_fit\u001b[0m\u001b[0;34m(\u001b[0m\u001b[0mX\u001b[0m\u001b[0;34m,\u001b[0m \u001b[0my\u001b[0m\u001b[0;34m)\u001b[0m\u001b[0;34m\u001b[0m\u001b[0;34m\u001b[0m\u001b[0m\n\u001b[0m\u001b[1;32m    128\u001b[0m         \u001b[0mself\u001b[0m\u001b[0;34m.\u001b[0m\u001b[0mfit_time_\u001b[0m \u001b[0;34m=\u001b[0m \u001b[0mint\u001b[0m\u001b[0;34m(\u001b[0m\u001b[0mround\u001b[0m\u001b[0;34m(\u001b[0m\u001b[0mtime\u001b[0m\u001b[0;34m.\u001b[0m\u001b[0mtime\u001b[0m\u001b[0;34m(\u001b[0m\u001b[0;34m)\u001b[0m \u001b[0;34m*\u001b[0m \u001b[0;36m1000\u001b[0m\u001b[0;34m)\u001b[0m\u001b[0;34m)\u001b[0m \u001b[0;34m-\u001b[0m \u001b[0mstart\u001b[0m\u001b[0;34m\u001b[0m\u001b[0;34m\u001b[0m\u001b[0m\n\u001b[1;32m    129\u001b[0m         \u001b[0;31m# this should happen last\u001b[0m\u001b[0;34m\u001b[0m\u001b[0;34m\u001b[0m\u001b[0;34m\u001b[0m\u001b[0m\n",
      "\u001b[0;32m~/miniconda3/lib/python3.9/site-packages/sktime/classification/interval_based/_cif.py\u001b[0m in \u001b[0;36m_fit\u001b[0;34m(self, X, y)\u001b[0m\n\u001b[1;32m    192\u001b[0m             \u001b[0mself\u001b[0m\u001b[0;34m.\u001b[0m\u001b[0m_max_interval\u001b[0m \u001b[0;34m=\u001b[0m \u001b[0mself\u001b[0m\u001b[0;34m.\u001b[0m\u001b[0m_min_interval\u001b[0m\u001b[0;34m\u001b[0m\u001b[0;34m\u001b[0m\u001b[0m\n\u001b[1;32m    193\u001b[0m \u001b[0;34m\u001b[0m\u001b[0m\n\u001b[0;32m--> 194\u001b[0;31m         fit = Parallel(n_jobs=self._threads_to_use)(\n\u001b[0m\u001b[1;32m    195\u001b[0m             delayed(self._fit_estimator)(\n\u001b[1;32m    196\u001b[0m                 \u001b[0mX\u001b[0m\u001b[0;34m,\u001b[0m\u001b[0;34m\u001b[0m\u001b[0;34m\u001b[0m\u001b[0m\n",
      "\u001b[0;32m~/miniconda3/lib/python3.9/site-packages/joblib/parallel.py\u001b[0m in \u001b[0;36m__call__\u001b[0;34m(self, iterable)\u001b[0m\n\u001b[1;32m   1039\u001b[0m             \u001b[0;31m# remaining jobs.\u001b[0m\u001b[0;34m\u001b[0m\u001b[0;34m\u001b[0m\u001b[0;34m\u001b[0m\u001b[0m\n\u001b[1;32m   1040\u001b[0m             \u001b[0mself\u001b[0m\u001b[0;34m.\u001b[0m\u001b[0m_iterating\u001b[0m \u001b[0;34m=\u001b[0m \u001b[0;32mFalse\u001b[0m\u001b[0;34m\u001b[0m\u001b[0;34m\u001b[0m\u001b[0m\n\u001b[0;32m-> 1041\u001b[0;31m             \u001b[0;32mif\u001b[0m \u001b[0mself\u001b[0m\u001b[0;34m.\u001b[0m\u001b[0mdispatch_one_batch\u001b[0m\u001b[0;34m(\u001b[0m\u001b[0miterator\u001b[0m\u001b[0;34m)\u001b[0m\u001b[0;34m:\u001b[0m\u001b[0;34m\u001b[0m\u001b[0;34m\u001b[0m\u001b[0m\n\u001b[0m\u001b[1;32m   1042\u001b[0m                 \u001b[0mself\u001b[0m\u001b[0;34m.\u001b[0m\u001b[0m_iterating\u001b[0m \u001b[0;34m=\u001b[0m \u001b[0mself\u001b[0m\u001b[0;34m.\u001b[0m\u001b[0m_original_iterator\u001b[0m \u001b[0;32mis\u001b[0m \u001b[0;32mnot\u001b[0m \u001b[0;32mNone\u001b[0m\u001b[0;34m\u001b[0m\u001b[0;34m\u001b[0m\u001b[0m\n\u001b[1;32m   1043\u001b[0m \u001b[0;34m\u001b[0m\u001b[0m\n",
      "\u001b[0;32m~/miniconda3/lib/python3.9/site-packages/joblib/parallel.py\u001b[0m in \u001b[0;36mdispatch_one_batch\u001b[0;34m(self, iterator)\u001b[0m\n\u001b[1;32m    857\u001b[0m                 \u001b[0;32mreturn\u001b[0m \u001b[0;32mFalse\u001b[0m\u001b[0;34m\u001b[0m\u001b[0;34m\u001b[0m\u001b[0m\n\u001b[1;32m    858\u001b[0m             \u001b[0;32melse\u001b[0m\u001b[0;34m:\u001b[0m\u001b[0;34m\u001b[0m\u001b[0;34m\u001b[0m\u001b[0m\n\u001b[0;32m--> 859\u001b[0;31m                 \u001b[0mself\u001b[0m\u001b[0;34m.\u001b[0m\u001b[0m_dispatch\u001b[0m\u001b[0;34m(\u001b[0m\u001b[0mtasks\u001b[0m\u001b[0;34m)\u001b[0m\u001b[0;34m\u001b[0m\u001b[0;34m\u001b[0m\u001b[0m\n\u001b[0m\u001b[1;32m    860\u001b[0m                 \u001b[0;32mreturn\u001b[0m \u001b[0;32mTrue\u001b[0m\u001b[0;34m\u001b[0m\u001b[0;34m\u001b[0m\u001b[0m\n\u001b[1;32m    861\u001b[0m \u001b[0;34m\u001b[0m\u001b[0m\n",
      "\u001b[0;32m~/miniconda3/lib/python3.9/site-packages/joblib/parallel.py\u001b[0m in \u001b[0;36m_dispatch\u001b[0;34m(self, batch)\u001b[0m\n\u001b[1;32m    775\u001b[0m         \u001b[0;32mwith\u001b[0m \u001b[0mself\u001b[0m\u001b[0;34m.\u001b[0m\u001b[0m_lock\u001b[0m\u001b[0;34m:\u001b[0m\u001b[0;34m\u001b[0m\u001b[0;34m\u001b[0m\u001b[0m\n\u001b[1;32m    776\u001b[0m             \u001b[0mjob_idx\u001b[0m \u001b[0;34m=\u001b[0m \u001b[0mlen\u001b[0m\u001b[0;34m(\u001b[0m\u001b[0mself\u001b[0m\u001b[0;34m.\u001b[0m\u001b[0m_jobs\u001b[0m\u001b[0;34m)\u001b[0m\u001b[0;34m\u001b[0m\u001b[0;34m\u001b[0m\u001b[0m\n\u001b[0;32m--> 777\u001b[0;31m             \u001b[0mjob\u001b[0m \u001b[0;34m=\u001b[0m \u001b[0mself\u001b[0m\u001b[0;34m.\u001b[0m\u001b[0m_backend\u001b[0m\u001b[0;34m.\u001b[0m\u001b[0mapply_async\u001b[0m\u001b[0;34m(\u001b[0m\u001b[0mbatch\u001b[0m\u001b[0;34m,\u001b[0m \u001b[0mcallback\u001b[0m\u001b[0;34m=\u001b[0m\u001b[0mcb\u001b[0m\u001b[0;34m)\u001b[0m\u001b[0;34m\u001b[0m\u001b[0;34m\u001b[0m\u001b[0m\n\u001b[0m\u001b[1;32m    778\u001b[0m             \u001b[0;31m# A job can complete so quickly than its callback is\u001b[0m\u001b[0;34m\u001b[0m\u001b[0;34m\u001b[0m\u001b[0;34m\u001b[0m\u001b[0m\n\u001b[1;32m    779\u001b[0m             \u001b[0;31m# called before we get here, causing self._jobs to\u001b[0m\u001b[0;34m\u001b[0m\u001b[0;34m\u001b[0m\u001b[0;34m\u001b[0m\u001b[0m\n",
      "\u001b[0;32m~/miniconda3/lib/python3.9/site-packages/joblib/_parallel_backends.py\u001b[0m in \u001b[0;36mapply_async\u001b[0;34m(self, func, callback)\u001b[0m\n\u001b[1;32m    206\u001b[0m     \u001b[0;32mdef\u001b[0m \u001b[0mapply_async\u001b[0m\u001b[0;34m(\u001b[0m\u001b[0mself\u001b[0m\u001b[0;34m,\u001b[0m \u001b[0mfunc\u001b[0m\u001b[0;34m,\u001b[0m \u001b[0mcallback\u001b[0m\u001b[0;34m=\u001b[0m\u001b[0;32mNone\u001b[0m\u001b[0;34m)\u001b[0m\u001b[0;34m:\u001b[0m\u001b[0;34m\u001b[0m\u001b[0;34m\u001b[0m\u001b[0m\n\u001b[1;32m    207\u001b[0m         \u001b[0;34m\"\"\"Schedule a func to be run\"\"\"\u001b[0m\u001b[0;34m\u001b[0m\u001b[0;34m\u001b[0m\u001b[0m\n\u001b[0;32m--> 208\u001b[0;31m         \u001b[0mresult\u001b[0m \u001b[0;34m=\u001b[0m \u001b[0mImmediateResult\u001b[0m\u001b[0;34m(\u001b[0m\u001b[0mfunc\u001b[0m\u001b[0;34m)\u001b[0m\u001b[0;34m\u001b[0m\u001b[0;34m\u001b[0m\u001b[0m\n\u001b[0m\u001b[1;32m    209\u001b[0m         \u001b[0;32mif\u001b[0m \u001b[0mcallback\u001b[0m\u001b[0;34m:\u001b[0m\u001b[0;34m\u001b[0m\u001b[0;34m\u001b[0m\u001b[0m\n\u001b[1;32m    210\u001b[0m             \u001b[0mcallback\u001b[0m\u001b[0;34m(\u001b[0m\u001b[0mresult\u001b[0m\u001b[0;34m)\u001b[0m\u001b[0;34m\u001b[0m\u001b[0;34m\u001b[0m\u001b[0m\n",
      "\u001b[0;32m~/miniconda3/lib/python3.9/site-packages/joblib/_parallel_backends.py\u001b[0m in \u001b[0;36m__init__\u001b[0;34m(self, batch)\u001b[0m\n\u001b[1;32m    570\u001b[0m         \u001b[0;31m# Don't delay the application, to avoid keeping the input\u001b[0m\u001b[0;34m\u001b[0m\u001b[0;34m\u001b[0m\u001b[0;34m\u001b[0m\u001b[0m\n\u001b[1;32m    571\u001b[0m         \u001b[0;31m# arguments in memory\u001b[0m\u001b[0;34m\u001b[0m\u001b[0;34m\u001b[0m\u001b[0;34m\u001b[0m\u001b[0m\n\u001b[0;32m--> 572\u001b[0;31m         \u001b[0mself\u001b[0m\u001b[0;34m.\u001b[0m\u001b[0mresults\u001b[0m \u001b[0;34m=\u001b[0m \u001b[0mbatch\u001b[0m\u001b[0;34m(\u001b[0m\u001b[0;34m)\u001b[0m\u001b[0;34m\u001b[0m\u001b[0;34m\u001b[0m\u001b[0m\n\u001b[0m\u001b[1;32m    573\u001b[0m \u001b[0;34m\u001b[0m\u001b[0m\n\u001b[1;32m    574\u001b[0m     \u001b[0;32mdef\u001b[0m \u001b[0mget\u001b[0m\u001b[0;34m(\u001b[0m\u001b[0mself\u001b[0m\u001b[0;34m)\u001b[0m\u001b[0;34m:\u001b[0m\u001b[0;34m\u001b[0m\u001b[0;34m\u001b[0m\u001b[0m\n",
      "\u001b[0;32m~/miniconda3/lib/python3.9/site-packages/joblib/parallel.py\u001b[0m in \u001b[0;36m__call__\u001b[0;34m(self)\u001b[0m\n\u001b[1;32m    260\u001b[0m         \u001b[0;31m# change the default number of processes to -1\u001b[0m\u001b[0;34m\u001b[0m\u001b[0;34m\u001b[0m\u001b[0;34m\u001b[0m\u001b[0m\n\u001b[1;32m    261\u001b[0m         \u001b[0;32mwith\u001b[0m \u001b[0mparallel_backend\u001b[0m\u001b[0;34m(\u001b[0m\u001b[0mself\u001b[0m\u001b[0;34m.\u001b[0m\u001b[0m_backend\u001b[0m\u001b[0;34m,\u001b[0m \u001b[0mn_jobs\u001b[0m\u001b[0;34m=\u001b[0m\u001b[0mself\u001b[0m\u001b[0;34m.\u001b[0m\u001b[0m_n_jobs\u001b[0m\u001b[0;34m)\u001b[0m\u001b[0;34m:\u001b[0m\u001b[0;34m\u001b[0m\u001b[0;34m\u001b[0m\u001b[0m\n\u001b[0;32m--> 262\u001b[0;31m             return [func(*args, **kwargs)\n\u001b[0m\u001b[1;32m    263\u001b[0m                     for func, args, kwargs in self.items]\n\u001b[1;32m    264\u001b[0m \u001b[0;34m\u001b[0m\u001b[0m\n",
      "\u001b[0;32m~/miniconda3/lib/python3.9/site-packages/joblib/parallel.py\u001b[0m in \u001b[0;36m<listcomp>\u001b[0;34m(.0)\u001b[0m\n\u001b[1;32m    260\u001b[0m         \u001b[0;31m# change the default number of processes to -1\u001b[0m\u001b[0;34m\u001b[0m\u001b[0;34m\u001b[0m\u001b[0;34m\u001b[0m\u001b[0m\n\u001b[1;32m    261\u001b[0m         \u001b[0;32mwith\u001b[0m \u001b[0mparallel_backend\u001b[0m\u001b[0;34m(\u001b[0m\u001b[0mself\u001b[0m\u001b[0;34m.\u001b[0m\u001b[0m_backend\u001b[0m\u001b[0;34m,\u001b[0m \u001b[0mn_jobs\u001b[0m\u001b[0;34m=\u001b[0m\u001b[0mself\u001b[0m\u001b[0;34m.\u001b[0m\u001b[0m_n_jobs\u001b[0m\u001b[0;34m)\u001b[0m\u001b[0;34m:\u001b[0m\u001b[0;34m\u001b[0m\u001b[0;34m\u001b[0m\u001b[0m\n\u001b[0;32m--> 262\u001b[0;31m             return [func(*args, **kwargs)\n\u001b[0m\u001b[1;32m    263\u001b[0m                     for func, args, kwargs in self.items]\n\u001b[1;32m    264\u001b[0m \u001b[0;34m\u001b[0m\u001b[0m\n",
      "\u001b[0;32m~/miniconda3/lib/python3.9/site-packages/sktime/classification/interval_based/_cif.py\u001b[0m in \u001b[0;36m_fit_estimator\u001b[0;34m(self, X, y, idx)\u001b[0m\n\u001b[1;32m    301\u001b[0m         \u001b[0;32melse\u001b[0m\u001b[0;34m:\u001b[0m\u001b[0;34m\u001b[0m\u001b[0;34m\u001b[0m\u001b[0m\n\u001b[1;32m    302\u001b[0m             \u001b[0mtransformed_x\u001b[0m \u001b[0;34m=\u001b[0m \u001b[0mnp\u001b[0m\u001b[0;34m.\u001b[0m\u001b[0mnan_to_num\u001b[0m\u001b[0;34m(\u001b[0m\u001b[0mtransformed_x\u001b[0m\u001b[0;34m,\u001b[0m \u001b[0;32mFalse\u001b[0m\u001b[0;34m,\u001b[0m \u001b[0;36m0\u001b[0m\u001b[0;34m,\u001b[0m \u001b[0;36m0\u001b[0m\u001b[0;34m,\u001b[0m \u001b[0;36m0\u001b[0m\u001b[0;34m)\u001b[0m\u001b[0;34m\u001b[0m\u001b[0;34m\u001b[0m\u001b[0m\n\u001b[0;32m--> 303\u001b[0;31m         \u001b[0mtree\u001b[0m\u001b[0;34m.\u001b[0m\u001b[0mfit\u001b[0m\u001b[0;34m(\u001b[0m\u001b[0mtransformed_x\u001b[0m\u001b[0;34m,\u001b[0m \u001b[0my\u001b[0m\u001b[0;34m)\u001b[0m\u001b[0;34m\u001b[0m\u001b[0;34m\u001b[0m\u001b[0m\n\u001b[0m\u001b[1;32m    304\u001b[0m \u001b[0;34m\u001b[0m\u001b[0m\n\u001b[1;32m    305\u001b[0m         \u001b[0;32mreturn\u001b[0m \u001b[0;34m[\u001b[0m\u001b[0mtree\u001b[0m\u001b[0;34m,\u001b[0m \u001b[0mintervals\u001b[0m\u001b[0;34m,\u001b[0m \u001b[0mdims\u001b[0m\u001b[0;34m,\u001b[0m \u001b[0matts\u001b[0m\u001b[0;34m]\u001b[0m\u001b[0;34m\u001b[0m\u001b[0;34m\u001b[0m\u001b[0m\n",
      "\u001b[0;32m~/miniconda3/lib/python3.9/site-packages/sktime/contrib/vector_classifiers/_continuous_interval_tree.py\u001b[0m in \u001b[0;36mfit\u001b[0;34m(self, X, y)\u001b[0m\n\u001b[1;32m    126\u001b[0m                 \u001b[0;34m\"A 2d numpy array is required.\"\u001b[0m\u001b[0;34m\u001b[0m\u001b[0;34m\u001b[0m\u001b[0m\n\u001b[1;32m    127\u001b[0m             )\n\u001b[0;32m--> 128\u001b[0;31m         \u001b[0mX\u001b[0m\u001b[0;34m,\u001b[0m \u001b[0my\u001b[0m \u001b[0;34m=\u001b[0m \u001b[0mcheck_X_y\u001b[0m\u001b[0;34m(\u001b[0m\u001b[0mX\u001b[0m\u001b[0;34m,\u001b[0m \u001b[0my\u001b[0m\u001b[0;34m)\u001b[0m\u001b[0;34m\u001b[0m\u001b[0;34m\u001b[0m\u001b[0m\n\u001b[0m\u001b[1;32m    129\u001b[0m \u001b[0;34m\u001b[0m\u001b[0m\n\u001b[1;32m    130\u001b[0m         \u001b[0mself\u001b[0m\u001b[0;34m.\u001b[0m\u001b[0mclasses_\u001b[0m \u001b[0;34m=\u001b[0m \u001b[0mnp\u001b[0m\u001b[0;34m.\u001b[0m\u001b[0munique\u001b[0m\u001b[0;34m(\u001b[0m\u001b[0my\u001b[0m\u001b[0;34m)\u001b[0m\u001b[0;34m\u001b[0m\u001b[0;34m\u001b[0m\u001b[0m\n",
      "\u001b[0;32m~/miniconda3/lib/python3.9/site-packages/sklearn/utils/validation.py\u001b[0m in \u001b[0;36mcheck_X_y\u001b[0;34m(X, y, accept_sparse, accept_large_sparse, dtype, order, copy, force_all_finite, ensure_2d, allow_nd, multi_output, ensure_min_samples, ensure_min_features, y_numeric, estimator)\u001b[0m\n\u001b[1;32m   1072\u001b[0m         )\n\u001b[1;32m   1073\u001b[0m \u001b[0;34m\u001b[0m\u001b[0m\n\u001b[0;32m-> 1074\u001b[0;31m     X = check_array(\n\u001b[0m\u001b[1;32m   1075\u001b[0m         \u001b[0mX\u001b[0m\u001b[0;34m,\u001b[0m\u001b[0;34m\u001b[0m\u001b[0;34m\u001b[0m\u001b[0m\n\u001b[1;32m   1076\u001b[0m         \u001b[0maccept_sparse\u001b[0m\u001b[0;34m=\u001b[0m\u001b[0maccept_sparse\u001b[0m\u001b[0;34m,\u001b[0m\u001b[0;34m\u001b[0m\u001b[0;34m\u001b[0m\u001b[0m\n",
      "\u001b[0;32m~/miniconda3/lib/python3.9/site-packages/sklearn/utils/validation.py\u001b[0m in \u001b[0;36mcheck_array\u001b[0;34m(array, accept_sparse, accept_large_sparse, dtype, order, copy, force_all_finite, ensure_2d, allow_nd, ensure_min_samples, ensure_min_features, estimator, input_name)\u001b[0m\n\u001b[1;32m    897\u001b[0m \u001b[0;34m\u001b[0m\u001b[0m\n\u001b[1;32m    898\u001b[0m         \u001b[0;32mif\u001b[0m \u001b[0mforce_all_finite\u001b[0m\u001b[0;34m:\u001b[0m\u001b[0;34m\u001b[0m\u001b[0;34m\u001b[0m\u001b[0m\n\u001b[0;32m--> 899\u001b[0;31m             _assert_all_finite(\n\u001b[0m\u001b[1;32m    900\u001b[0m                 \u001b[0marray\u001b[0m\u001b[0;34m,\u001b[0m\u001b[0;34m\u001b[0m\u001b[0;34m\u001b[0m\u001b[0m\n\u001b[1;32m    901\u001b[0m                 \u001b[0minput_name\u001b[0m\u001b[0;34m=\u001b[0m\u001b[0minput_name\u001b[0m\u001b[0;34m,\u001b[0m\u001b[0;34m\u001b[0m\u001b[0;34m\u001b[0m\u001b[0m\n",
      "\u001b[0;32m~/miniconda3/lib/python3.9/site-packages/sklearn/utils/validation.py\u001b[0m in \u001b[0;36m_assert_all_finite\u001b[0;34m(X, allow_nan, msg_dtype, estimator_name, input_name)\u001b[0m\n\u001b[1;32m    144\u001b[0m                     \u001b[0;34m\"#estimators-that-handle-nan-values\"\u001b[0m\u001b[0;34m\u001b[0m\u001b[0;34m\u001b[0m\u001b[0m\n\u001b[1;32m    145\u001b[0m                 )\n\u001b[0;32m--> 146\u001b[0;31m             \u001b[0;32mraise\u001b[0m \u001b[0mValueError\u001b[0m\u001b[0;34m(\u001b[0m\u001b[0mmsg_err\u001b[0m\u001b[0;34m)\u001b[0m\u001b[0;34m\u001b[0m\u001b[0;34m\u001b[0m\u001b[0m\n\u001b[0m\u001b[1;32m    147\u001b[0m \u001b[0;34m\u001b[0m\u001b[0m\n\u001b[1;32m    148\u001b[0m     \u001b[0;31m# for object dtype data, we only check for NaNs (GH-13254)\u001b[0m\u001b[0;34m\u001b[0m\u001b[0;34m\u001b[0m\u001b[0;34m\u001b[0m\u001b[0m\n",
      "\u001b[0;31mValueError\u001b[0m: Input X contains NaN."
     ]
    }
   ],
   "source": [
    "st = time.time()\n",
    "\n",
    "cm = []\n",
    "\n",
    "for i in pp_20_all:\n",
    "    \n",
    "    # Fit CLF\n",
    "    clf = CanonicalIntervalForest(random_state=21)\n",
    "    clf.fit(i[0], i[2])\n",
    "\n",
    "    # Predict\n",
    "    y_pred = clf.predict(i[1])\n",
    "    \n",
    "    #confusion matrix\n",
    "    score = confusion_matrix(i[3],y_pred)\n",
    "    cm.append(score)\n",
    "\n",
    "tss = []\n",
    "hss2 = []\n",
    "\n",
    "for i in cm:\n",
    "\n",
    "    TN, FP, FN, TP = i.ravel()\n",
    "    TN = np.array(TN)\n",
    "    FP = np.array(FP)\n",
    "    FN = np.array(FN)\n",
    "    TP = np.array(TP)\n",
    "\n",
    "    acc = (TP + TN) / (TP + FN + TN + FP)\n",
    "    pr_pos = TP/(TP + FP)\n",
    "    pr_neg = TN/(TN + FN)\n",
    "    rc_pos = TP/(TP + FN)\n",
    "    rc_neg = TN/(TN + FP)\n",
    "    f1_pos = (2 * pr_pos * rc_pos) / (pr_pos + rc_pos)\n",
    "    f1_neg = (2 * pr_neg * rc_neg) / (pr_neg + rc_neg)\n",
    "\n",
    "    P = TP + FN\n",
    "    N = TN + FP\n",
    "\n",
    "    HSS1 = (TP + TN - N) / P\n",
    "    HSS2 = (2*((TP*TN)-(FP*FN)))/(P*(FN+TN)+(TP+FP)*N)\n",
    "\n",
    "    CH = ((TP+FP)*(TP+FN))/(P+N)\n",
    "    GS = (TP-CH)/(TP+FP+FN-CH)\n",
    "\n",
    "    TSS = ((TP*TN)-(FP*FN))/(P*N)\n",
    "\n",
    "    tss.append(TSS)\n",
    "    hss2.append(HSS2)\n",
    "\n",
    "et = time.time()\n",
    "ft = et-st\n",
    "print(\"Execution Time:\", ft, \"seconds\")"
   ]
  },
  {
   "cell_type": "code",
   "execution_count": null,
   "id": "2148de25",
   "metadata": {
    "scrolled": true
   },
   "outputs": [],
   "source": [
    "print(\"TSS and HSS2 score for CLF without B and C class labels and BINARY: \\n\")\n",
    "print(tss)\n",
    "print(hss2)"
   ]
  },
  {
   "cell_type": "markdown",
   "id": "cdd71676",
   "metadata": {},
   "source": [
    "### ALL LABELS"
   ]
  },
  {
   "cell_type": "code",
   "execution_count": null,
   "id": "24bd5d80",
   "metadata": {},
   "outputs": [],
   "source": [
    "st = time.time()\n",
    "\n",
    "cm = []\n",
    "\n",
    "for i in pp_20_all:\n",
    "    \n",
    "    # Fit CLF\n",
    "    clf = CanonicalIntervalForest(random_state=21)\n",
    "    clf.fit(i[0], i[2])\n",
    "\n",
    "    # Predict\n",
    "    y_pred = clf.predict(i[1])\n",
    "    \n",
    "    #confusion matrix\n",
    "    score = confusion_matrix(i[3],y_pred)\n",
    "    cm.append(score)\n",
    "\n",
    "tss = []\n",
    "hss2 = []\n",
    "\n",
    "for i in cm:\n",
    "\n",
    "    listt = list(i.ravel())\n",
    "    TP = listt[4] + listt[5] + listt[7] + listt[8]\n",
    "    FN = listt[3] + listt[6]\n",
    "    FP = listt[1] + listt[2]\n",
    "    TN = listt[0]\n",
    "\n",
    "    acc = (TP + TN) / (TP + FN + TN + FP)\n",
    "    pr_pos = TP/(TP + FP)\n",
    "    pr_neg = TN/(TN + FN)\n",
    "    rc_pos = TP/(TP + FN)\n",
    "    rc_neg = TN/(TN + FP)\n",
    "    f1_pos = (2 * pr_pos * rc_pos) / (pr_pos + rc_pos)\n",
    "    f1_neg = (2 * pr_neg * rc_neg) / (pr_neg + rc_neg)\n",
    "\n",
    "    P = TP + FN\n",
    "    N = TN + FP\n",
    "\n",
    "    HSS1 = (TP + TN - N) / P\n",
    "    HSS2 = (2*((TP*TN)-(FP*FN)))/(P*(FN+TN)+(TP+FP)*N)\n",
    "\n",
    "    CH = ((TP+FP)*(TP+FN))/(P+N)\n",
    "    GS = (TP-CH)/(TP+FP+FN-CH)\n",
    "\n",
    "    TSS = ((TP*TN)-(FP*FN))/(P*N)\n",
    "\n",
    "    tss.append(TSS)\n",
    "    hss2.append(HSS2)\n",
    "\n",
    "et = time.time()\n",
    "ft = et-st\n",
    "print(\"Execution Time:\", ft, \"seconds\")"
   ]
  },
  {
   "cell_type": "code",
   "execution_count": null,
   "id": "d9cfcfea",
   "metadata": {},
   "outputs": [],
   "source": [
    "print(\"TSS and HSS2 score for CLF without B and C class labels and ALL 3 LABELS: \\n\")\n",
    "print(tss)\n",
    "print(hss2)"
   ]
  },
  {
   "cell_type": "code",
   "execution_count": null,
   "id": "b3487ddb",
   "metadata": {},
   "outputs": [],
   "source": []
  }
 ],
 "metadata": {
  "kernelspec": {
   "display_name": "Python 3 (ipykernel)",
   "language": "python",
   "name": "python3"
  },
  "language_info": {
   "codemirror_mode": {
    "name": "ipython",
    "version": 3
   },
   "file_extension": ".py",
   "mimetype": "text/x-python",
   "name": "python",
   "nbconvert_exporter": "python",
   "pygments_lexer": "ipython3",
   "version": "3.9.7"
  }
 },
 "nbformat": 4,
 "nbformat_minor": 5
}
