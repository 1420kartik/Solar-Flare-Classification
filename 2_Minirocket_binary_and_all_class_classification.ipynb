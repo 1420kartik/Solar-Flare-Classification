{
 "cells": [
  {
   "cell_type": "markdown",
   "id": "1e2bfe6d",
   "metadata": {},
   "source": [
    "# 1. Imports"
   ]
  },
  {
   "cell_type": "code",
   "execution_count": 1,
   "id": "111d7ebe",
   "metadata": {
    "scrolled": true
   },
   "outputs": [],
   "source": [
    "import json\n",
    "import pandas as pd\n",
    "import numpy as np\n",
    "from sklearn.metrics import accuracy_score, confusion_matrix, adjusted_rand_score\n",
    "from sklearn.svm import SVC\n",
    "import pickle\n",
    "from pandas import DataFrame\n",
    "from sklearn.linear_model import RidgeClassifierCV\n",
    "from sklearn.pipeline import Pipeline\n",
    "from sktime.transformations.panel.rocket import Rocket\n",
    "from collections import Counter\n",
    "from matplotlib import pyplot\n",
    "from numpy import where\n",
    "import statistics\n",
    "from sklearn.model_selection import StratifiedKFold\n",
    "from sktime.transformations.panel.rocket import MiniRocket, MiniRocketMultivariate\n",
    "import matplotlib.pyplot as plt\n",
    "from datetime import datetime"
   ]
  },
  {
   "cell_type": "markdown",
   "id": "f36f393d",
   "metadata": {},
   "source": [
    "# 2. Data loading"
   ]
  },
  {
   "cell_type": "markdown",
   "id": "39367405",
   "metadata": {},
   "source": [
    "### 2.1 Original Data"
   ]
  },
  {
   "cell_type": "code",
   "execution_count": 25,
   "id": "312a3151",
   "metadata": {},
   "outputs": [
    {
     "name": "stdout",
     "output_type": "stream",
     "text": [
      "EXPERIMENTS START TIME = 2022-11-30 23:29:26.947922\n"
     ]
    }
   ],
   "source": [
    "#time\n",
    "now = datetime.now()\n",
    "print(\"EXPERIMENTS START TIME =\", now)"
   ]
  },
  {
   "cell_type": "code",
   "execution_count": 26,
   "id": "12947051",
   "metadata": {},
   "outputs": [],
   "source": [
    "p1_data = pd.read_pickle(r'../og_data/partition1_data.pkl')\n",
    "p2_data = pd.read_pickle(r'../og_data/partition2_data.pkl')\n",
    "p3_data = pd.read_pickle(r'../og_data/partition3_data.pkl')\n",
    "p4_data = pd.read_pickle(r'../og_data/partition4_data.pkl')\n",
    "p5_data = pd.read_pickle(r'../og_data/partition5_data.pkl')\n",
    "p1_labels = pd.read_pickle(r'../og_data/partition1_labels.pkl')\n",
    "p2_labels = pd.read_pickle(r'../og_data/partition2_labels.pkl')\n",
    "p3_labels = pd.read_pickle(r'../og_data/partition3_labels.pkl')\n",
    "p4_labels = pd.read_pickle(r'../og_data/partition4_labels.pkl')\n",
    "p5_labels = pd.read_pickle(r'../og_data/partition5_labels.pkl')"
   ]
  },
  {
   "cell_type": "markdown",
   "id": "9294e38a",
   "metadata": {},
   "source": [
    "### 2.2 Converting labels into Binary"
   ]
  },
  {
   "cell_type": "code",
   "execution_count": 27,
   "id": "1438dafc",
   "metadata": {},
   "outputs": [],
   "source": [
    "# converting labels into binary class\n",
    "p1_labels_binary = np.where(p1_labels == 'B', 'NF', p1_labels)\n",
    "p1_labels_binary = np.where(p1_labels_binary == 'C', 'NF', p1_labels_binary)\n",
    "p1_labels_binary = np.where(p1_labels_binary == 'F', 'NF', p1_labels_binary)\n",
    "p1_labels_binary = np.where(p1_labels_binary == 'M', 'F', p1_labels_binary)\n",
    "p1_labels_binary = np.where(p1_labels_binary == 'X', 'F', p1_labels_binary)\n",
    "\n",
    "p2_labels_binary = np.where(p2_labels == 'B', 'NF', p2_labels)\n",
    "p2_labels_binary = np.where(p2_labels_binary == 'C', 'NF', p2_labels_binary)\n",
    "p2_labels_binary = np.where(p2_labels_binary == 'F', 'NF', p2_labels_binary)\n",
    "p2_labels_binary = np.where(p2_labels_binary == 'M', 'F', p2_labels_binary)\n",
    "p2_labels_binary = np.where(p2_labels_binary == 'X', 'F', p2_labels_binary)\n",
    "\n",
    "p3_labels_binary = np.where(p3_labels == 'B', 'NF', p3_labels)\n",
    "p3_labels_binary = np.where(p3_labels_binary == 'C', 'NF', p3_labels_binary)\n",
    "p3_labels_binary = np.where(p3_labels_binary == 'F', 'NF', p3_labels_binary)\n",
    "p3_labels_binary = np.where(p3_labels_binary == 'M', 'F', p3_labels_binary)\n",
    "p3_labels_binary = np.where(p3_labels_binary == 'X', 'F', p3_labels_binary)\n",
    "\n",
    "p4_labels_binary = np.where(p4_labels == 'B', 'NF', p4_labels)\n",
    "p4_labels_binary = np.where(p4_labels_binary == 'C', 'NF', p4_labels_binary)\n",
    "p4_labels_binary = np.where(p4_labels_binary == 'F', 'NF', p4_labels_binary)\n",
    "p4_labels_binary = np.where(p4_labels_binary == 'M', 'F', p4_labels_binary)\n",
    "p4_labels_binary = np.where(p4_labels_binary == 'X', 'F', p4_labels_binary)\n",
    "\n",
    "p5_labels_binary = np.where(p5_labels == 'B', 'NF', p5_labels)\n",
    "p5_labels_binary = np.where(p5_labels_binary == 'C', 'NF', p5_labels_binary)\n",
    "p5_labels_binary = np.where(p5_labels_binary == 'F', 'NF', p5_labels_binary)\n",
    "p5_labels_binary = np.where(p5_labels_binary == 'M', 'F', p5_labels_binary)\n",
    "p5_labels_binary = np.where(p5_labels_binary == 'X', 'F', p5_labels_binary)"
   ]
  },
  {
   "cell_type": "markdown",
   "id": "8d78c9fc",
   "metadata": {},
   "source": [
    "# 3. All possible partition pair"
   ]
  },
  {
   "cell_type": "markdown",
   "id": "7dbe496b",
   "metadata": {},
   "source": [
    "Binary Labels"
   ]
  },
  {
   "cell_type": "code",
   "execution_count": 28,
   "id": "5c338f52",
   "metadata": {},
   "outputs": [],
   "source": [
    "pp_20_bin = [ \n",
    "[p1_data, p2_data, p1_labels_binary, p2_labels_binary],\n",
    "\n",
    "[p1_data, p3_data, p1_labels_binary, p3_labels_binary],\n",
    "\n",
    "[p1_data, p4_data, p1_labels_binary, p4_labels_binary],\n",
    "\n",
    "[p1_data, p5_data, p1_labels_binary, p5_labels_binary],\n",
    "\n",
    "[p2_data, p1_data, p2_labels_binary, p1_labels_binary],\n",
    "\n",
    "[p2_data, p3_data, p2_labels_binary, p3_labels_binary],\n",
    "\n",
    "[p2_data, p4_data, p2_labels_binary, p4_labels_binary],\n",
    "\n",
    "[p2_data, p5_data, p2_labels_binary, p5_labels_binary],\n",
    "\n",
    "[p3_data, p1_data, p3_labels_binary, p1_labels_binary],\n",
    "\n",
    "[p3_data, p2_data, p3_labels_binary, p2_labels_binary],\n",
    "\n",
    "[p3_data, p4_data, p3_labels_binary, p4_labels_binary],\n",
    "\n",
    "[p3_data, p5_data, p3_labels_binary, p5_labels_binary],\n",
    "\n",
    "[p4_data, p1_data, p4_labels_binary, p1_labels_binary],\n",
    "\n",
    "[p4_data, p2_data, p4_labels_binary, p2_labels_binary],\n",
    "\n",
    "[p4_data, p3_data, p4_labels_binary, p3_labels_binary],\n",
    "\n",
    "[p4_data, p5_data, p4_labels_binary, p5_labels_binary],\n",
    "\n",
    "[p5_data, p1_data, p5_labels_binary, p1_labels_binary],\n",
    "\n",
    "[p5_data, p2_data, p5_labels_binary, p2_labels_binary],\n",
    "\n",
    "[p5_data, p3_data, p5_labels_binary, p3_labels_binary],\n",
    "\n",
    "[p5_data, p4_data, p5_labels_binary, p4_labels_binary],\n",
    "]"
   ]
  },
  {
   "cell_type": "markdown",
   "id": "c57e362b",
   "metadata": {},
   "source": [
    "All Labels"
   ]
  },
  {
   "cell_type": "code",
   "execution_count": 29,
   "id": "e7156205",
   "metadata": {},
   "outputs": [],
   "source": [
    "pp_20_all = [ \n",
    "[p1_data, p2_data, p1_labels, p2_labels],\n",
    "\n",
    "[p1_data, p3_data, p1_labels, p3_labels],\n",
    "\n",
    "[p1_data, p4_data, p1_labels, p4_labels],\n",
    "\n",
    "[p1_data, p5_data, p1_labels, p5_labels],\n",
    "\n",
    "[p2_data, p1_data, p2_labels, p1_labels],\n",
    "\n",
    "[p2_data, p3_data, p2_labels, p3_labels],\n",
    "\n",
    "[p2_data, p4_data, p2_labels, p4_labels],\n",
    "\n",
    "[p2_data, p5_data, p2_labels, p5_labels],\n",
    "\n",
    "[p3_data, p1_data, p3_labels, p1_labels],\n",
    "\n",
    "[p3_data, p2_data, p3_labels, p2_labels],\n",
    "\n",
    "[p3_data, p4_data, p3_labels, p4_labels],\n",
    "\n",
    "[p3_data, p5_data, p3_labels, p5_labels],\n",
    "\n",
    "[p4_data, p1_data, p4_labels, p1_labels],\n",
    "\n",
    "[p4_data, p2_data, p4_labels, p2_labels],\n",
    "\n",
    "[p4_data, p3_data, p4_labels, p3_labels],\n",
    "\n",
    "[p4_data, p5_data, p4_labels, p5_labels],\n",
    "\n",
    "[p5_data, p1_data, p5_labels, p1_labels],\n",
    "\n",
    "[p5_data, p2_data, p5_labels, p2_labels],\n",
    "\n",
    "[p5_data, p3_data, p5_labels, p3_labels],\n",
    "\n",
    "[p5_data, p4_data, p5_labels, p4_labels],\n",
    "]"
   ]
  },
  {
   "cell_type": "markdown",
   "id": "8a789fc4",
   "metadata": {},
   "source": [
    "# 4. Experiment"
   ]
  },
  {
   "cell_type": "code",
   "execution_count": 30,
   "id": "67da8704",
   "metadata": {},
   "outputs": [],
   "source": [
    "version1 = MiniRocketMultivariate()\n",
    "version2 = Rocket()"
   ]
  },
  {
   "cell_type": "code",
   "execution_count": 32,
   "id": "20acd0a5",
   "metadata": {},
   "outputs": [],
   "source": [
    "def train_model_bin(version):\n",
    "\n",
    "    cm = []\n",
    "    \n",
    "    for i in pp_20_bin:\n",
    "\n",
    "        version.fit(i[0])\n",
    "        X_train_transform = version.transform(i[0])\n",
    "\n",
    "        classifier = RidgeClassifierCV(alphas=np.logspace(-3, 3, 10), normalize=True)\n",
    "        classifier.fit(X_train_transform, i[2])\n",
    "\n",
    "        X_test_transform = version.transform(i[1])\n",
    "\n",
    "        y_pred = classifier.predict(X_test_transform)\n",
    "\n",
    "        #confusion matrix\n",
    "        score = confusion_matrix(i[3],y_pred)\n",
    "        cm.append(score)\n",
    "\n",
    "    tss = []\n",
    "    hss2 = []\n",
    "    \n",
    "    for i in cm:\n",
    "        \n",
    "        TN, FP, FN, TP = i.ravel()\n",
    "        TN = np.array(TN)\n",
    "        FP = np.array(FP)\n",
    "        FN = np.array(FN)\n",
    "        TP = np.array(TP)\n",
    "        \n",
    "        acc = (TP + TN) / (TP + FN + TN + FP)\n",
    "        pr_pos = TP/(TP + FP)\n",
    "        pr_neg = TN/(TN + FN)\n",
    "        rc_pos = TP/(TP + FN)\n",
    "        rc_neg = TN/(TN + FP)\n",
    "        f1_pos = (2 * pr_pos * rc_pos) / (pr_pos + rc_pos)\n",
    "        f1_neg = (2 * pr_neg * rc_neg) / (pr_neg + rc_neg)\n",
    "        \n",
    "        P = TP + FN\n",
    "        N = TN + FP\n",
    "        \n",
    "        HSS1 = (TP + TN - N) / P\n",
    "        HSS2 = (2*((TP*TN)-(FP*FN)))/(P*(FN+TN)+(TP+FP)*N)\n",
    "        \n",
    "        CH = ((TP+FP)*(TP+FN))/(P+N)\n",
    "        GS = (TP-CH)/(TP+FP+FN-CH)\n",
    "        \n",
    "        TSS = ((TP*TN)-(FP*FN))/(P*N)\n",
    "        \n",
    "        tss.append(TSS)\n",
    "        hss2.append(HSS2)\n",
    "        \n",
    "    return tss, hss2\n",
    "\n",
    "def train_model_all(version):\n",
    "\n",
    "    cm = []\n",
    "    \n",
    "    for i in pp_20_all:\n",
    "\n",
    "        version.fit(i[0])\n",
    "        X_train_transform = version.transform(i[0])\n",
    "\n",
    "        classifier = RidgeClassifierCV(alphas=np.logspace(-3, 3, 10), normalize=True)\n",
    "        classifier.fit(X_train_transform, i[2])\n",
    "\n",
    "        X_test_transform = version.transform(i[1])\n",
    "\n",
    "        y_pred = classifier.predict(X_test_transform)\n",
    "\n",
    "        #confusion matrix\n",
    "        score = confusion_matrix(i[3],y_pred)\n",
    "        cm.append(score)\n",
    "\n",
    "    tss = []\n",
    "    hss2 = []\n",
    "    \n",
    "    for i in cm:\n",
    "        \n",
    "        listt = list(i.ravel())\n",
    "        TP = listt[18] + listt[19] + listt[23] + listt[24]\n",
    "        FN = listt[15] + listt[16] + listt[17] + listt[20] + listt[21] + listt[22]\n",
    "        FP = listt[3] + listt[4] + listt[8] + listt[9] + listt[13] + listt[14]\n",
    "        TN = listt[0] + listt[1] + listt[2] + listt[5] + listt[6] + listt[7] + listt[10] + listt[11] + listt[12]\n",
    "\n",
    "        acc = (TP + TN) / (TP + FN + TN + FP)\n",
    "        pr_pos = TP/(TP + FP)\n",
    "        pr_neg = TN/(TN + FN)\n",
    "        rc_pos = TP/(TP + FN)\n",
    "        rc_neg = TN/(TN + FP)\n",
    "        f1_pos = (2 * pr_pos * rc_pos) / (pr_pos + rc_pos)\n",
    "        f1_neg = (2 * pr_neg * rc_neg) / (pr_neg + rc_neg)\n",
    "        \n",
    "        P = TP + FN\n",
    "        N = TN + FP\n",
    "        \n",
    "        HSS1 = (TP + TN - N) / P\n",
    "        HSS2 = (2*((TP*TN)-(FP*FN)))/(P*(FN+TN)+(TP+FP)*N)\n",
    "        \n",
    "        CH = ((TP+FP)*(TP+FN))/(P+N)\n",
    "        GS = (TP-CH)/(TP+FP+FN-CH)\n",
    "        \n",
    "        TSS = ((TP*TN)-(FP*FN))/(P*N)\n",
    "        \n",
    "        tss.append(TSS)\n",
    "        hss2.append(HSS2)\n",
    "        \n",
    "    return tss, hss2"
   ]
  },
  {
   "cell_type": "markdown",
   "id": "097c1c3c",
   "metadata": {},
   "source": [
    "### 4.1 Binary Labels"
   ]
  },
  {
   "cell_type": "markdown",
   "id": "e482214d",
   "metadata": {},
   "source": [
    "#### 4.1.1 Mini Rocket"
   ]
  },
  {
   "cell_type": "code",
   "execution_count": 33,
   "id": "b2e060dc",
   "metadata": {
    "scrolled": true
   },
   "outputs": [
    {
     "name": "stdout",
     "output_type": "stream",
     "text": [
      "MiniROCKET with Binary Labels START TIME = 2022-11-30 23:30:57.763588\n"
     ]
    }
   ],
   "source": [
    "#time\n",
    "now = datetime.now()\n",
    "print(\"MiniROCKET with Binary Labels START TIME =\", now)"
   ]
  },
  {
   "cell_type": "code",
   "execution_count": 9,
   "id": "0e3ee396",
   "metadata": {},
   "outputs": [],
   "source": [
    "tss_mr_bin, hss2_mr_bin = train_model_bin(version1)\n",
    "print(tss_mr_bin)\n",
    "print(hss2_mr_bin)"
   ]
  },
  {
   "cell_type": "markdown",
   "id": "e30fa9a0",
   "metadata": {},
   "source": [
    "#### 4.1.2 Rocket"
   ]
  },
  {
   "cell_type": "code",
   "execution_count": 20,
   "id": "8fd22f06",
   "metadata": {},
   "outputs": [
    {
     "name": "stdout",
     "output_type": "stream",
     "text": [
      "ROCKET with Binary Labels START TIME = 2022-11-30 23:25:14.260174\n"
     ]
    }
   ],
   "source": [
    "#time\n",
    "now = datetime.now()\n",
    "print(\"ROCKET with Binary Labels START TIME =\", now)"
   ]
  },
  {
   "cell_type": "code",
   "execution_count": null,
   "id": "321898c1",
   "metadata": {},
   "outputs": [],
   "source": [
    "tss_r_bin, hss2_r_bin = train_model_bin(version2)\n",
    "print(tss_r_bin)\n",
    "print(hss2_r_bin)"
   ]
  },
  {
   "cell_type": "markdown",
   "id": "922661aa",
   "metadata": {},
   "source": [
    "### 4.2 All Labels"
   ]
  },
  {
   "cell_type": "markdown",
   "id": "bcb579fc",
   "metadata": {},
   "source": [
    "#### 4.2.1 Mini Rocket"
   ]
  },
  {
   "cell_type": "code",
   "execution_count": 21,
   "id": "7ffa060a",
   "metadata": {},
   "outputs": [
    {
     "name": "stdout",
     "output_type": "stream",
     "text": [
      "MiniROCKET with All Labels START TIME = 2022-11-30 23:26:33.547899\n"
     ]
    }
   ],
   "source": [
    "#time\n",
    "now = datetime.now()\n",
    "print(\"MiniROCKET with All Labels START TIME =\", now)"
   ]
  },
  {
   "cell_type": "code",
   "execution_count": 11,
   "id": "82163780",
   "metadata": {},
   "outputs": [],
   "source": [
    "tss_mr_all, hss2_mr_all = train_model_all(version1)\n",
    "print(tss_mr_all)\n",
    "print(hss2_mr_all)"
   ]
  },
  {
   "cell_type": "markdown",
   "id": "fac006c7",
   "metadata": {},
   "source": [
    "#### 4.2.2 ROCKET"
   ]
  },
  {
   "cell_type": "code",
   "execution_count": 23,
   "id": "2c54c559",
   "metadata": {},
   "outputs": [
    {
     "name": "stdout",
     "output_type": "stream",
     "text": [
      "ROCKET with All Labels START TIME = 2022-11-30 23:28:42.921451\n"
     ]
    }
   ],
   "source": [
    "#time\n",
    "now = datetime.now()\n",
    "print(\"ROCKET with All Labels START TIME =\", now)"
   ]
  },
  {
   "cell_type": "code",
   "execution_count": 13,
   "id": "1ccebbca",
   "metadata": {},
   "outputs": [],
   "source": [
    "tss_r_all, hss2_r_all = train_model(version3)\n",
    "print(tss_r_all)\n",
    "print(hss2_r_all)"
   ]
  },
  {
   "cell_type": "code",
   "execution_count": 34,
   "id": "4bf3d441",
   "metadata": {},
   "outputs": [
    {
     "name": "stdout",
     "output_type": "stream",
     "text": [
      "EXPERIMENTS FINISHED TIME = 2022-11-30 23:31:29.100895\n"
     ]
    }
   ],
   "source": [
    "#time\n",
    "now = datetime.now()\n",
    "print(\"EXPERIMENTS FINISHED TIME =\", now)"
   ]
  }
 ],
 "metadata": {
  "kernelspec": {
   "display_name": "Python 3 (ipykernel)",
   "language": "python",
   "name": "python3"
  },
  "language_info": {
   "codemirror_mode": {
    "name": "ipython",
    "version": 3
   },
   "file_extension": ".py",
   "mimetype": "text/x-python",
   "name": "python",
   "nbconvert_exporter": "python",
   "pygments_lexer": "ipython3",
   "version": "3.9.7"
  }
 },
 "nbformat": 4,
 "nbformat_minor": 5
}
