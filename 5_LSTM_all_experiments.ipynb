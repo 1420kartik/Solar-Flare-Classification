{
 "cells": [
  {
   "cell_type": "markdown",
   "id": "1e2bfe6d",
   "metadata": {},
   "source": [
    "# PREREQUISITES"
   ]
  },
  {
   "cell_type": "code",
   "execution_count": 1,
   "id": "111d7ebe",
   "metadata": {
    "scrolled": true
   },
   "outputs": [
    {
     "name": "stdout",
     "output_type": "stream",
     "text": [
      "Requirement already satisfied: tensorflow in /home/dmlab/miniconda3/lib/python3.9/site-packages (2.7.0)\n",
      "Requirement already satisfied: tensorflow-estimator<2.8,~=2.7.0rc0 in /home/dmlab/miniconda3/lib/python3.9/site-packages (from tensorflow) (2.7.0)\n",
      "Requirement already satisfied: gast<0.5.0,>=0.2.1 in /home/dmlab/miniconda3/lib/python3.9/site-packages (from tensorflow) (0.4.0)\n",
      "Requirement already satisfied: h5py>=2.9.0 in /home/dmlab/miniconda3/lib/python3.9/site-packages (from tensorflow) (3.6.0)\n",
      "Requirement already satisfied: keras-preprocessing>=1.1.1 in /home/dmlab/miniconda3/lib/python3.9/site-packages (from tensorflow) (1.1.2)\n",
      "Requirement already satisfied: termcolor>=1.1.0 in /home/dmlab/miniconda3/lib/python3.9/site-packages (from tensorflow) (1.1.0)\n",
      "Requirement already satisfied: grpcio<2.0,>=1.24.3 in /home/dmlab/miniconda3/lib/python3.9/site-packages (from tensorflow) (1.43.0)\n",
      "Requirement already satisfied: absl-py>=0.4.0 in /home/dmlab/miniconda3/lib/python3.9/site-packages (from tensorflow) (1.0.0)\n",
      "Requirement already satisfied: astunparse>=1.6.0 in /home/dmlab/miniconda3/lib/python3.9/site-packages (from tensorflow) (1.6.3)\n",
      "Requirement already satisfied: keras<2.8,>=2.7.0rc0 in /home/dmlab/miniconda3/lib/python3.9/site-packages (from tensorflow) (2.7.0)\n",
      "Requirement already satisfied: tensorboard~=2.6 in /home/dmlab/miniconda3/lib/python3.9/site-packages (from tensorflow) (2.7.0)\n",
      "Requirement already satisfied: six>=1.12.0 in /home/dmlab/miniconda3/lib/python3.9/site-packages (from tensorflow) (1.16.0)\n",
      "Requirement already satisfied: flatbuffers<3.0,>=1.12 in /home/dmlab/miniconda3/lib/python3.9/site-packages (from tensorflow) (2.0)\n",
      "Requirement already satisfied: opt-einsum>=2.3.2 in /home/dmlab/miniconda3/lib/python3.9/site-packages (from tensorflow) (3.3.0)\n",
      "Requirement already satisfied: numpy>=1.14.5 in /home/dmlab/miniconda3/lib/python3.9/site-packages (from tensorflow) (1.21.6)\n",
      "Requirement already satisfied: google-pasta>=0.1.1 in /home/dmlab/miniconda3/lib/python3.9/site-packages (from tensorflow) (0.2.0)\n",
      "Requirement already satisfied: libclang>=9.0.1 in /home/dmlab/miniconda3/lib/python3.9/site-packages (from tensorflow) (12.0.0)\n",
      "Requirement already satisfied: tensorflow-io-gcs-filesystem>=0.21.0 in /home/dmlab/miniconda3/lib/python3.9/site-packages (from tensorflow) (0.23.1)\n",
      "Requirement already satisfied: typing-extensions>=3.6.6 in /home/dmlab/miniconda3/lib/python3.9/site-packages (from tensorflow) (4.0.1)\n",
      "Requirement already satisfied: protobuf>=3.9.2 in /home/dmlab/miniconda3/lib/python3.9/site-packages (from tensorflow) (3.19.3)\n",
      "Requirement already satisfied: wheel<1.0,>=0.32.0 in /home/dmlab/miniconda3/lib/python3.9/site-packages (from tensorflow) (0.38.4)\n",
      "Requirement already satisfied: wrapt>=1.11.0 in /home/dmlab/miniconda3/lib/python3.9/site-packages (from tensorflow) (1.13.3)\n",
      "Requirement already satisfied: google-auth-oauthlib<0.5,>=0.4.1 in /home/dmlab/miniconda3/lib/python3.9/site-packages (from tensorboard~=2.6->tensorflow) (0.4.6)\n",
      "Requirement already satisfied: requests<3,>=2.21.0 in /home/dmlab/miniconda3/lib/python3.9/site-packages (from tensorboard~=2.6->tensorflow) (2.28.1)\n",
      "Requirement already satisfied: werkzeug>=0.11.15 in /home/dmlab/miniconda3/lib/python3.9/site-packages (from tensorboard~=2.6->tensorflow) (2.0.2)\n",
      "Requirement already satisfied: google-auth<3,>=1.6.3 in /home/dmlab/miniconda3/lib/python3.9/site-packages (from tensorboard~=2.6->tensorflow) (2.3.3)\n",
      "Requirement already satisfied: tensorboard-plugin-wit>=1.6.0 in /home/dmlab/miniconda3/lib/python3.9/site-packages (from tensorboard~=2.6->tensorflow) (1.8.1)\n",
      "Requirement already satisfied: setuptools>=41.0.0 in /home/dmlab/miniconda3/lib/python3.9/site-packages (from tensorboard~=2.6->tensorflow) (65.5.0)\n",
      "Requirement already satisfied: markdown>=2.6.8 in /home/dmlab/miniconda3/lib/python3.9/site-packages (from tensorboard~=2.6->tensorflow) (3.3.6)\n",
      "Requirement already satisfied: tensorboard-data-server<0.7.0,>=0.6.0 in /home/dmlab/miniconda3/lib/python3.9/site-packages (from tensorboard~=2.6->tensorflow) (0.6.1)\n",
      "Requirement already satisfied: pyasn1-modules>=0.2.1 in /home/dmlab/miniconda3/lib/python3.9/site-packages (from google-auth<3,>=1.6.3->tensorboard~=2.6->tensorflow) (0.2.8)\n",
      "Requirement already satisfied: cachetools<5.0,>=2.0.0 in /home/dmlab/miniconda3/lib/python3.9/site-packages (from google-auth<3,>=1.6.3->tensorboard~=2.6->tensorflow) (4.2.4)\n",
      "Requirement already satisfied: rsa<5,>=3.1.4 in /home/dmlab/miniconda3/lib/python3.9/site-packages (from google-auth<3,>=1.6.3->tensorboard~=2.6->tensorflow) (4.8)\n",
      "Requirement already satisfied: requests-oauthlib>=0.7.0 in /home/dmlab/miniconda3/lib/python3.9/site-packages (from google-auth-oauthlib<0.5,>=0.4.1->tensorboard~=2.6->tensorflow) (1.3.0)\n",
      "Requirement already satisfied: importlib-metadata>=4.4 in /home/dmlab/miniconda3/lib/python3.9/site-packages (from markdown>=2.6.8->tensorboard~=2.6->tensorflow) (6.0.0)\n",
      "Requirement already satisfied: urllib3<1.27,>=1.21.1 in /home/dmlab/miniconda3/lib/python3.9/site-packages (from requests<3,>=2.21.0->tensorboard~=2.6->tensorflow) (1.26.12)\n",
      "Requirement already satisfied: idna<4,>=2.5 in /home/dmlab/miniconda3/lib/python3.9/site-packages (from requests<3,>=2.21.0->tensorboard~=2.6->tensorflow) (3.4)\n",
      "Requirement already satisfied: certifi>=2017.4.17 in /home/dmlab/miniconda3/lib/python3.9/site-packages (from requests<3,>=2.21.0->tensorboard~=2.6->tensorflow) (2022.9.24)\n",
      "Requirement already satisfied: charset-normalizer<3,>=2 in /home/dmlab/miniconda3/lib/python3.9/site-packages (from requests<3,>=2.21.0->tensorboard~=2.6->tensorflow) (2.0.12)\n",
      "Requirement already satisfied: zipp>=0.5 in /home/dmlab/miniconda3/lib/python3.9/site-packages (from importlib-metadata>=4.4->markdown>=2.6.8->tensorboard~=2.6->tensorflow) (3.7.0)\n",
      "Requirement already satisfied: pyasn1<0.5.0,>=0.4.6 in /home/dmlab/miniconda3/lib/python3.9/site-packages (from pyasn1-modules>=0.2.1->google-auth<3,>=1.6.3->tensorboard~=2.6->tensorflow) (0.4.8)\n",
      "Requirement already satisfied: oauthlib>=3.0.0 in /home/dmlab/miniconda3/lib/python3.9/site-packages (from requests-oauthlib>=0.7.0->google-auth-oauthlib<0.5,>=0.4.1->tensorboard~=2.6->tensorflow) (3.1.1)\n",
      "\u001b[33mWARNING: There was an error checking the latest version of pip.\u001b[0m\u001b[33m\n",
      "\u001b[0m"
     ]
    }
   ],
   "source": [
    "# IMPORTS\n",
    "\n",
    "import json\n",
    "import pandas as pd\n",
    "import numpy as np\n",
    "from sklearn.metrics import accuracy_score, confusion_matrix, adjusted_rand_score\n",
    "import pickle\n",
    "from pandas import DataFrame\n",
    "from collections import Counter\n",
    "from matplotlib import pyplot\n",
    "from numpy import where\n",
    "import statistics\n",
    "import matplotlib.pyplot as plt\n",
    "from datetime import datetime\n",
    "!pip install tensorflow\n",
    "import tensorflow as tf\n",
    "import tensorflow.keras.layers as L\n",
    "from tensorflow.keras import optimizers, Sequential, Model\n",
    "from tensorflow.keras.layers import LSTM\n",
    "import tensorflow.keras\n",
    "from tensorflow.keras.layers import Conv1D\n",
    "from tensorflow.keras.layers import Dropout\n",
    "from tensorflow.keras.layers import MaxPooling1D\n",
    "from tensorflow.keras.layers import Flatten\n",
    "from tensorflow.keras.layers import Dense\n",
    "\n",
    "# DATA LOADING\n",
    "\n",
    "p1_data = pd.read_pickle(r'og_data/partition1_data.pkl')\n",
    "p2_data = pd.read_pickle(r'og_data/partition2_data.pkl')\n",
    "p3_data = pd.read_pickle(r'og_data/partition3_data.pkl')\n",
    "p4_data = pd.read_pickle(r'og_data/partition4_data.pkl')\n",
    "p5_data = pd.read_pickle(r'og_data/partition5_data.pkl')\n",
    "p1_labels = pd.read_pickle(r'og_data/partition1_labels.pkl')\n",
    "p2_labels = pd.read_pickle(r'og_data/partition2_labels.pkl')\n",
    "p3_labels = pd.read_pickle(r'og_data/partition3_labels.pkl')\n",
    "p4_labels = pd.read_pickle(r'og_data/partition4_labels.pkl')\n",
    "p5_labels = pd.read_pickle(r'og_data/partition5_labels.pkl')\n",
    "\n",
    "# CONVERTING DATA TO BINARY NUMERICALS\n",
    "\n",
    "p1_labels_binary = np.where(p1_labels == 'B', 0, p1_labels)\n",
    "p1_labels_binary = np.where(p1_labels_binary == 'C', 0, p1_labels_binary)\n",
    "p1_labels_binary = np.where(p1_labels_binary == 'F', 0, p1_labels_binary)\n",
    "p1_labels_binary = np.where(p1_labels_binary == 'M', 1, p1_labels_binary)\n",
    "p1_labels_binary = np.where(p1_labels_binary == 'X', 1, p1_labels_binary)\n",
    "\n",
    "p2_labels_binary = np.where(p2_labels == 'B', 0, p2_labels)\n",
    "p2_labels_binary = np.where(p2_labels_binary == 'C', 0, p2_labels_binary)\n",
    "p2_labels_binary = np.where(p2_labels_binary == 'F', 0, p2_labels_binary)\n",
    "p2_labels_binary = np.where(p2_labels_binary == 'M', 1, p2_labels_binary)\n",
    "p2_labels_binary = np.where(p2_labels_binary == 'X', 1, p2_labels_binary)\n",
    "\n",
    "p3_labels_binary = np.where(p3_labels == 'B', 0, p3_labels)\n",
    "p3_labels_binary = np.where(p3_labels_binary == 'C', 0, p3_labels_binary)\n",
    "p3_labels_binary = np.where(p3_labels_binary == 'F', 0, p3_labels_binary)\n",
    "p3_labels_binary = np.where(p3_labels_binary == 'M', 1, p3_labels_binary)\n",
    "p3_labels_binary = np.where(p3_labels_binary == 'X', 1, p3_labels_binary)\n",
    "\n",
    "p4_labels_binary = np.where(p4_labels == 'B', 0, p4_labels)\n",
    "p4_labels_binary = np.where(p4_labels_binary == 'C', 0, p4_labels_binary)\n",
    "p4_labels_binary = np.where(p4_labels_binary == 'F', 0, p4_labels_binary)\n",
    "p4_labels_binary = np.where(p4_labels_binary == 'M', 1, p4_labels_binary)\n",
    "p4_labels_binary = np.where(p4_labels_binary == 'X', 1, p4_labels_binary)\n",
    "\n",
    "p5_labels_binary = np.where(p5_labels == 'B', 0, p5_labels)\n",
    "p5_labels_binary = np.where(p5_labels_binary == 'C', 0, p5_labels_binary)\n",
    "p5_labels_binary = np.where(p5_labels_binary == 'F', 0, p5_labels_binary)\n",
    "p5_labels_binary = np.where(p5_labels_binary == 'M', 1, p5_labels_binary)\n",
    "p5_labels_binary = np.where(p5_labels_binary == 'X', 1, p5_labels_binary)"
   ]
  },
  {
   "cell_type": "markdown",
   "id": "8a789fc4",
   "metadata": {},
   "source": [
    "# EXPERIMENTS"
   ]
  },
  {
   "cell_type": "markdown",
   "id": "d33fad28",
   "metadata": {},
   "source": [
    "# Pair 1"
   ]
  },
  {
   "cell_type": "code",
   "execution_count": 7,
   "id": "574fe64b",
   "metadata": {},
   "outputs": [
    {
     "name": "stdout",
     "output_type": "stream",
     "text": [
      "WARNING:tensorflow:Layer lstm will not use cuDNN kernels since it doesn't meet the criteria. It will use a generic GPU kernel as fallback when running on GPU.\n"
     ]
    },
    {
     "name": "stderr",
     "output_type": "stream",
     "text": [
      "2023-01-05 17:42:22.685928: I tensorflow/core/platform/cpu_feature_guard.cc:151] This TensorFlow binary is optimized with oneAPI Deep Neural Network Library (oneDNN) to use the following CPU instructions in performance-critical operations:  AVX2 AVX512F FMA\n",
      "To enable them in other operations, rebuild TensorFlow with the appropriate compiler flags.\n",
      "2023-01-05 17:42:24.311890: I tensorflow/core/common_runtime/gpu/gpu_device.cc:1525] Created device /job:localhost/replica:0/task:0/device:GPU:0 with 14243 MB memory:  -> device: 0, name: NVIDIA RTX A4000, pci bus id: 0000:1b:00.0, compute capability: 8.6\n",
      "2023-01-05 17:42:24.312605: I tensorflow/core/common_runtime/gpu/gpu_device.cc:1525] Created device /job:localhost/replica:0/task:0/device:GPU:1 with 14243 MB memory:  -> device: 1, name: NVIDIA RTX A4000, pci bus id: 0000:1d:00.0, compute capability: 8.6\n",
      "2023-01-05 17:42:24.313079: I tensorflow/core/common_runtime/gpu/gpu_device.cc:1525] Created device /job:localhost/replica:0/task:0/device:GPU:2 with 14243 MB memory:  -> device: 2, name: NVIDIA RTX A4000, pci bus id: 0000:3d:00.0, compute capability: 8.6\n",
      "2023-01-05 17:42:24.313512: I tensorflow/core/common_runtime/gpu/gpu_device.cc:1525] Created device /job:localhost/replica:0/task:0/device:GPU:3 with 14243 MB memory:  -> device: 3, name: NVIDIA RTX A4000, pci bus id: 0000:3f:00.0, compute capability: 8.6\n"
     ]
    },
    {
     "name": "stdout",
     "output_type": "stream",
     "text": [
      "Model: \"sequential\"\n",
      "_________________________________________________________________\n",
      " Layer (type)                Output Shape              Param #   \n",
      "=================================================================\n",
      " lstm (LSTM)                 (None, 100)               64400     \n",
      "                                                                 \n",
      " dense (Dense)               (None, 1)                 101       \n",
      "                                                                 \n",
      "=================================================================\n",
      "Total params: 64,501\n",
      "Trainable params: 64,501\n",
      "Non-trainable params: 0\n",
      "_________________________________________________________________\n",
      "Epoch 1/5\n",
      "   5/2163 [..............................] - ETA: 1:07 - loss: 0.0248"
     ]
    },
    {
     "name": "stderr",
     "output_type": "stream",
     "text": [
      "2023-01-05 17:42:26.827453: I tensorflow/stream_executor/cuda/cuda_blas.cc:1774] TensorFloat-32 will be used for the matrix multiplication. This will only be logged once.\n"
     ]
    },
    {
     "name": "stdout",
     "output_type": "stream",
     "text": [
      "2163/2163 [==============================] - 79s 36ms/step - loss: 0.0168\n",
      "Epoch 2/5\n",
      "2163/2163 [==============================] - 78s 36ms/step - loss: 0.0163\n",
      "Epoch 3/5\n",
      "2163/2163 [==============================] - 78s 36ms/step - loss: 0.0155\n",
      "Epoch 4/5\n",
      "2163/2163 [==============================] - 80s 37ms/step - loss: 0.0155\n",
      "Epoch 5/5\n",
      "2163/2163 [==============================] - 80s 37ms/step - loss: 0.0153\n",
      "[[78232    24]\n",
      " [ 1247    38]]\n"
     ]
    }
   ],
   "source": [
    "X_train, y_train, X_test, y_test = p1_data, p1_labels_binary, p2_data, p2_labels_binary\n",
    "y_train = y_train.astype('float64')\n",
    "y_test = y_test.astype('float64')\n",
    "X_train = X_train.astype('float64')\n",
    "X_test = X_test.astype('float64')\n",
    "X_train = X_train / np.linalg.norm(X_train)\n",
    "X_test = X_test / np.linalg.norm(X_test)\n",
    "\n",
    "model = Sequential()\n",
    "model.add(LSTM(100, activation='relu', input_shape=(24,60)))\n",
    "model.add(Dense(1))\n",
    "model.compile(optimizer='adam', loss='mse')\n",
    "model.summary()\n",
    "\n",
    "model.fit(X_train, y_train, epochs=5)\n",
    "\n",
    "pred = model.predict(X_test)\n",
    "\n",
    "pp = []\n",
    "for j in pred:\n",
    "    if (j < 0.5):\n",
    "        pp.append(0)\n",
    "    else:\n",
    "        pp.append(1)\n",
    "\n",
    "score = confusion_matrix(y_test,pp)\n",
    "\n",
    "print(score)"
   ]
  },
  {
   "cell_type": "code",
   "execution_count": 8,
   "id": "7fe715f9",
   "metadata": {},
   "outputs": [
    {
     "name": "stdout",
     "output_type": "stream",
     "text": [
      "0.02926529868646215\n",
      "0.05501630843215342\n"
     ]
    }
   ],
   "source": [
    "TN, FP, FN, TP = score.ravel()\n",
    "TN = np.array(TN)\n",
    "FP = np.array(FP)\n",
    "FN = np.array(FN)\n",
    "TP = np.array(TP)\n",
    "\n",
    "acc = (TP + TN) / (TP + FN + TN + FP)\n",
    "pr_pos = TP/(TP + FP)\n",
    "pr_neg = TN/(TN + FN)\n",
    "rc_pos = TP/(TP + FN)\n",
    "rc_neg = TN/(TN + FP)\n",
    "f1_pos = (2 * pr_pos * rc_pos) / (pr_pos + rc_pos)\n",
    "f1_neg = (2 * pr_neg * rc_neg) / (pr_neg + rc_neg)\n",
    "\n",
    "P = TP + FN\n",
    "N = TN + FP\n",
    "\n",
    "HSS1 = (TP + TN - N) / P\n",
    "HSS2 = (2*((TP*TN)-(FP*FN)))/(P*(FN+TN)+(TP+FP)*N)\n",
    "\n",
    "CH = ((TP+FP)*(TP+FN))/(P+N)\n",
    "GS = (TP-CH)/(TP+FP+FN-CH)\n",
    "\n",
    "TSS = ((TP*TN)-(FP*FN))/(P*N)\n",
    "\n",
    "print(TSS)\n",
    "print(HSS2)"
   ]
  },
  {
   "cell_type": "markdown",
   "id": "7c5b755d",
   "metadata": {},
   "source": [
    "# Pair 2"
   ]
  },
  {
   "cell_type": "code",
   "execution_count": 7,
   "id": "75ba94cd",
   "metadata": {},
   "outputs": [
    {
     "name": "stdout",
     "output_type": "stream",
     "text": [
      "WARNING:tensorflow:Layer lstm will not use cuDNN kernels since it doesn't meet the criteria. It will use a generic GPU kernel as fallback when running on GPU.\n"
     ]
    },
    {
     "name": "stderr",
     "output_type": "stream",
     "text": [
      "2023-01-05 20:11:17.632134: I tensorflow/core/platform/cpu_feature_guard.cc:151] This TensorFlow binary is optimized with oneAPI Deep Neural Network Library (oneDNN) to use the following CPU instructions in performance-critical operations:  AVX2 AVX512F FMA\n",
      "To enable them in other operations, rebuild TensorFlow with the appropriate compiler flags.\n",
      "2023-01-05 20:11:19.265441: I tensorflow/core/common_runtime/gpu/gpu_device.cc:1525] Created device /job:localhost/replica:0/task:0/device:GPU:0 with 14243 MB memory:  -> device: 0, name: NVIDIA RTX A4000, pci bus id: 0000:1b:00.0, compute capability: 8.6\n",
      "2023-01-05 20:11:19.266061: I tensorflow/core/common_runtime/gpu/gpu_device.cc:1525] Created device /job:localhost/replica:0/task:0/device:GPU:1 with 14243 MB memory:  -> device: 1, name: NVIDIA RTX A4000, pci bus id: 0000:1d:00.0, compute capability: 8.6\n",
      "2023-01-05 20:11:19.266507: I tensorflow/core/common_runtime/gpu/gpu_device.cc:1525] Created device /job:localhost/replica:0/task:0/device:GPU:2 with 14243 MB memory:  -> device: 2, name: NVIDIA RTX A4000, pci bus id: 0000:3d:00.0, compute capability: 8.6\n",
      "2023-01-05 20:11:19.266919: I tensorflow/core/common_runtime/gpu/gpu_device.cc:1525] Created device /job:localhost/replica:0/task:0/device:GPU:3 with 14243 MB memory:  -> device: 3, name: NVIDIA RTX A4000, pci bus id: 0000:3f:00.0, compute capability: 8.6\n"
     ]
    },
    {
     "name": "stdout",
     "output_type": "stream",
     "text": [
      "Model: \"sequential\"\n",
      "_________________________________________________________________\n",
      " Layer (type)                Output Shape              Param #   \n",
      "=================================================================\n",
      " lstm (LSTM)                 (None, 100)               64400     \n",
      "                                                                 \n",
      " dense (Dense)               (None, 1)                 101       \n",
      "                                                                 \n",
      "=================================================================\n",
      "Total params: 64,501\n",
      "Trainable params: 64,501\n",
      "Non-trainable params: 0\n",
      "_________________________________________________________________\n",
      "Epoch 1/5\n",
      "   5/2163 [..............................] - ETA: 1:02 - loss: 0.0493"
     ]
    },
    {
     "name": "stderr",
     "output_type": "stream",
     "text": [
      "2023-01-05 20:11:21.886693: I tensorflow/stream_executor/cuda/cuda_blas.cc:1774] TensorFloat-32 will be used for the matrix multiplication. This will only be logged once.\n"
     ]
    },
    {
     "name": "stdout",
     "output_type": "stream",
     "text": [
      "2163/2163 [==============================] - 82s 37ms/step - loss: 0.0168\n",
      "Epoch 2/5\n",
      "2163/2163 [==============================] - 79s 37ms/step - loss: 0.0159\n",
      "Epoch 3/5\n",
      "2163/2163 [==============================] - 79s 37ms/step - loss: 0.0155\n",
      "Epoch 4/5\n",
      "2163/2163 [==============================] - 79s 36ms/step - loss: 0.0154\n",
      "Epoch 5/5\n",
      "2163/2163 [==============================] - 79s 37ms/step - loss: 0.0153\n",
      "[[36527     8]\n",
      " [ 1247    30]]\n"
     ]
    }
   ],
   "source": [
    "X_train, y_train, X_test, y_test = p1_data, p1_labels_binary, p3_data, p3_labels_binary\n",
    "y_train = y_train.astype('float64')\n",
    "y_test = y_test.astype('float64')\n",
    "X_train = X_train.astype('float64')\n",
    "X_test = X_test.astype('float64')\n",
    "X_train = X_train / np.linalg.norm(X_train)\n",
    "X_test = X_test / np.linalg.norm(X_test)\n",
    "\n",
    "model = Sequential()\n",
    "model.add(LSTM(100, activation='relu', input_shape=(24,60)))\n",
    "model.add(Dense(1))\n",
    "model.compile(optimizer='adam', loss='mse')\n",
    "model.summary()\n",
    "\n",
    "model.fit(X_train, y_train, epochs=5)\n",
    "\n",
    "pred = model.predict(X_test)\n",
    "\n",
    "pp = []\n",
    "for j in pred:\n",
    "    if (j < 0.5):\n",
    "        pp.append(0)\n",
    "    else:\n",
    "        pp.append(1)\n",
    "\n",
    "score = confusion_matrix(y_test,pp)\n",
    "\n",
    "print(score)"
   ]
  },
  {
   "cell_type": "code",
   "execution_count": 8,
   "id": "a426848e",
   "metadata": {},
   "outputs": [
    {
     "name": "stdout",
     "output_type": "stream",
     "text": [
      "0.023273592576346536\n",
      "0.04376092981447043\n"
     ]
    }
   ],
   "source": [
    "TN, FP, FN, TP = score.ravel()\n",
    "TN = np.array(TN)\n",
    "FP = np.array(FP)\n",
    "FN = np.array(FN)\n",
    "TP = np.array(TP)\n",
    "\n",
    "acc = (TP + TN) / (TP + FN + TN + FP)\n",
    "pr_pos = TP/(TP + FP)\n",
    "pr_neg = TN/(TN + FN)\n",
    "rc_pos = TP/(TP + FN)\n",
    "rc_neg = TN/(TN + FP)\n",
    "f1_pos = (2 * pr_pos * rc_pos) / (pr_pos + rc_pos)\n",
    "f1_neg = (2 * pr_neg * rc_neg) / (pr_neg + rc_neg)\n",
    "\n",
    "P = TP + FN\n",
    "N = TN + FP\n",
    "\n",
    "HSS1 = (TP + TN - N) / P\n",
    "HSS2 = (2*((TP*TN)-(FP*FN)))/(P*(FN+TN)+(TP+FP)*N)\n",
    "\n",
    "CH = ((TP+FP)*(TP+FN))/(P+N)\n",
    "GS = (TP-CH)/(TP+FP+FN-CH)\n",
    "\n",
    "TSS = ((TP*TN)-(FP*FN))/(P*N)\n",
    "\n",
    "print(TSS)\n",
    "print(HSS2)"
   ]
  },
  {
   "cell_type": "markdown",
   "id": "9edd36d7",
   "metadata": {},
   "source": [
    "# Pair 3"
   ]
  },
  {
   "cell_type": "code",
   "execution_count": 2,
   "id": "9af7af4a",
   "metadata": {},
   "outputs": [
    {
     "name": "stdout",
     "output_type": "stream",
     "text": [
      "WARNING:tensorflow:Layer lstm will not use cuDNN kernels since it doesn't meet the criteria. It will use a generic GPU kernel as fallback when running on GPU.\n"
     ]
    },
    {
     "name": "stderr",
     "output_type": "stream",
     "text": [
      "2023-01-05 20:22:41.967515: I tensorflow/core/platform/cpu_feature_guard.cc:151] This TensorFlow binary is optimized with oneAPI Deep Neural Network Library (oneDNN) to use the following CPU instructions in performance-critical operations:  AVX2 AVX512F FMA\n",
      "To enable them in other operations, rebuild TensorFlow with the appropriate compiler flags.\n",
      "2023-01-05 20:22:43.581310: I tensorflow/core/common_runtime/gpu/gpu_device.cc:1525] Created device /job:localhost/replica:0/task:0/device:GPU:0 with 14243 MB memory:  -> device: 0, name: NVIDIA RTX A4000, pci bus id: 0000:1b:00.0, compute capability: 8.6\n",
      "2023-01-05 20:22:43.581904: I tensorflow/core/common_runtime/gpu/gpu_device.cc:1525] Created device /job:localhost/replica:0/task:0/device:GPU:1 with 14243 MB memory:  -> device: 1, name: NVIDIA RTX A4000, pci bus id: 0000:1d:00.0, compute capability: 8.6\n",
      "2023-01-05 20:22:43.582363: I tensorflow/core/common_runtime/gpu/gpu_device.cc:1525] Created device /job:localhost/replica:0/task:0/device:GPU:2 with 14243 MB memory:  -> device: 2, name: NVIDIA RTX A4000, pci bus id: 0000:3d:00.0, compute capability: 8.6\n",
      "2023-01-05 20:22:43.582796: I tensorflow/core/common_runtime/gpu/gpu_device.cc:1525] Created device /job:localhost/replica:0/task:0/device:GPU:3 with 14243 MB memory:  -> device: 3, name: NVIDIA RTX A4000, pci bus id: 0000:3f:00.0, compute capability: 8.6\n"
     ]
    },
    {
     "name": "stdout",
     "output_type": "stream",
     "text": [
      "Model: \"sequential\"\n",
      "_________________________________________________________________\n",
      " Layer (type)                Output Shape              Param #   \n",
      "=================================================================\n",
      " lstm (LSTM)                 (None, 100)               64400     \n",
      "                                                                 \n",
      " dense (Dense)               (None, 1)                 101       \n",
      "                                                                 \n",
      "=================================================================\n",
      "Total params: 64,501\n",
      "Trainable params: 64,501\n",
      "Non-trainable params: 0\n",
      "_________________________________________________________________\n",
      "Epoch 1/5\n",
      "   5/2163 [..............................] - ETA: 1:07 - loss: 0.0371"
     ]
    },
    {
     "name": "stderr",
     "output_type": "stream",
     "text": [
      "2023-01-05 20:22:46.015661: I tensorflow/stream_executor/cuda/cuda_blas.cc:1774] TensorFloat-32 will be used for the matrix multiplication. This will only be logged once.\n"
     ]
    },
    {
     "name": "stdout",
     "output_type": "stream",
     "text": [
      "2163/2163 [==============================] - 79s 36ms/step - loss: 0.0168\n",
      "Epoch 2/5\n",
      "2163/2163 [==============================] - 79s 36ms/step - loss: 0.0165\n",
      "Epoch 3/5\n",
      "2163/2163 [==============================] - 81s 37ms/step - loss: 0.0156\n",
      "Epoch 4/5\n",
      "2163/2163 [==============================] - 78s 36ms/step - loss: 0.0153\n",
      "Epoch 5/5\n",
      "2163/2163 [==============================] - 79s 36ms/step - loss: 0.0154\n",
      "[[42663    32]\n",
      " [  790   100]]\n"
     ]
    }
   ],
   "source": [
    "X_train, y_train, X_test, y_test = p1_data, p1_labels_binary, p4_data, p4_labels_binary\n",
    "y_train = y_train.astype('float64')\n",
    "y_test = y_test.astype('float64')\n",
    "X_train = X_train.astype('float64')\n",
    "X_test = X_test.astype('float64')\n",
    "X_train = X_train / np.linalg.norm(X_train)\n",
    "X_test = X_test / np.linalg.norm(X_test)\n",
    "\n",
    "model = Sequential()\n",
    "model.add(LSTM(100, activation='relu', input_shape=(24,60)))\n",
    "model.add(Dense(1))\n",
    "model.compile(optimizer='adam', loss='mse')\n",
    "model.summary()\n",
    "\n",
    "model.fit(X_train, y_train, epochs=5)\n",
    "\n",
    "pred = model.predict(X_test)\n",
    "\n",
    "pp = []\n",
    "for j in pred:\n",
    "    if (j < 0.5):\n",
    "        pp.append(0)\n",
    "    else:\n",
    "        pp.append(1)\n",
    "\n",
    "score = confusion_matrix(y_test,pp)\n",
    "\n",
    "print(score)"
   ]
  },
  {
   "cell_type": "code",
   "execution_count": 3,
   "id": "b4f0b0af",
   "metadata": {},
   "outputs": [
    {
     "name": "stdout",
     "output_type": "stream",
     "text": [
      "0.11161004827815799\n",
      "0.19142966956307433\n"
     ]
    }
   ],
   "source": [
    "TN, FP, FN, TP = score.ravel()\n",
    "TN = np.array(TN)\n",
    "FP = np.array(FP)\n",
    "FN = np.array(FN)\n",
    "TP = np.array(TP)\n",
    "\n",
    "acc = (TP + TN) / (TP + FN + TN + FP)\n",
    "pr_pos = TP/(TP + FP)\n",
    "pr_neg = TN/(TN + FN)\n",
    "rc_pos = TP/(TP + FN)\n",
    "rc_neg = TN/(TN + FP)\n",
    "f1_pos = (2 * pr_pos * rc_pos) / (pr_pos + rc_pos)\n",
    "f1_neg = (2 * pr_neg * rc_neg) / (pr_neg + rc_neg)\n",
    "\n",
    "P = TP + FN\n",
    "N = TN + FP\n",
    "\n",
    "HSS1 = (TP + TN - N) / P\n",
    "HSS2 = (2*((TP*TN)-(FP*FN)))/(P*(FN+TN)+(TP+FP)*N)\n",
    "\n",
    "CH = ((TP+FP)*(TP+FN))/(P+N)\n",
    "GS = (TP-CH)/(TP+FP+FN-CH)\n",
    "\n",
    "TSS = ((TP*TN)-(FP*FN))/(P*N)\n",
    "\n",
    "print(TSS)\n",
    "print(HSS2)"
   ]
  },
  {
   "cell_type": "markdown",
   "id": "06eaa918",
   "metadata": {},
   "source": [
    "# Pair 4"
   ]
  },
  {
   "cell_type": "code",
   "execution_count": 2,
   "id": "76b8f502",
   "metadata": {},
   "outputs": [
    {
     "name": "stdout",
     "output_type": "stream",
     "text": [
      "WARNING:tensorflow:Layer lstm will not use cuDNN kernels since it doesn't meet the criteria. It will use a generic GPU kernel as fallback when running on GPU.\n"
     ]
    },
    {
     "name": "stderr",
     "output_type": "stream",
     "text": [
      "2023-01-05 20:33:44.404172: I tensorflow/core/platform/cpu_feature_guard.cc:151] This TensorFlow binary is optimized with oneAPI Deep Neural Network Library (oneDNN) to use the following CPU instructions in performance-critical operations:  AVX2 AVX512F FMA\n",
      "To enable them in other operations, rebuild TensorFlow with the appropriate compiler flags.\n",
      "2023-01-05 20:33:46.022429: I tensorflow/core/common_runtime/gpu/gpu_device.cc:1525] Created device /job:localhost/replica:0/task:0/device:GPU:0 with 14243 MB memory:  -> device: 0, name: NVIDIA RTX A4000, pci bus id: 0000:1b:00.0, compute capability: 8.6\n",
      "2023-01-05 20:33:46.023023: I tensorflow/core/common_runtime/gpu/gpu_device.cc:1525] Created device /job:localhost/replica:0/task:0/device:GPU:1 with 14243 MB memory:  -> device: 1, name: NVIDIA RTX A4000, pci bus id: 0000:1d:00.0, compute capability: 8.6\n",
      "2023-01-05 20:33:46.023511: I tensorflow/core/common_runtime/gpu/gpu_device.cc:1525] Created device /job:localhost/replica:0/task:0/device:GPU:2 with 14243 MB memory:  -> device: 2, name: NVIDIA RTX A4000, pci bus id: 0000:3d:00.0, compute capability: 8.6\n",
      "2023-01-05 20:33:46.023922: I tensorflow/core/common_runtime/gpu/gpu_device.cc:1525] Created device /job:localhost/replica:0/task:0/device:GPU:3 with 14243 MB memory:  -> device: 3, name: NVIDIA RTX A4000, pci bus id: 0000:3f:00.0, compute capability: 8.6\n"
     ]
    },
    {
     "name": "stdout",
     "output_type": "stream",
     "text": [
      "Model: \"sequential\"\n",
      "_________________________________________________________________\n",
      " Layer (type)                Output Shape              Param #   \n",
      "=================================================================\n",
      " lstm (LSTM)                 (None, 100)               64400     \n",
      "                                                                 \n",
      " dense (Dense)               (None, 1)                 101       \n",
      "                                                                 \n",
      "=================================================================\n",
      "Total params: 64,501\n",
      "Trainable params: 64,501\n",
      "Non-trainable params: 0\n",
      "_________________________________________________________________\n",
      "Epoch 1/5\n",
      "   5/2163 [..............................] - ETA: 1:08 - loss: 0.0248"
     ]
    },
    {
     "name": "stderr",
     "output_type": "stream",
     "text": [
      "2023-01-05 20:33:48.694002: I tensorflow/stream_executor/cuda/cuda_blas.cc:1774] TensorFloat-32 will be used for the matrix multiplication. This will only be logged once.\n"
     ]
    },
    {
     "name": "stdout",
     "output_type": "stream",
     "text": [
      "2163/2163 [==============================] - 80s 36ms/step - loss: 0.0168\n",
      "Epoch 2/5\n",
      "2163/2163 [==============================] - 81s 37ms/step - loss: 0.0166\n",
      "Epoch 3/5\n",
      "2163/2163 [==============================] - 80s 37ms/step - loss: 0.0155\n",
      "Epoch 4/5\n",
      "2163/2163 [==============================] - 80s 37ms/step - loss: 0.0152\n",
      "Epoch 5/5\n",
      "2163/2163 [==============================] - 79s 37ms/step - loss: 0.0151\n",
      "[[65501   108]\n",
      " [  894     0]]\n"
     ]
    }
   ],
   "source": [
    "X_train, y_train, X_test, y_test = p1_data, p1_labels_binary, p5_data, p5_labels_binary\n",
    "y_train = y_train.astype('float64')\n",
    "y_test = y_test.astype('float64')\n",
    "X_train = X_train.astype('float64')\n",
    "X_test = X_test.astype('float64')\n",
    "X_train = X_train / np.linalg.norm(X_train)\n",
    "X_test = X_test / np.linalg.norm(X_test)\n",
    "\n",
    "model = Sequential()\n",
    "model.add(LSTM(100, activation='relu', input_shape=(24,60)))\n",
    "model.add(Dense(1))\n",
    "model.compile(optimizer='adam', loss='mse')\n",
    "model.summary()\n",
    "\n",
    "model.fit(X_train, y_train, epochs=5)\n",
    "\n",
    "pred = model.predict(X_test)\n",
    "\n",
    "pp = []\n",
    "for j in pred:\n",
    "    if (j < 0.5):\n",
    "        pp.append(0)\n",
    "    else:\n",
    "        pp.append(1)\n",
    "\n",
    "score = confusion_matrix(y_test,pp)\n",
    "\n",
    "print(score)"
   ]
  },
  {
   "cell_type": "code",
   "execution_count": 3,
   "id": "ac60edf1",
   "metadata": {
    "scrolled": true
   },
   "outputs": [
    {
     "name": "stdout",
     "output_type": "stream",
     "text": [
      "-0.0016461156243808015\n",
      "-0.002906314958970335\n"
     ]
    },
    {
     "name": "stderr",
     "output_type": "stream",
     "text": [
      "/tmp/ipykernel_69716/3715952775.py:12: RuntimeWarning: invalid value encountered in double_scalars\n",
      "  f1_pos = (2 * pr_pos * rc_pos) / (pr_pos + rc_pos)\n"
     ]
    }
   ],
   "source": [
    "TN, FP, FN, TP = score.ravel()\n",
    "TN = np.array(TN)\n",
    "FP = np.array(FP)\n",
    "FN = np.array(FN)\n",
    "TP = np.array(TP)\n",
    "\n",
    "acc = (TP + TN) / (TP + FN + TN + FP)\n",
    "pr_pos = TP/(TP + FP)\n",
    "pr_neg = TN/(TN + FN)\n",
    "rc_pos = TP/(TP + FN)\n",
    "rc_neg = TN/(TN + FP)\n",
    "f1_pos = (2 * pr_pos * rc_pos) / (pr_pos + rc_pos)\n",
    "f1_neg = (2 * pr_neg * rc_neg) / (pr_neg + rc_neg)\n",
    "\n",
    "P = TP + FN\n",
    "N = TN + FP\n",
    "\n",
    "HSS1 = (TP + TN - N) / P\n",
    "HSS2 = (2*((TP*TN)-(FP*FN)))/(P*(FN+TN)+(TP+FP)*N)\n",
    "\n",
    "CH = ((TP+FP)*(TP+FN))/(P+N)\n",
    "GS = (TP-CH)/(TP+FP+FN-CH)\n",
    "\n",
    "TSS = ((TP*TN)-(FP*FN))/(P*N)\n",
    "\n",
    "print(TSS)\n",
    "print(HSS2)"
   ]
  },
  {
   "cell_type": "markdown",
   "id": "fc7b88f9",
   "metadata": {},
   "source": [
    "# Pair 5"
   ]
  },
  {
   "cell_type": "code",
   "execution_count": 2,
   "id": "05f968e3",
   "metadata": {},
   "outputs": [
    {
     "name": "stdout",
     "output_type": "stream",
     "text": [
      "WARNING:tensorflow:Layer lstm will not use cuDNN kernels since it doesn't meet the criteria. It will use a generic GPU kernel as fallback when running on GPU.\n"
     ]
    },
    {
     "name": "stderr",
     "output_type": "stream",
     "text": [
      "2023-01-05 20:44:33.574778: I tensorflow/core/platform/cpu_feature_guard.cc:151] This TensorFlow binary is optimized with oneAPI Deep Neural Network Library (oneDNN) to use the following CPU instructions in performance-critical operations:  AVX2 AVX512F FMA\n",
      "To enable them in other operations, rebuild TensorFlow with the appropriate compiler flags.\n",
      "2023-01-05 20:44:35.189099: I tensorflow/core/common_runtime/gpu/gpu_device.cc:1525] Created device /job:localhost/replica:0/task:0/device:GPU:0 with 14243 MB memory:  -> device: 0, name: NVIDIA RTX A4000, pci bus id: 0000:1b:00.0, compute capability: 8.6\n",
      "2023-01-05 20:44:35.189706: I tensorflow/core/common_runtime/gpu/gpu_device.cc:1525] Created device /job:localhost/replica:0/task:0/device:GPU:1 with 14243 MB memory:  -> device: 1, name: NVIDIA RTX A4000, pci bus id: 0000:1d:00.0, compute capability: 8.6\n",
      "2023-01-05 20:44:35.190162: I tensorflow/core/common_runtime/gpu/gpu_device.cc:1525] Created device /job:localhost/replica:0/task:0/device:GPU:2 with 14243 MB memory:  -> device: 2, name: NVIDIA RTX A4000, pci bus id: 0000:3d:00.0, compute capability: 8.6\n",
      "2023-01-05 20:44:35.190602: I tensorflow/core/common_runtime/gpu/gpu_device.cc:1525] Created device /job:localhost/replica:0/task:0/device:GPU:3 with 14243 MB memory:  -> device: 3, name: NVIDIA RTX A4000, pci bus id: 0000:3f:00.0, compute capability: 8.6\n"
     ]
    },
    {
     "name": "stdout",
     "output_type": "stream",
     "text": [
      "Model: \"sequential\"\n",
      "_________________________________________________________________\n",
      " Layer (type)                Output Shape              Param #   \n",
      "=================================================================\n",
      " lstm (LSTM)                 (None, 100)               64400     \n",
      "                                                                 \n",
      " dense (Dense)               (None, 1)                 101       \n",
      "                                                                 \n",
      "=================================================================\n",
      "Total params: 64,501\n",
      "Trainable params: 64,501\n",
      "Non-trainable params: 0\n",
      "_________________________________________________________________\n",
      "Epoch 1/5\n",
      "   5/2486 [..............................] - ETA: 1:24 - loss: 0.0187      "
     ]
    },
    {
     "name": "stderr",
     "output_type": "stream",
     "text": [
      "2023-01-05 20:44:37.858387: I tensorflow/stream_executor/cuda/cuda_blas.cc:1774] TensorFloat-32 will be used for the matrix multiplication. This will only be logged once.\n"
     ]
    },
    {
     "name": "stdout",
     "output_type": "stream",
     "text": [
      "2486/2486 [==============================] - 92s 36ms/step - loss: 0.0159\n",
      "Epoch 2/5\n",
      "2486/2486 [==============================] - 94s 38ms/step - loss: 0.0150\n",
      "Epoch 3/5\n",
      "2486/2486 [==============================] - 95s 38ms/step - loss: 0.0145\n",
      "Epoch 4/5\n",
      "2486/2486 [==============================] - 94s 38ms/step - loss: 0.0144\n",
      "Epoch 5/5\n",
      "2486/2486 [==============================] - 97s 39ms/step - loss: 0.0143\n",
      "[[68009     0]\n",
      " [ 1180     0]]\n"
     ]
    }
   ],
   "source": [
    "X_train, y_train, X_test, y_test = p2_data, p2_labels_binary, p1_data, p1_labels_binary\n",
    "y_train = y_train.astype('float64')\n",
    "y_test = y_test.astype('float64')\n",
    "X_train = X_train.astype('float64')\n",
    "X_test = X_test.astype('float64')\n",
    "X_train = X_train / np.linalg.norm(X_train)\n",
    "X_test = X_test / np.linalg.norm(X_test)\n",
    "\n",
    "model = Sequential()\n",
    "model.add(LSTM(100, activation='relu', input_shape=(24,60)))\n",
    "model.add(Dense(1))\n",
    "model.compile(optimizer='adam', loss='mse')\n",
    "model.summary()\n",
    "\n",
    "model.fit(X_train, y_train, epochs=5)\n",
    "\n",
    "pred = model.predict(X_test)\n",
    "\n",
    "pp = []\n",
    "for j in pred:\n",
    "    if (j < 0.5):\n",
    "        pp.append(0)\n",
    "    else:\n",
    "        pp.append(1)\n",
    "\n",
    "score = confusion_matrix(y_test,pp)\n",
    "\n",
    "print(score)"
   ]
  },
  {
   "cell_type": "code",
   "execution_count": 3,
   "id": "e9cd9356",
   "metadata": {},
   "outputs": [
    {
     "name": "stdout",
     "output_type": "stream",
     "text": [
      "0.0\n",
      "0.0\n"
     ]
    },
    {
     "name": "stderr",
     "output_type": "stream",
     "text": [
      "/tmp/ipykernel_70348/3715952775.py:8: RuntimeWarning: invalid value encountered in true_divide\n",
      "  pr_pos = TP/(TP + FP)\n"
     ]
    }
   ],
   "source": [
    "TN, FP, FN, TP = score.ravel()\n",
    "TN = np.array(TN)\n",
    "FP = np.array(FP)\n",
    "FN = np.array(FN)\n",
    "TP = np.array(TP)\n",
    "\n",
    "acc = (TP + TN) / (TP + FN + TN + FP)\n",
    "pr_pos = TP/(TP + FP)\n",
    "pr_neg = TN/(TN + FN)\n",
    "rc_pos = TP/(TP + FN)\n",
    "rc_neg = TN/(TN + FP)\n",
    "f1_pos = (2 * pr_pos * rc_pos) / (pr_pos + rc_pos)\n",
    "f1_neg = (2 * pr_neg * rc_neg) / (pr_neg + rc_neg)\n",
    "\n",
    "P = TP + FN\n",
    "N = TN + FP\n",
    "\n",
    "HSS1 = (TP + TN - N) / P\n",
    "HSS2 = (2*((TP*TN)-(FP*FN)))/(P*(FN+TN)+(TP+FP)*N)\n",
    "\n",
    "CH = ((TP+FP)*(TP+FN))/(P+N)\n",
    "GS = (TP-CH)/(TP+FP+FN-CH)\n",
    "\n",
    "TSS = ((TP*TN)-(FP*FN))/(P*N)\n",
    "\n",
    "print(TSS)\n",
    "print(HSS2)"
   ]
  },
  {
   "cell_type": "markdown",
   "id": "8fbbdaea",
   "metadata": {},
   "source": [
    "# Pair 6"
   ]
  },
  {
   "cell_type": "code",
   "execution_count": 2,
   "id": "db9ef1be",
   "metadata": {},
   "outputs": [
    {
     "name": "stdout",
     "output_type": "stream",
     "text": [
      "WARNING:tensorflow:Layer lstm will not use cuDNN kernels since it doesn't meet the criteria. It will use a generic GPU kernel as fallback when running on GPU.\n"
     ]
    },
    {
     "name": "stderr",
     "output_type": "stream",
     "text": [
      "2023-01-05 20:53:15.994129: I tensorflow/core/platform/cpu_feature_guard.cc:151] This TensorFlow binary is optimized with oneAPI Deep Neural Network Library (oneDNN) to use the following CPU instructions in performance-critical operations:  AVX2 AVX512F FMA\n",
      "To enable them in other operations, rebuild TensorFlow with the appropriate compiler flags.\n",
      "2023-01-05 20:53:17.612383: I tensorflow/core/common_runtime/gpu/gpu_device.cc:1525] Created device /job:localhost/replica:0/task:0/device:GPU:0 with 14243 MB memory:  -> device: 0, name: NVIDIA RTX A4000, pci bus id: 0000:1b:00.0, compute capability: 8.6\n",
      "2023-01-05 20:53:17.612979: I tensorflow/core/common_runtime/gpu/gpu_device.cc:1525] Created device /job:localhost/replica:0/task:0/device:GPU:1 with 14243 MB memory:  -> device: 1, name: NVIDIA RTX A4000, pci bus id: 0000:1d:00.0, compute capability: 8.6\n",
      "2023-01-05 20:53:17.613441: I tensorflow/core/common_runtime/gpu/gpu_device.cc:1525] Created device /job:localhost/replica:0/task:0/device:GPU:2 with 14243 MB memory:  -> device: 2, name: NVIDIA RTX A4000, pci bus id: 0000:3d:00.0, compute capability: 8.6\n",
      "2023-01-05 20:53:17.613891: I tensorflow/core/common_runtime/gpu/gpu_device.cc:1525] Created device /job:localhost/replica:0/task:0/device:GPU:3 with 14243 MB memory:  -> device: 3, name: NVIDIA RTX A4000, pci bus id: 0000:3f:00.0, compute capability: 8.6\n"
     ]
    },
    {
     "name": "stdout",
     "output_type": "stream",
     "text": [
      "Model: \"sequential\"\n",
      "_________________________________________________________________\n",
      " Layer (type)                Output Shape              Param #   \n",
      "=================================================================\n",
      " lstm (LSTM)                 (None, 100)               64400     \n",
      "                                                                 \n",
      " dense (Dense)               (None, 1)                 101       \n",
      "                                                                 \n",
      "=================================================================\n",
      "Total params: 64,501\n",
      "Trainable params: 64,501\n",
      "Non-trainable params: 0\n",
      "_________________________________________________________________\n",
      "Epoch 1/5\n",
      "   5/2486 [..............................] - ETA: 1:24 - loss: 0.0187      "
     ]
    },
    {
     "name": "stderr",
     "output_type": "stream",
     "text": [
      "2023-01-05 20:53:20.352199: I tensorflow/stream_executor/cuda/cuda_blas.cc:1774] TensorFloat-32 will be used for the matrix multiplication. This will only be logged once.\n"
     ]
    },
    {
     "name": "stdout",
     "output_type": "stream",
     "text": [
      "2486/2486 [==============================] - 91s 36ms/step - loss: 0.0159\n",
      "Epoch 2/5\n",
      "2486/2486 [==============================] - 90s 36ms/step - loss: 0.0158\n",
      "Epoch 3/5\n",
      "2486/2486 [==============================] - 90s 36ms/step - loss: 0.0148\n",
      "Epoch 4/5\n",
      "2486/2486 [==============================] - 93s 37ms/step - loss: 0.0145\n",
      "Epoch 5/5\n",
      "2486/2486 [==============================] - 92s 37ms/step - loss: 0.0144\n",
      "[[36535     0]\n",
      " [ 1277     0]]\n"
     ]
    }
   ],
   "source": [
    "X_train, y_train, X_test, y_test = p2_data, p2_labels_binary, p3_data, p3_labels_binary\n",
    "y_train = y_train.astype('float64')\n",
    "y_test = y_test.astype('float64')\n",
    "X_train = X_train.astype('float64')\n",
    "X_test = X_test.astype('float64')\n",
    "X_train = X_train / np.linalg.norm(X_train)\n",
    "X_test = X_test / np.linalg.norm(X_test)\n",
    "\n",
    "model = Sequential()\n",
    "model.add(LSTM(100, activation='relu', input_shape=(24,60)))\n",
    "model.add(Dense(1))\n",
    "model.compile(optimizer='adam', loss='mse')\n",
    "model.summary()\n",
    "\n",
    "model.fit(X_train, y_train, epochs=5)\n",
    "\n",
    "pred = model.predict(X_test)\n",
    "\n",
    "pp = []\n",
    "for j in pred:\n",
    "    if (j < 0.5):\n",
    "        pp.append(0)\n",
    "    else:\n",
    "        pp.append(1)\n",
    "\n",
    "score = confusion_matrix(y_test,pp)\n",
    "\n",
    "print(score)"
   ]
  },
  {
   "cell_type": "code",
   "execution_count": 3,
   "id": "7902980e",
   "metadata": {},
   "outputs": [
    {
     "name": "stdout",
     "output_type": "stream",
     "text": [
      "0.0\n",
      "0.0\n"
     ]
    },
    {
     "name": "stderr",
     "output_type": "stream",
     "text": [
      "/tmp/ipykernel_70981/3715952775.py:8: RuntimeWarning: invalid value encountered in true_divide\n",
      "  pr_pos = TP/(TP + FP)\n"
     ]
    }
   ],
   "source": [
    "TN, FP, FN, TP = score.ravel()\n",
    "TN = np.array(TN)\n",
    "FP = np.array(FP)\n",
    "FN = np.array(FN)\n",
    "TP = np.array(TP)\n",
    "\n",
    "acc = (TP + TN) / (TP + FN + TN + FP)\n",
    "pr_pos = TP/(TP + FP)\n",
    "pr_neg = TN/(TN + FN)\n",
    "rc_pos = TP/(TP + FN)\n",
    "rc_neg = TN/(TN + FP)\n",
    "f1_pos = (2 * pr_pos * rc_pos) / (pr_pos + rc_pos)\n",
    "f1_neg = (2 * pr_neg * rc_neg) / (pr_neg + rc_neg)\n",
    "\n",
    "P = TP + FN\n",
    "N = TN + FP\n",
    "\n",
    "HSS1 = (TP + TN - N) / P\n",
    "HSS2 = (2*((TP*TN)-(FP*FN)))/(P*(FN+TN)+(TP+FP)*N)\n",
    "\n",
    "CH = ((TP+FP)*(TP+FN))/(P+N)\n",
    "GS = (TP-CH)/(TP+FP+FN-CH)\n",
    "\n",
    "TSS = ((TP*TN)-(FP*FN))/(P*N)\n",
    "\n",
    "print(TSS)\n",
    "print(HSS2)"
   ]
  },
  {
   "cell_type": "markdown",
   "id": "611569bd",
   "metadata": {},
   "source": [
    "# Pair 7"
   ]
  },
  {
   "cell_type": "code",
   "execution_count": 2,
   "id": "4a955e57",
   "metadata": {},
   "outputs": [
    {
     "name": "stdout",
     "output_type": "stream",
     "text": [
      "WARNING:tensorflow:Layer lstm will not use cuDNN kernels since it doesn't meet the criteria. It will use a generic GPU kernel as fallback when running on GPU.\n"
     ]
    },
    {
     "name": "stderr",
     "output_type": "stream",
     "text": [
      "2023-01-05 21:02:45.773306: I tensorflow/core/platform/cpu_feature_guard.cc:151] This TensorFlow binary is optimized with oneAPI Deep Neural Network Library (oneDNN) to use the following CPU instructions in performance-critical operations:  AVX2 AVX512F FMA\n",
      "To enable them in other operations, rebuild TensorFlow with the appropriate compiler flags.\n",
      "2023-01-05 21:02:47.384581: I tensorflow/core/common_runtime/gpu/gpu_device.cc:1525] Created device /job:localhost/replica:0/task:0/device:GPU:0 with 14243 MB memory:  -> device: 0, name: NVIDIA RTX A4000, pci bus id: 0000:1b:00.0, compute capability: 8.6\n",
      "2023-01-05 21:02:47.385223: I tensorflow/core/common_runtime/gpu/gpu_device.cc:1525] Created device /job:localhost/replica:0/task:0/device:GPU:1 with 14243 MB memory:  -> device: 1, name: NVIDIA RTX A4000, pci bus id: 0000:1d:00.0, compute capability: 8.6\n",
      "2023-01-05 21:02:47.385692: I tensorflow/core/common_runtime/gpu/gpu_device.cc:1525] Created device /job:localhost/replica:0/task:0/device:GPU:2 with 14243 MB memory:  -> device: 2, name: NVIDIA RTX A4000, pci bus id: 0000:3d:00.0, compute capability: 8.6\n",
      "2023-01-05 21:02:47.386134: I tensorflow/core/common_runtime/gpu/gpu_device.cc:1525] Created device /job:localhost/replica:0/task:0/device:GPU:3 with 14243 MB memory:  -> device: 3, name: NVIDIA RTX A4000, pci bus id: 0000:3f:00.0, compute capability: 8.6\n"
     ]
    },
    {
     "name": "stdout",
     "output_type": "stream",
     "text": [
      "Model: \"sequential\"\n",
      "_________________________________________________________________\n",
      " Layer (type)                Output Shape              Param #   \n",
      "=================================================================\n",
      " lstm (LSTM)                 (None, 100)               64400     \n",
      "                                                                 \n",
      " dense (Dense)               (None, 1)                 101       \n",
      "                                                                 \n",
      "=================================================================\n",
      "Total params: 64,501\n",
      "Trainable params: 64,501\n",
      "Non-trainable params: 0\n",
      "_________________________________________________________________\n",
      "Epoch 1/5\n",
      "   5/2486 [..............................] - ETA: 1:11 - loss: 0.0062      "
     ]
    },
    {
     "name": "stderr",
     "output_type": "stream",
     "text": [
      "2023-01-05 21:02:50.058288: I tensorflow/stream_executor/cuda/cuda_blas.cc:1774] TensorFloat-32 will be used for the matrix multiplication. This will only be logged once.\n",
      "2023-01-05 21:02:50.058329: I tensorflow/stream_executor/cuda/cuda_blas.cc:1774] TensorFloat-32 will be used for the matrix multiplication. This will only be logged once.\n"
     ]
    },
    {
     "name": "stdout",
     "output_type": "stream",
     "text": [
      "2486/2486 [==============================] - 93s 37ms/step - loss: 0.0159\n",
      "Epoch 2/5\n",
      "2486/2486 [==============================] - 93s 37ms/step - loss: 0.0159\n",
      "Epoch 3/5\n",
      "2486/2486 [==============================] - 94s 38ms/step - loss: 0.0173\n",
      "Epoch 4/5\n",
      "2486/2486 [==============================] - 97s 39ms/step - loss: 0.0154\n",
      "Epoch 5/5\n",
      "2486/2486 [==============================] - 95s 38ms/step - loss: 0.0150\n",
      "[[42695     0]\n",
      " [  884     6]]\n"
     ]
    }
   ],
   "source": [
    "X_train, y_train, X_test, y_test = p2_data, p2_labels_binary, p4_data, p4_labels_binary\n",
    "y_train = y_train.astype('float64')\n",
    "y_test = y_test.astype('float64')\n",
    "X_train = X_train.astype('float64')\n",
    "X_test = X_test.astype('float64')\n",
    "X_train = X_train / np.linalg.norm(X_train)\n",
    "X_test = X_test / np.linalg.norm(X_test)\n",
    "\n",
    "model = Sequential()\n",
    "model.add(LSTM(100, activation='relu', input_shape=(24,60)))\n",
    "model.add(Dense(1))\n",
    "model.compile(optimizer='adam', loss='mse')\n",
    "model.summary()\n",
    "\n",
    "model.fit(X_train, y_train, epochs=5)\n",
    "\n",
    "pred = model.predict(X_test)\n",
    "\n",
    "pp = []\n",
    "for j in pred:\n",
    "    if (j < 0.5):\n",
    "        pp.append(0)\n",
    "    else:\n",
    "        pp.append(1)\n",
    "\n",
    "score = confusion_matrix(y_test,pp)\n",
    "\n",
    "print(score)"
   ]
  },
  {
   "cell_type": "code",
   "execution_count": 3,
   "id": "27a04215",
   "metadata": {},
   "outputs": [
    {
     "name": "stdout",
     "output_type": "stream",
     "text": [
      "0.006741573033707865\n",
      "0.01312296562527855\n"
     ]
    }
   ],
   "source": [
    "TN, FP, FN, TP = score.ravel()\n",
    "TN = np.array(TN)\n",
    "FP = np.array(FP)\n",
    "FN = np.array(FN)\n",
    "TP = np.array(TP)\n",
    "\n",
    "acc = (TP + TN) / (TP + FN + TN + FP)\n",
    "pr_pos = TP/(TP + FP)\n",
    "pr_neg = TN/(TN + FN)\n",
    "rc_pos = TP/(TP + FN)\n",
    "rc_neg = TN/(TN + FP)\n",
    "f1_pos = (2 * pr_pos * rc_pos) / (pr_pos + rc_pos)\n",
    "f1_neg = (2 * pr_neg * rc_neg) / (pr_neg + rc_neg)\n",
    "\n",
    "P = TP + FN\n",
    "N = TN + FP\n",
    "\n",
    "HSS1 = (TP + TN - N) / P\n",
    "HSS2 = (2*((TP*TN)-(FP*FN)))/(P*(FN+TN)+(TP+FP)*N)\n",
    "\n",
    "CH = ((TP+FP)*(TP+FN))/(P+N)\n",
    "GS = (TP-CH)/(TP+FP+FN-CH)\n",
    "\n",
    "TSS = ((TP*TN)-(FP*FN))/(P*N)\n",
    "\n",
    "print(TSS)\n",
    "print(HSS2)"
   ]
  },
  {
   "cell_type": "markdown",
   "id": "23183f7b",
   "metadata": {},
   "source": [
    "# Pair 8"
   ]
  },
  {
   "cell_type": "code",
   "execution_count": 2,
   "id": "d527571c",
   "metadata": {},
   "outputs": [
    {
     "name": "stdout",
     "output_type": "stream",
     "text": [
      "WARNING:tensorflow:Layer lstm will not use cuDNN kernels since it doesn't meet the criteria. It will use a generic GPU kernel as fallback when running on GPU.\n"
     ]
    },
    {
     "name": "stderr",
     "output_type": "stream",
     "text": [
      "2023-01-05 21:11:22.642342: I tensorflow/core/platform/cpu_feature_guard.cc:151] This TensorFlow binary is optimized with oneAPI Deep Neural Network Library (oneDNN) to use the following CPU instructions in performance-critical operations:  AVX2 AVX512F FMA\n",
      "To enable them in other operations, rebuild TensorFlow with the appropriate compiler flags.\n",
      "2023-01-05 21:11:24.266275: I tensorflow/core/common_runtime/gpu/gpu_device.cc:1525] Created device /job:localhost/replica:0/task:0/device:GPU:0 with 14243 MB memory:  -> device: 0, name: NVIDIA RTX A4000, pci bus id: 0000:1b:00.0, compute capability: 8.6\n",
      "2023-01-05 21:11:24.266868: I tensorflow/core/common_runtime/gpu/gpu_device.cc:1525] Created device /job:localhost/replica:0/task:0/device:GPU:1 with 14243 MB memory:  -> device: 1, name: NVIDIA RTX A4000, pci bus id: 0000:1d:00.0, compute capability: 8.6\n",
      "2023-01-05 21:11:24.267335: I tensorflow/core/common_runtime/gpu/gpu_device.cc:1525] Created device /job:localhost/replica:0/task:0/device:GPU:2 with 14243 MB memory:  -> device: 2, name: NVIDIA RTX A4000, pci bus id: 0000:3d:00.0, compute capability: 8.6\n",
      "2023-01-05 21:11:24.267775: I tensorflow/core/common_runtime/gpu/gpu_device.cc:1525] Created device /job:localhost/replica:0/task:0/device:GPU:3 with 14243 MB memory:  -> device: 3, name: NVIDIA RTX A4000, pci bus id: 0000:3f:00.0, compute capability: 8.6\n"
     ]
    },
    {
     "name": "stdout",
     "output_type": "stream",
     "text": [
      "Model: \"sequential\"\n",
      "_________________________________________________________________\n",
      " Layer (type)                Output Shape              Param #   \n",
      "=================================================================\n",
      " lstm (LSTM)                 (None, 100)               64400     \n",
      "                                                                 \n",
      " dense (Dense)               (None, 1)                 101       \n",
      "                                                                 \n",
      "=================================================================\n",
      "Total params: 64,501\n",
      "Trainable params: 64,501\n",
      "Non-trainable params: 0\n",
      "_________________________________________________________________\n",
      "Epoch 1/5\n",
      "   5/2486 [..............................] - ETA: 1:20 - loss: 0.0367      "
     ]
    },
    {
     "name": "stderr",
     "output_type": "stream",
     "text": [
      "2023-01-05 21:11:26.946565: I tensorflow/stream_executor/cuda/cuda_blas.cc:1774] TensorFloat-32 will be used for the matrix multiplication. This will only be logged once.\n"
     ]
    },
    {
     "name": "stdout",
     "output_type": "stream",
     "text": [
      "2486/2486 [==============================] - 93s 37ms/step - loss: 0.0159\n",
      "Epoch 2/5\n",
      "2486/2486 [==============================] - 92s 37ms/step - loss: 0.0155\n",
      "Epoch 3/5\n",
      "2486/2486 [==============================] - 93s 37ms/step - loss: 0.0145\n",
      "Epoch 4/5\n",
      "2486/2486 [==============================] - 91s 37ms/step - loss: 0.0144\n",
      "Epoch 5/5\n",
      "2486/2486 [==============================] - 92s 37ms/step - loss: 0.0143\n",
      "[[65566    43]\n",
      " [  894     0]]\n"
     ]
    }
   ],
   "source": [
    "X_train, y_train, X_test, y_test = p2_data, p2_labels_binary, p5_data, p5_labels_binary\n",
    "y_train = y_train.astype('float64')\n",
    "y_test = y_test.astype('float64')\n",
    "X_train = X_train.astype('float64')\n",
    "X_test = X_test.astype('float64')\n",
    "X_train = X_train / np.linalg.norm(X_train)\n",
    "X_test = X_test / np.linalg.norm(X_test)\n",
    "\n",
    "model = Sequential()\n",
    "model.add(LSTM(100, activation='relu', input_shape=(24,60)))\n",
    "model.add(Dense(1))\n",
    "model.compile(optimizer='adam', loss='mse')\n",
    "model.summary()\n",
    "\n",
    "model.fit(X_train, y_train, epochs=5)\n",
    "\n",
    "pred = model.predict(X_test)\n",
    "\n",
    "pp = []\n",
    "for j in pred:\n",
    "    if (j < 0.5):\n",
    "        pp.append(0)\n",
    "    else:\n",
    "        pp.append(1)\n",
    "\n",
    "score = confusion_matrix(y_test,pp)\n",
    "\n",
    "print(score)"
   ]
  },
  {
   "cell_type": "code",
   "execution_count": 3,
   "id": "f1dd7340",
   "metadata": {},
   "outputs": [
    {
     "name": "stdout",
     "output_type": "stream",
     "text": [
      "-0.0006553978874849488\n",
      "-0.0012353536940673023\n"
     ]
    },
    {
     "name": "stderr",
     "output_type": "stream",
     "text": [
      "/tmp/ipykernel_72245/3715952775.py:12: RuntimeWarning: invalid value encountered in double_scalars\n",
      "  f1_pos = (2 * pr_pos * rc_pos) / (pr_pos + rc_pos)\n"
     ]
    }
   ],
   "source": [
    "TN, FP, FN, TP = score.ravel()\n",
    "TN = np.array(TN)\n",
    "FP = np.array(FP)\n",
    "FN = np.array(FN)\n",
    "TP = np.array(TP)\n",
    "\n",
    "acc = (TP + TN) / (TP + FN + TN + FP)\n",
    "pr_pos = TP/(TP + FP)\n",
    "pr_neg = TN/(TN + FN)\n",
    "rc_pos = TP/(TP + FN)\n",
    "rc_neg = TN/(TN + FP)\n",
    "f1_pos = (2 * pr_pos * rc_pos) / (pr_pos + rc_pos)\n",
    "f1_neg = (2 * pr_neg * rc_neg) / (pr_neg + rc_neg)\n",
    "\n",
    "P = TP + FN\n",
    "N = TN + FP\n",
    "\n",
    "HSS1 = (TP + TN - N) / P\n",
    "HSS2 = (2*((TP*TN)-(FP*FN)))/(P*(FN+TN)+(TP+FP)*N)\n",
    "\n",
    "CH = ((TP+FP)*(TP+FN))/(P+N)\n",
    "GS = (TP-CH)/(TP+FP+FN-CH)\n",
    "\n",
    "TSS = ((TP*TN)-(FP*FN))/(P*N)\n",
    "\n",
    "print(TSS)\n",
    "print(HSS2)"
   ]
  },
  {
   "cell_type": "markdown",
   "id": "eb40394f",
   "metadata": {},
   "source": [
    "# Pair 9"
   ]
  },
  {
   "cell_type": "code",
   "execution_count": 2,
   "id": "b7607ff7",
   "metadata": {},
   "outputs": [
    {
     "name": "stdout",
     "output_type": "stream",
     "text": [
      "WARNING:tensorflow:Layer lstm will not use cuDNN kernels since it doesn't meet the criteria. It will use a generic GPU kernel as fallback when running on GPU.\n"
     ]
    },
    {
     "name": "stderr",
     "output_type": "stream",
     "text": [
      "2023-01-05 21:24:44.702585: I tensorflow/core/platform/cpu_feature_guard.cc:151] This TensorFlow binary is optimized with oneAPI Deep Neural Network Library (oneDNN) to use the following CPU instructions in performance-critical operations:  AVX2 AVX512F FMA\n",
      "To enable them in other operations, rebuild TensorFlow with the appropriate compiler flags.\n",
      "2023-01-05 21:24:46.336386: I tensorflow/core/common_runtime/gpu/gpu_device.cc:1525] Created device /job:localhost/replica:0/task:0/device:GPU:0 with 14243 MB memory:  -> device: 0, name: NVIDIA RTX A4000, pci bus id: 0000:1b:00.0, compute capability: 8.6\n",
      "2023-01-05 21:24:46.337008: I tensorflow/core/common_runtime/gpu/gpu_device.cc:1525] Created device /job:localhost/replica:0/task:0/device:GPU:1 with 14243 MB memory:  -> device: 1, name: NVIDIA RTX A4000, pci bus id: 0000:1d:00.0, compute capability: 8.6\n",
      "2023-01-05 21:24:46.337467: I tensorflow/core/common_runtime/gpu/gpu_device.cc:1525] Created device /job:localhost/replica:0/task:0/device:GPU:2 with 14243 MB memory:  -> device: 2, name: NVIDIA RTX A4000, pci bus id: 0000:3d:00.0, compute capability: 8.6\n",
      "2023-01-05 21:24:46.337930: I tensorflow/core/common_runtime/gpu/gpu_device.cc:1525] Created device /job:localhost/replica:0/task:0/device:GPU:3 with 14243 MB memory:  -> device: 3, name: NVIDIA RTX A4000, pci bus id: 0000:3f:00.0, compute capability: 8.6\n"
     ]
    },
    {
     "name": "stdout",
     "output_type": "stream",
     "text": [
      "Model: \"sequential\"\n",
      "_________________________________________________________________\n",
      " Layer (type)                Output Shape              Param #   \n",
      "=================================================================\n",
      " lstm (LSTM)                 (None, 100)               64400     \n",
      "                                                                 \n",
      " dense (Dense)               (None, 1)                 101       \n",
      "                                                                 \n",
      "=================================================================\n",
      "Total params: 64,501\n",
      "Trainable params: 64,501\n",
      "Non-trainable params: 0\n",
      "_________________________________________________________________\n",
      "Epoch 1/5\n",
      "   5/1182 [..............................] - ETA: 46s - loss: 0.0308"
     ]
    },
    {
     "name": "stderr",
     "output_type": "stream",
     "text": [
      "2023-01-05 21:24:48.561595: I tensorflow/stream_executor/cuda/cuda_blas.cc:1774] TensorFloat-32 will be used for the matrix multiplication. This will only be logged once.\n"
     ]
    },
    {
     "name": "stdout",
     "output_type": "stream",
     "text": [
      "1182/1182 [==============================] - 46s 37ms/step - loss: 0.0327\n",
      "Epoch 2/5\n",
      "1182/1182 [==============================] - 44s 37ms/step - loss: 0.0319\n",
      "Epoch 3/5\n",
      "1182/1182 [==============================] - 44s 37ms/step - loss: 0.0296\n",
      "Epoch 4/5\n",
      "1182/1182 [==============================] - 44s 38ms/step - loss: 0.0293\n",
      "Epoch 5/5\n",
      "1182/1182 [==============================] - 44s 37ms/step - loss: 0.0293\n",
      "[[68009     0]\n",
      " [ 1180     0]]\n"
     ]
    }
   ],
   "source": [
    "X_train, y_train, X_test, y_test = p3_data, p3_labels_binary, p1_data, p1_labels_binary\n",
    "y_train = y_train.astype('float64')\n",
    "y_test = y_test.astype('float64')\n",
    "X_train = X_train.astype('float64')\n",
    "X_test = X_test.astype('float64')\n",
    "X_train = X_train / np.linalg.norm(X_train)\n",
    "X_test = X_test / np.linalg.norm(X_test)\n",
    "\n",
    "model = Sequential()\n",
    "model.add(LSTM(100, activation='relu', input_shape=(24,60)))\n",
    "model.add(Dense(1))\n",
    "model.compile(optimizer='adam', loss='mse')\n",
    "model.summary()\n",
    "\n",
    "model.fit(X_train, y_train, epochs=5)\n",
    "\n",
    "pred = model.predict(X_test)\n",
    "\n",
    "pp = []\n",
    "for j in pred:\n",
    "    if (j < 0.5):\n",
    "        pp.append(0)\n",
    "    else:\n",
    "        pp.append(1)\n",
    "\n",
    "score = confusion_matrix(y_test,pp)\n",
    "\n",
    "print(score)"
   ]
  },
  {
   "cell_type": "code",
   "execution_count": 3,
   "id": "c501c0de",
   "metadata": {},
   "outputs": [
    {
     "name": "stdout",
     "output_type": "stream",
     "text": [
      "0.0\n",
      "0.0\n"
     ]
    },
    {
     "name": "stderr",
     "output_type": "stream",
     "text": [
      "/tmp/ipykernel_72881/3715952775.py:8: RuntimeWarning: invalid value encountered in true_divide\n",
      "  pr_pos = TP/(TP + FP)\n"
     ]
    }
   ],
   "source": [
    "TN, FP, FN, TP = score.ravel()\n",
    "TN = np.array(TN)\n",
    "FP = np.array(FP)\n",
    "FN = np.array(FN)\n",
    "TP = np.array(TP)\n",
    "\n",
    "acc = (TP + TN) / (TP + FN + TN + FP)\n",
    "pr_pos = TP/(TP + FP)\n",
    "pr_neg = TN/(TN + FN)\n",
    "rc_pos = TP/(TP + FN)\n",
    "rc_neg = TN/(TN + FP)\n",
    "f1_pos = (2 * pr_pos * rc_pos) / (pr_pos + rc_pos)\n",
    "f1_neg = (2 * pr_neg * rc_neg) / (pr_neg + rc_neg)\n",
    "\n",
    "P = TP + FN\n",
    "N = TN + FP\n",
    "\n",
    "HSS1 = (TP + TN - N) / P\n",
    "HSS2 = (2*((TP*TN)-(FP*FN)))/(P*(FN+TN)+(TP+FP)*N)\n",
    "\n",
    "CH = ((TP+FP)*(TP+FN))/(P+N)\n",
    "GS = (TP-CH)/(TP+FP+FN-CH)\n",
    "\n",
    "TSS = ((TP*TN)-(FP*FN))/(P*N)\n",
    "\n",
    "print(TSS)\n",
    "print(HSS2)"
   ]
  },
  {
   "cell_type": "markdown",
   "id": "bb3ec76e",
   "metadata": {},
   "source": [
    "# Pair 10"
   ]
  },
  {
   "cell_type": "code",
   "execution_count": 2,
   "id": "4e9e6142",
   "metadata": {},
   "outputs": [
    {
     "name": "stdout",
     "output_type": "stream",
     "text": [
      "WARNING:tensorflow:Layer lstm will not use cuDNN kernels since it doesn't meet the criteria. It will use a generic GPU kernel as fallback when running on GPU.\n"
     ]
    },
    {
     "name": "stderr",
     "output_type": "stream",
     "text": [
      "2023-01-07 13:47:13.911818: I tensorflow/core/platform/cpu_feature_guard.cc:151] This TensorFlow binary is optimized with oneAPI Deep Neural Network Library (oneDNN) to use the following CPU instructions in performance-critical operations:  AVX2 AVX512F FMA\n",
      "To enable them in other operations, rebuild TensorFlow with the appropriate compiler flags.\n",
      "2023-01-07 13:47:15.512403: I tensorflow/core/common_runtime/gpu/gpu_device.cc:1525] Created device /job:localhost/replica:0/task:0/device:GPU:0 with 14243 MB memory:  -> device: 0, name: NVIDIA RTX A4000, pci bus id: 0000:1b:00.0, compute capability: 8.6\n",
      "2023-01-07 13:47:15.513046: I tensorflow/core/common_runtime/gpu/gpu_device.cc:1525] Created device /job:localhost/replica:0/task:0/device:GPU:1 with 14243 MB memory:  -> device: 1, name: NVIDIA RTX A4000, pci bus id: 0000:1d:00.0, compute capability: 8.6\n",
      "2023-01-07 13:47:15.513544: I tensorflow/core/common_runtime/gpu/gpu_device.cc:1525] Created device /job:localhost/replica:0/task:0/device:GPU:2 with 14243 MB memory:  -> device: 2, name: NVIDIA RTX A4000, pci bus id: 0000:3d:00.0, compute capability: 8.6\n",
      "2023-01-07 13:47:15.513950: I tensorflow/core/common_runtime/gpu/gpu_device.cc:1525] Created device /job:localhost/replica:0/task:0/device:GPU:3 with 14243 MB memory:  -> device: 3, name: NVIDIA RTX A4000, pci bus id: 0000:3f:00.0, compute capability: 8.6\n"
     ]
    },
    {
     "name": "stdout",
     "output_type": "stream",
     "text": [
      "Model: \"sequential\"\n",
      "_________________________________________________________________\n",
      " Layer (type)                Output Shape              Param #   \n",
      "=================================================================\n",
      " lstm (LSTM)                 (None, 100)               64400     \n",
      "                                                                 \n",
      " dense (Dense)               (None, 1)                 101       \n",
      "                                                                 \n",
      "=================================================================\n",
      "Total params: 64,501\n",
      "Trainable params: 64,501\n",
      "Non-trainable params: 0\n",
      "_________________________________________________________________\n",
      "Epoch 1/5\n",
      "   5/1182 [..............................] - ETA: 37s - loss: 0.0185    "
     ]
    },
    {
     "name": "stderr",
     "output_type": "stream",
     "text": [
      "2023-01-07 13:47:17.732316: I tensorflow/stream_executor/cuda/cuda_blas.cc:1774] TensorFloat-32 will be used for the matrix multiplication. This will only be logged once.\n"
     ]
    },
    {
     "name": "stdout",
     "output_type": "stream",
     "text": [
      "1182/1182 [==============================] - 43s 35ms/step - loss: 0.0327\n",
      "Epoch 2/5\n",
      "1182/1182 [==============================] - 42s 35ms/step - loss: 0.0318\n",
      "Epoch 3/5\n",
      "1182/1182 [==============================] - 43s 36ms/step - loss: 0.0296\n",
      "Epoch 4/5\n",
      "1182/1182 [==============================] - 43s 37ms/step - loss: 0.0293\n",
      "Epoch 5/5\n",
      "1182/1182 [==============================] - 43s 36ms/step - loss: 0.0293\n",
      "[[78256     0]\n",
      " [ 1285     0]]\n"
     ]
    }
   ],
   "source": [
    "X_train, y_train, X_test, y_test = p3_data, p3_labels_binary, p2_data, p2_labels_binary\n",
    "y_train = y_train.astype('float64')\n",
    "y_test = y_test.astype('float64')\n",
    "X_train = X_train.astype('float64')\n",
    "X_test = X_test.astype('float64')\n",
    "X_train = X_train / np.linalg.norm(X_train)\n",
    "X_test = X_test / np.linalg.norm(X_test)\n",
    "\n",
    "model = Sequential()\n",
    "model.add(LSTM(100, activation='relu', input_shape=(24,60)))\n",
    "model.add(Dense(1))\n",
    "model.compile(optimizer='adam', loss='mse')\n",
    "model.summary()\n",
    "\n",
    "model.fit(X_train, y_train, epochs=5)\n",
    "\n",
    "pred = model.predict(X_test)\n",
    "\n",
    "pp = []\n",
    "for j in pred:\n",
    "    if (j < 0.5):\n",
    "        pp.append(0)\n",
    "    else:\n",
    "        pp.append(1)\n",
    "\n",
    "score = confusion_matrix(y_test,pp)\n",
    "\n",
    "print(score)"
   ]
  },
  {
   "cell_type": "code",
   "execution_count": 3,
   "id": "43361d6c",
   "metadata": {},
   "outputs": [
    {
     "name": "stdout",
     "output_type": "stream",
     "text": [
      "0.0\n",
      "0.0\n"
     ]
    },
    {
     "name": "stderr",
     "output_type": "stream",
     "text": [
      "/tmp/ipykernel_82355/3715952775.py:8: RuntimeWarning: invalid value encountered in true_divide\n",
      "  pr_pos = TP/(TP + FP)\n"
     ]
    }
   ],
   "source": [
    "TN, FP, FN, TP = score.ravel()\n",
    "TN = np.array(TN)\n",
    "FP = np.array(FP)\n",
    "FN = np.array(FN)\n",
    "TP = np.array(TP)\n",
    "\n",
    "acc = (TP + TN) / (TP + FN + TN + FP)\n",
    "pr_pos = TP/(TP + FP)\n",
    "pr_neg = TN/(TN + FN)\n",
    "rc_pos = TP/(TP + FN)\n",
    "rc_neg = TN/(TN + FP)\n",
    "f1_pos = (2 * pr_pos * rc_pos) / (pr_pos + rc_pos)\n",
    "f1_neg = (2 * pr_neg * rc_neg) / (pr_neg + rc_neg)\n",
    "\n",
    "P = TP + FN\n",
    "N = TN + FP\n",
    "\n",
    "HSS1 = (TP + TN - N) / P\n",
    "HSS2 = (2*((TP*TN)-(FP*FN)))/(P*(FN+TN)+(TP+FP)*N)\n",
    "\n",
    "CH = ((TP+FP)*(TP+FN))/(P+N)\n",
    "GS = (TP-CH)/(TP+FP+FN-CH)\n",
    "\n",
    "TSS = ((TP*TN)-(FP*FN))/(P*N)\n",
    "\n",
    "print(TSS)\n",
    "print(HSS2)"
   ]
  },
  {
   "cell_type": "markdown",
   "id": "3bf14f79",
   "metadata": {},
   "source": [
    "# Pair 11"
   ]
  },
  {
   "cell_type": "code",
   "execution_count": 2,
   "id": "29a95d4e",
   "metadata": {},
   "outputs": [
    {
     "name": "stdout",
     "output_type": "stream",
     "text": [
      "WARNING:tensorflow:Layer lstm will not use cuDNN kernels since it doesn't meet the criteria. It will use a generic GPU kernel as fallback when running on GPU.\n"
     ]
    },
    {
     "name": "stderr",
     "output_type": "stream",
     "text": [
      "2023-01-07 13:52:29.623926: I tensorflow/core/platform/cpu_feature_guard.cc:151] This TensorFlow binary is optimized with oneAPI Deep Neural Network Library (oneDNN) to use the following CPU instructions in performance-critical operations:  AVX2 AVX512F FMA\n",
      "To enable them in other operations, rebuild TensorFlow with the appropriate compiler flags.\n",
      "2023-01-07 13:52:31.239808: I tensorflow/core/common_runtime/gpu/gpu_device.cc:1525] Created device /job:localhost/replica:0/task:0/device:GPU:0 with 14243 MB memory:  -> device: 0, name: NVIDIA RTX A4000, pci bus id: 0000:1b:00.0, compute capability: 8.6\n",
      "2023-01-07 13:52:31.240451: I tensorflow/core/common_runtime/gpu/gpu_device.cc:1525] Created device /job:localhost/replica:0/task:0/device:GPU:1 with 14243 MB memory:  -> device: 1, name: NVIDIA RTX A4000, pci bus id: 0000:1d:00.0, compute capability: 8.6\n",
      "2023-01-07 13:52:31.240923: I tensorflow/core/common_runtime/gpu/gpu_device.cc:1525] Created device /job:localhost/replica:0/task:0/device:GPU:2 with 14243 MB memory:  -> device: 2, name: NVIDIA RTX A4000, pci bus id: 0000:3d:00.0, compute capability: 8.6\n",
      "2023-01-07 13:52:31.241344: I tensorflow/core/common_runtime/gpu/gpu_device.cc:1525] Created device /job:localhost/replica:0/task:0/device:GPU:3 with 14243 MB memory:  -> device: 3, name: NVIDIA RTX A4000, pci bus id: 0000:3f:00.0, compute capability: 8.6\n"
     ]
    },
    {
     "name": "stdout",
     "output_type": "stream",
     "text": [
      "Model: \"sequential\"\n",
      "_________________________________________________________________\n",
      " Layer (type)                Output Shape              Param #   \n",
      "=================================================================\n",
      " lstm (LSTM)                 (None, 100)               64400     \n",
      "                                                                 \n",
      " dense (Dense)               (None, 1)                 101       \n",
      "                                                                 \n",
      "=================================================================\n",
      "Total params: 64,501\n",
      "Trainable params: 64,501\n",
      "Non-trainable params: 0\n",
      "_________________________________________________________________\n",
      "Epoch 1/5\n",
      "   5/1182 [..............................] - ETA: 44s - loss: 0.0434    "
     ]
    },
    {
     "name": "stderr",
     "output_type": "stream",
     "text": [
      "2023-01-07 13:52:33.395096: I tensorflow/stream_executor/cuda/cuda_blas.cc:1774] TensorFloat-32 will be used for the matrix multiplication. This will only be logged once.\n"
     ]
    },
    {
     "name": "stdout",
     "output_type": "stream",
     "text": [
      "1182/1182 [==============================] - 44s 36ms/step - loss: 0.0327\n",
      "Epoch 2/5\n",
      "1182/1182 [==============================] - 44s 37ms/step - loss: 0.0325\n",
      "Epoch 3/5\n",
      "1182/1182 [==============================] - 46s 39ms/step - loss: 0.0297\n",
      "Epoch 4/5\n",
      "1182/1182 [==============================] - 45s 38ms/step - loss: 0.0292\n",
      "Epoch 5/5\n",
      "1182/1182 [==============================] - 43s 36ms/step - loss: 0.0291\n",
      "[[42695     0]\n",
      " [  849    41]]\n"
     ]
    }
   ],
   "source": [
    "X_train, y_train, X_test, y_test = p3_data, p3_labels_binary, p4_data, p4_labels_binary\n",
    "y_train = y_train.astype('float64')\n",
    "y_test = y_test.astype('float64')\n",
    "X_train = X_train.astype('float64')\n",
    "X_test = X_test.astype('float64')\n",
    "X_train = X_train / np.linalg.norm(X_train)\n",
    "X_test = X_test / np.linalg.norm(X_test)\n",
    "\n",
    "model = Sequential()\n",
    "model.add(LSTM(100, activation='relu', input_shape=(24,60)))\n",
    "model.add(Dense(1))\n",
    "model.compile(optimizer='adam', loss='mse')\n",
    "model.summary()\n",
    "\n",
    "model.fit(X_train, y_train, epochs=5)\n",
    "\n",
    "pred = model.predict(X_test)\n",
    "\n",
    "pp = []\n",
    "for j in pred:\n",
    "    if (j < 0.5):\n",
    "        pp.append(0)\n",
    "    else:\n",
    "        pp.append(1)\n",
    "\n",
    "score = confusion_matrix(y_test,pp)\n",
    "\n",
    "print(score)"
   ]
  },
  {
   "cell_type": "code",
   "execution_count": 3,
   "id": "b25b8a23",
   "metadata": {},
   "outputs": [
    {
     "name": "stdout",
     "output_type": "stream",
     "text": [
      "0.046067415730337076\n",
      "0.08643426292607603\n"
     ]
    }
   ],
   "source": [
    "TN, FP, FN, TP = score.ravel()\n",
    "TN = np.array(TN)\n",
    "FP = np.array(FP)\n",
    "FN = np.array(FN)\n",
    "TP = np.array(TP)\n",
    "\n",
    "acc = (TP + TN) / (TP + FN + TN + FP)\n",
    "pr_pos = TP/(TP + FP)\n",
    "pr_neg = TN/(TN + FN)\n",
    "rc_pos = TP/(TP + FN)\n",
    "rc_neg = TN/(TN + FP)\n",
    "f1_pos = (2 * pr_pos * rc_pos) / (pr_pos + rc_pos)\n",
    "f1_neg = (2 * pr_neg * rc_neg) / (pr_neg + rc_neg)\n",
    "\n",
    "P = TP + FN\n",
    "N = TN + FP\n",
    "\n",
    "HSS1 = (TP + TN - N) / P\n",
    "HSS2 = (2*((TP*TN)-(FP*FN)))/(P*(FN+TN)+(TP+FP)*N)\n",
    "\n",
    "CH = ((TP+FP)*(TP+FN))/(P+N)\n",
    "GS = (TP-CH)/(TP+FP+FN-CH)\n",
    "\n",
    "TSS = ((TP*TN)-(FP*FN))/(P*N)\n",
    "\n",
    "print(TSS)\n",
    "print(HSS2)"
   ]
  },
  {
   "cell_type": "markdown",
   "id": "3bf206c6",
   "metadata": {},
   "source": [
    "# Pair 12"
   ]
  },
  {
   "cell_type": "code",
   "execution_count": 2,
   "id": "00baa5f2",
   "metadata": {},
   "outputs": [
    {
     "name": "stderr",
     "output_type": "stream",
     "text": [
      "2023-01-07 13:57:03.707112: I tensorflow/core/platform/cpu_feature_guard.cc:151] This TensorFlow binary is optimized with oneAPI Deep Neural Network Library (oneDNN) to use the following CPU instructions in performance-critical operations:  AVX2 AVX512F FMA\n",
      "To enable them in other operations, rebuild TensorFlow with the appropriate compiler flags.\n",
      "2023-01-07 13:57:05.337701: I tensorflow/core/common_runtime/gpu/gpu_device.cc:1525] Created device /job:localhost/replica:0/task:0/device:GPU:0 with 14243 MB memory:  -> device: 0, name: NVIDIA RTX A4000, pci bus id: 0000:1b:00.0, compute capability: 8.6\n",
      "2023-01-07 13:57:05.338353: I tensorflow/core/common_runtime/gpu/gpu_device.cc:1525] Created device /job:localhost/replica:0/task:0/device:GPU:1 with 14243 MB memory:  -> device: 1, name: NVIDIA RTX A4000, pci bus id: 0000:1d:00.0, compute capability: 8.6\n",
      "2023-01-07 13:57:05.338805: I tensorflow/core/common_runtime/gpu/gpu_device.cc:1525] Created device /job:localhost/replica:0/task:0/device:GPU:2 with 14243 MB memory:  -> device: 2, name: NVIDIA RTX A4000, pci bus id: 0000:3d:00.0, compute capability: 8.6\n",
      "2023-01-07 13:57:05.339246: I tensorflow/core/common_runtime/gpu/gpu_device.cc:1525] Created device /job:localhost/replica:0/task:0/device:GPU:3 with 14243 MB memory:  -> device: 3, name: NVIDIA RTX A4000, pci bus id: 0000:3f:00.0, "
     ]
    },
    {
     "name": "stdout",
     "output_type": "stream",
     "text": [
      "WARNING:tensorflow:Layer lstm will not use cuDNN kernels since it doesn't meet the criteria. It will use a generic GPU kernel as fallback when running on GPU.\n"
     ]
    },
    {
     "name": "stderr",
     "output_type": "stream",
     "text": [
      "compute capability: 8.6\n"
     ]
    },
    {
     "name": "stdout",
     "output_type": "stream",
     "text": [
      "Model: \"sequential\"\n",
      "_________________________________________________________________\n",
      " Layer (type)                Output Shape              Param #   \n",
      "=================================================================\n",
      " lstm (LSTM)                 (None, 100)               64400     \n",
      "                                                                 \n",
      " dense (Dense)               (None, 1)                 101       \n",
      "                                                                 \n",
      "=================================================================\n",
      "Total params: 64,501\n",
      "Trainable params: 64,501\n",
      "Non-trainable params: 0\n",
      "_________________________________________________________________\n",
      "Epoch 1/5\n",
      "   5/1182 [..............................] - ETA: 36s - loss: 0.0309    "
     ]
    },
    {
     "name": "stderr",
     "output_type": "stream",
     "text": [
      "2023-01-07 13:57:07.617315: I tensorflow/stream_executor/cuda/cuda_blas.cc:1774] TensorFloat-32 will be used for the matrix multiplication. This will only be logged once.\n"
     ]
    },
    {
     "name": "stdout",
     "output_type": "stream",
     "text": [
      "1182/1182 [==============================] - 44s 36ms/step - loss: 0.0327\n",
      "Epoch 2/5\n",
      "1182/1182 [==============================] - 44s 37ms/step - loss: 0.0326\n",
      "Epoch 3/5\n",
      "1182/1182 [==============================] - 44s 37ms/step - loss: 0.0325\n",
      "Epoch 4/5\n",
      "1182/1182 [==============================] - 43s 37ms/step - loss: 0.0311\n",
      "Epoch 5/5\n",
      "1182/1182 [==============================] - 43s 37ms/step - loss: 0.0294\n",
      "[[65609     0]\n",
      " [  894     0]]\n"
     ]
    }
   ],
   "source": [
    "X_train, y_train, X_test, y_test = p3_data, p3_labels_binary, p5_data, p5_labels_binary\n",
    "y_train = y_train.astype('float64')\n",
    "y_test = y_test.astype('float64')\n",
    "X_train = X_train.astype('float64')\n",
    "X_test = X_test.astype('float64')\n",
    "X_train = X_train / np.linalg.norm(X_train)\n",
    "X_test = X_test / np.linalg.norm(X_test)\n",
    "\n",
    "model = Sequential()\n",
    "model.add(LSTM(100, activation='relu', input_shape=(24,60)))\n",
    "model.add(Dense(1))\n",
    "model.compile(optimizer='adam', loss='mse')\n",
    "model.summary()\n",
    "\n",
    "model.fit(X_train, y_train, epochs=5)\n",
    "\n",
    "pred = model.predict(X_test)\n",
    "\n",
    "pp = []\n",
    "for j in pred:\n",
    "    if (j < 0.5):\n",
    "        pp.append(0)\n",
    "    else:\n",
    "        pp.append(1)\n",
    "\n",
    "score = confusion_matrix(y_test,pp)\n",
    "\n",
    "print(score)"
   ]
  },
  {
   "cell_type": "code",
   "execution_count": 3,
   "id": "98d82f1c",
   "metadata": {},
   "outputs": [
    {
     "name": "stdout",
     "output_type": "stream",
     "text": [
      "0.0\n",
      "0.0\n"
     ]
    },
    {
     "name": "stderr",
     "output_type": "stream",
     "text": [
      "/tmp/ipykernel_83621/3715952775.py:8: RuntimeWarning: invalid value encountered in true_divide\n",
      "  pr_pos = TP/(TP + FP)\n"
     ]
    }
   ],
   "source": [
    "TN, FP, FN, TP = score.ravel()\n",
    "TN = np.array(TN)\n",
    "FP = np.array(FP)\n",
    "FN = np.array(FN)\n",
    "TP = np.array(TP)\n",
    "\n",
    "acc = (TP + TN) / (TP + FN + TN + FP)\n",
    "pr_pos = TP/(TP + FP)\n",
    "pr_neg = TN/(TN + FN)\n",
    "rc_pos = TP/(TP + FN)\n",
    "rc_neg = TN/(TN + FP)\n",
    "f1_pos = (2 * pr_pos * rc_pos) / (pr_pos + rc_pos)\n",
    "f1_neg = (2 * pr_neg * rc_neg) / (pr_neg + rc_neg)\n",
    "\n",
    "P = TP + FN\n",
    "N = TN + FP\n",
    "\n",
    "HSS1 = (TP + TN - N) / P\n",
    "HSS2 = (2*((TP*TN)-(FP*FN)))/(P*(FN+TN)+(TP+FP)*N)\n",
    "\n",
    "CH = ((TP+FP)*(TP+FN))/(P+N)\n",
    "GS = (TP-CH)/(TP+FP+FN-CH)\n",
    "\n",
    "TSS = ((TP*TN)-(FP*FN))/(P*N)\n",
    "\n",
    "print(TSS)\n",
    "print(HSS2)"
   ]
  },
  {
   "cell_type": "markdown",
   "id": "c10faf8d",
   "metadata": {},
   "source": [
    "# Pair 13"
   ]
  },
  {
   "cell_type": "code",
   "execution_count": 2,
   "id": "1c878956",
   "metadata": {},
   "outputs": [
    {
     "name": "stdout",
     "output_type": "stream",
     "text": [
      "WARNING:tensorflow:Layer lstm will not use cuDNN kernels since it doesn't meet the criteria. It will use a generic GPU kernel as fallback when running on GPU.\n"
     ]
    },
    {
     "name": "stderr",
     "output_type": "stream",
     "text": [
      "2023-01-07 14:01:20.976159: I tensorflow/core/platform/cpu_feature_guard.cc:151] This TensorFlow binary is optimized with oneAPI Deep Neural Network Library (oneDNN) to use the following CPU instructions in performance-critical operations:  AVX2 AVX512F FMA\n",
      "To enable them in other operations, rebuild TensorFlow with the appropriate compiler flags.\n",
      "2023-01-07 14:01:22.593203: I tensorflow/core/common_runtime/gpu/gpu_device.cc:1525] Created device /job:localhost/replica:0/task:0/device:GPU:0 with 14243 MB memory:  -> device: 0, name: NVIDIA RTX A4000, pci bus id: 0000:1b:00.0, compute capability: 8.6\n",
      "2023-01-07 14:01:22.593810: I tensorflow/core/common_runtime/gpu/gpu_device.cc:1525] Created device /job:localhost/replica:0/task:0/device:GPU:1 with 14243 MB memory:  -> device: 1, name: NVIDIA RTX A4000, pci bus id: 0000:1d:00.0, compute capability: 8.6\n",
      "2023-01-07 14:01:22.594247: I tensorflow/core/common_runtime/gpu/gpu_device.cc:1525] Created device /job:localhost/replica:0/task:0/device:GPU:2 with 14243 MB memory:  -> device: 2, name: NVIDIA RTX A4000, pci bus id: 0000:3d:00.0, compute capability: 8.6\n",
      "2023-01-07 14:01:22.594664: I tensorflow/core/common_runtime/gpu/gpu_device.cc:1525] Created device /job:localhost/replica:0/task:0/device:GPU:3 with 14243 MB memory:  -> device: 3, name: NVIDIA RTX A4000, pci bus id: 0000:3f:00.0, compute capability: 8.6\n"
     ]
    },
    {
     "name": "stdout",
     "output_type": "stream",
     "text": [
      "Model: \"sequential\"\n",
      "_________________________________________________________________\n",
      " Layer (type)                Output Shape              Param #   \n",
      "=================================================================\n",
      " lstm (LSTM)                 (None, 100)               64400     \n",
      "                                                                 \n",
      " dense (Dense)               (None, 1)                 101       \n",
      "                                                                 \n",
      "=================================================================\n",
      "Total params: 64,501\n",
      "Trainable params: 64,501\n",
      "Non-trainable params: 0\n",
      "_________________________________________________________________\n",
      "Epoch 1/5\n",
      "   5/1363 [..............................] - ETA: 43s - loss: 0.0249"
     ]
    },
    {
     "name": "stderr",
     "output_type": "stream",
     "text": [
      "2023-01-07 14:01:24.850266: I tensorflow/stream_executor/cuda/cuda_blas.cc:1774] TensorFloat-32 will be used for the matrix multiplication. This will only be logged once.\n"
     ]
    },
    {
     "name": "stdout",
     "output_type": "stream",
     "text": [
      "1363/1363 [==============================] - 50s 36ms/step - loss: 0.0200\n",
      "Epoch 2/5\n",
      "1363/1363 [==============================] - 49s 36ms/step - loss: 0.1907\n",
      "Epoch 3/5\n",
      "1363/1363 [==============================] - 50s 37ms/step - loss: 0.0200\n",
      "Epoch 4/5\n",
      "1363/1363 [==============================] - 49s 36ms/step - loss: 0.0200\n",
      "Epoch 5/5\n",
      "1363/1363 [==============================] - 51s 38ms/step - loss: 0.0200\n",
      "[[68009     0]\n",
      " [ 1180     0]]\n"
     ]
    }
   ],
   "source": [
    "X_train, y_train, X_test, y_test = p4_data, p4_labels_binary, p1_data, p1_labels_binary\n",
    "y_train = y_train.astype('float64')\n",
    "y_test = y_test.astype('float64')\n",
    "X_train = X_train.astype('float64')\n",
    "X_test = X_test.astype('float64')\n",
    "X_train = X_train / np.linalg.norm(X_train)\n",
    "X_test = X_test / np.linalg.norm(X_test)\n",
    "\n",
    "model = Sequential()\n",
    "model.add(LSTM(100, activation='relu', input_shape=(24,60)))\n",
    "model.add(Dense(1))\n",
    "model.compile(optimizer='adam', loss='mse')\n",
    "model.summary()\n",
    "\n",
    "model.fit(X_train, y_train, epochs=5)\n",
    "\n",
    "pred = model.predict(X_test)\n",
    "\n",
    "pp = []\n",
    "for j in pred:\n",
    "    if (j < 0.5):\n",
    "        pp.append(0)\n",
    "    else:\n",
    "        pp.append(1)\n",
    "\n",
    "score = confusion_matrix(y_test,pp)\n",
    "\n",
    "print(score)"
   ]
  },
  {
   "cell_type": "code",
   "execution_count": 3,
   "id": "4683819f",
   "metadata": {},
   "outputs": [
    {
     "name": "stdout",
     "output_type": "stream",
     "text": [
      "0.0\n",
      "0.0\n"
     ]
    },
    {
     "name": "stderr",
     "output_type": "stream",
     "text": [
      "/tmp/ipykernel_84253/3715952775.py:8: RuntimeWarning: invalid value encountered in true_divide\n",
      "  pr_pos = TP/(TP + FP)\n"
     ]
    }
   ],
   "source": [
    "TN, FP, FN, TP = score.ravel()\n",
    "TN = np.array(TN)\n",
    "FP = np.array(FP)\n",
    "FN = np.array(FN)\n",
    "TP = np.array(TP)\n",
    "\n",
    "acc = (TP + TN) / (TP + FN + TN + FP)\n",
    "pr_pos = TP/(TP + FP)\n",
    "pr_neg = TN/(TN + FN)\n",
    "rc_pos = TP/(TP + FN)\n",
    "rc_neg = TN/(TN + FP)\n",
    "f1_pos = (2 * pr_pos * rc_pos) / (pr_pos + rc_pos)\n",
    "f1_neg = (2 * pr_neg * rc_neg) / (pr_neg + rc_neg)\n",
    "\n",
    "P = TP + FN\n",
    "N = TN + FP\n",
    "\n",
    "HSS1 = (TP + TN - N) / P\n",
    "HSS2 = (2*((TP*TN)-(FP*FN)))/(P*(FN+TN)+(TP+FP)*N)\n",
    "\n",
    "CH = ((TP+FP)*(TP+FN))/(P+N)\n",
    "GS = (TP-CH)/(TP+FP+FN-CH)\n",
    "\n",
    "TSS = ((TP*TN)-(FP*FN))/(P*N)\n",
    "\n",
    "print(TSS)\n",
    "print(HSS2)"
   ]
  },
  {
   "cell_type": "markdown",
   "id": "db774852",
   "metadata": {},
   "source": [
    "# Pair 14"
   ]
  },
  {
   "cell_type": "code",
   "execution_count": 2,
   "id": "bc8b5946",
   "metadata": {},
   "outputs": [
    {
     "name": "stdout",
     "output_type": "stream",
     "text": [
      "WARNING:tensorflow:Layer lstm will not use cuDNN kernels since it doesn't meet the criteria. It will use a generic GPU kernel as fallback when running on GPU.\n"
     ]
    },
    {
     "name": "stderr",
     "output_type": "stream",
     "text": [
      "2023-01-07 14:07:58.333471: I tensorflow/core/platform/cpu_feature_guard.cc:151] This TensorFlow binary is optimized with oneAPI Deep Neural Network Library (oneDNN) to use the following CPU instructions in performance-critical operations:  AVX2 AVX512F FMA\n",
      "To enable them in other operations, rebuild TensorFlow with the appropriate compiler flags.\n",
      "2023-01-07 14:07:59.939550: I tensorflow/core/common_runtime/gpu/gpu_device.cc:1525] Created device /job:localhost/replica:0/task:0/device:GPU:0 with 14243 MB memory:  -> device: 0, name: NVIDIA RTX A4000, pci bus id: 0000:1b:00.0, compute capability: 8.6\n",
      "2023-01-07 14:07:59.940170: I tensorflow/core/common_runtime/gpu/gpu_device.cc:1525] Created device /job:localhost/replica:0/task:0/device:GPU:1 with 14243 MB memory:  -> device: 1, name: NVIDIA RTX A4000, pci bus id: 0000:1d:00.0, compute capability: 8.6\n",
      "2023-01-07 14:07:59.940613: I tensorflow/core/common_runtime/gpu/gpu_device.cc:1525] Created device /job:localhost/replica:0/task:0/device:GPU:2 with 14243 MB memory:  -> device: 2, name: NVIDIA RTX A4000, pci bus id: 0000:3d:00.0, compute capability: 8.6\n",
      "2023-01-07 14:07:59.941109: I tensorflow/core/common_runtime/gpu/gpu_device.cc:1525] Created device /job:localhost/replica:0/task:0/device:GPU:3 with 14243 MB memory:  -> device: 3, name: NVIDIA RTX A4000, pci bus id: 0000:3f:00.0, compute capability: 8.6\n"
     ]
    },
    {
     "name": "stdout",
     "output_type": "stream",
     "text": [
      "Model: \"sequential\"\n",
      "_________________________________________________________________\n",
      " Layer (type)                Output Shape              Param #   \n",
      "=================================================================\n",
      " lstm (LSTM)                 (None, 100)               64400     \n",
      "                                                                 \n",
      " dense (Dense)               (None, 1)                 101       \n",
      "                                                                 \n",
      "=================================================================\n",
      "Total params: 64,501\n",
      "Trainable params: 64,501\n",
      "Non-trainable params: 0\n",
      "_________________________________________________________________\n",
      "Epoch 1/5\n",
      "   5/1363 [..............................] - ETA: 43s - loss: 0.0125    "
     ]
    },
    {
     "name": "stderr",
     "output_type": "stream",
     "text": [
      "2023-01-07 14:08:02.295827: I tensorflow/stream_executor/cuda/cuda_blas.cc:1774] TensorFloat-32 will be used for the matrix multiplication. This will only be logged once.\n"
     ]
    },
    {
     "name": "stdout",
     "output_type": "stream",
     "text": [
      "1363/1363 [==============================] - 50s 36ms/step - loss: 0.0200\n",
      "Epoch 2/5\n",
      "1363/1363 [==============================] - 50s 36ms/step - loss: 0.0200\n",
      "Epoch 3/5\n",
      "1363/1363 [==============================] - 50s 37ms/step - loss: 0.0197\n",
      "Epoch 4/5\n",
      "1363/1363 [==============================] - 50s 37ms/step - loss: 0.0165\n",
      "Epoch 5/5\n",
      "1363/1363 [==============================] - 50s 37ms/step - loss: 0.0174\n",
      "[[78231    25]\n",
      " [ 1254    31]]\n"
     ]
    }
   ],
   "source": [
    "X_train, y_train, X_test, y_test = p4_data, p4_labels_binary, p2_data, p2_labels_binary\n",
    "y_train = y_train.astype('float64')\n",
    "y_test = y_test.astype('float64')\n",
    "X_train = X_train.astype('float64')\n",
    "X_test = X_test.astype('float64')\n",
    "X_train = X_train / np.linalg.norm(X_train)\n",
    "X_test = X_test / np.linalg.norm(X_test)\n",
    "\n",
    "model = Sequential()\n",
    "model.add(LSTM(100, activation='relu', input_shape=(24,60)))\n",
    "model.add(Dense(1))\n",
    "model.compile(optimizer='adam', loss='mse')\n",
    "model.summary()\n",
    "\n",
    "model.fit(X_train, y_train, epochs=5)\n",
    "\n",
    "pred = model.predict(X_test)\n",
    "\n",
    "pp = []\n",
    "for j in pred:\n",
    "    if (j < 0.5):\n",
    "        pp.append(0)\n",
    "    else:\n",
    "        pp.append(1)\n",
    "\n",
    "score = confusion_matrix(y_test,pp)\n",
    "\n",
    "print(score)"
   ]
  },
  {
   "cell_type": "code",
   "execution_count": 3,
   "id": "d19c4e9d",
   "metadata": {},
   "outputs": [
    {
     "name": "stdout",
     "output_type": "stream",
     "text": [
      "0.02380504929645255\n",
      "0.04494551995459355\n"
     ]
    }
   ],
   "source": [
    "TN, FP, FN, TP = score.ravel()\n",
    "TN = np.array(TN)\n",
    "FP = np.array(FP)\n",
    "FN = np.array(FN)\n",
    "TP = np.array(TP)\n",
    "\n",
    "acc = (TP + TN) / (TP + FN + TN + FP)\n",
    "pr_pos = TP/(TP + FP)\n",
    "pr_neg = TN/(TN + FN)\n",
    "rc_pos = TP/(TP + FN)\n",
    "rc_neg = TN/(TN + FP)\n",
    "f1_pos = (2 * pr_pos * rc_pos) / (pr_pos + rc_pos)\n",
    "f1_neg = (2 * pr_neg * rc_neg) / (pr_neg + rc_neg)\n",
    "\n",
    "P = TP + FN\n",
    "N = TN + FP\n",
    "\n",
    "HSS1 = (TP + TN - N) / P\n",
    "HSS2 = (2*((TP*TN)-(FP*FN)))/(P*(FN+TN)+(TP+FP)*N)\n",
    "\n",
    "CH = ((TP+FP)*(TP+FN))/(P+N)\n",
    "GS = (TP-CH)/(TP+FP+FN-CH)\n",
    "\n",
    "TSS = ((TP*TN)-(FP*FN))/(P*N)\n",
    "\n",
    "print(TSS)\n",
    "print(HSS2)"
   ]
  },
  {
   "cell_type": "markdown",
   "id": "39516905",
   "metadata": {},
   "source": [
    "# Pair 15"
   ]
  },
  {
   "cell_type": "code",
   "execution_count": 2,
   "id": "acda47f6",
   "metadata": {},
   "outputs": [
    {
     "name": "stdout",
     "output_type": "stream",
     "text": [
      "WARNING:tensorflow:Layer lstm will not use cuDNN kernels since it doesn't meet the criteria. It will use a generic GPU kernel as fallback when running on GPU.\n"
     ]
    },
    {
     "name": "stderr",
     "output_type": "stream",
     "text": [
      "2023-01-07 14:14:21.007548: I tensorflow/core/platform/cpu_feature_guard.cc:151] This TensorFlow binary is optimized with oneAPI Deep Neural Network Library (oneDNN) to use the following CPU instructions in performance-critical operations:  AVX2 AVX512F FMA\n",
      "To enable them in other operations, rebuild TensorFlow with the appropriate compiler flags.\n",
      "2023-01-07 14:14:22.633325: I tensorflow/core/common_runtime/gpu/gpu_device.cc:1525] Created device /job:localhost/replica:0/task:0/device:GPU:0 with 14243 MB memory:  -> device: 0, name: NVIDIA RTX A4000, pci bus id: 0000:1b:00.0, compute capability: 8.6\n",
      "2023-01-07 14:14:22.633980: I tensorflow/core/common_runtime/gpu/gpu_device.cc:1525] Created device /job:localhost/replica:0/task:0/device:GPU:1 with 14243 MB memory:  -> device: 1, name: NVIDIA RTX A4000, pci bus id: 0000:1d:00.0, compute capability: 8.6\n",
      "2023-01-07 14:14:22.634464: I tensorflow/core/common_runtime/gpu/gpu_device.cc:1525] Created device /job:localhost/replica:0/task:0/device:GPU:2 with 14243 MB memory:  -> device: 2, name: NVIDIA RTX A4000, pci bus id: 0000:3d:00.0, compute capability: 8.6\n",
      "2023-01-07 14:14:22.634878: I tensorflow/core/common_runtime/gpu/gpu_device.cc:1525] Created device /job:localhost/replica:0/task:0/device:GPU:3 with 14243 MB memory:  -> device: 3, name: NVIDIA RTX A4000, pci bus id: 0000:3f:00.0, compute capability: 8.6\n"
     ]
    },
    {
     "name": "stdout",
     "output_type": "stream",
     "text": [
      "Model: \"sequential\"\n",
      "_________________________________________________________________\n",
      " Layer (type)                Output Shape              Param #   \n",
      "=================================================================\n",
      " lstm (LSTM)                 (None, 100)               64400     \n",
      "                                                                 \n",
      " dense (Dense)               (None, 1)                 101       \n",
      "                                                                 \n",
      "=================================================================\n",
      "Total params: 64,501\n",
      "Trainable params: 64,501\n",
      "Non-trainable params: 0\n",
      "_________________________________________________________________\n",
      "Epoch 1/5\n",
      "   5/1363 [..............................] - ETA: 40s - loss: 0.0310    "
     ]
    },
    {
     "name": "stderr",
     "output_type": "stream",
     "text": [
      "2023-01-07 14:14:24.966028: I tensorflow/stream_executor/cuda/cuda_blas.cc:1774] TensorFloat-32 will be used for the matrix multiplication. This will only be logged once.\n"
     ]
    },
    {
     "name": "stdout",
     "output_type": "stream",
     "text": [
      "1363/1363 [==============================] - 50s 36ms/step - loss: 0.0200\n",
      "Epoch 2/5\n",
      "1363/1363 [==============================] - 50s 36ms/step - loss: 0.0601\n",
      "Epoch 3/5\n",
      "1363/1363 [==============================] - 49s 36ms/step - loss: 0.0167\n",
      "Epoch 4/5\n",
      "1363/1363 [==============================] - 50s 36ms/step - loss: 0.0161\n",
      "Epoch 5/5\n",
      "1363/1363 [==============================] - 50s 37ms/step - loss: 0.0160\n",
      "[[36514    21]\n",
      " [ 1245    32]]\n"
     ]
    }
   ],
   "source": [
    "X_train, y_train, X_test, y_test = p4_data, p4_labels_binary, p3_data, p3_labels_binary\n",
    "y_train = y_train.astype('float64')\n",
    "y_test = y_test.astype('float64')\n",
    "X_train = X_train.astype('float64')\n",
    "X_test = X_test.astype('float64')\n",
    "X_train = X_train / np.linalg.norm(X_train)\n",
    "X_test = X_test / np.linalg.norm(X_test)\n",
    "\n",
    "model = Sequential()\n",
    "model.add(LSTM(100, activation='relu', input_shape=(24,60)))\n",
    "model.add(Dense(1))\n",
    "model.compile(optimizer='adam', loss='mse')\n",
    "model.summary()\n",
    "\n",
    "model.fit(X_train, y_train, epochs=5)\n",
    "\n",
    "pred = model.predict(X_test)\n",
    "\n",
    "pp = []\n",
    "for j in pred:\n",
    "    if (j < 0.5):\n",
    "        pp.append(0)\n",
    "    else:\n",
    "        pp.append(1)\n",
    "\n",
    "score = confusion_matrix(y_test,pp)\n",
    "\n",
    "print(score)"
   ]
  },
  {
   "cell_type": "code",
   "execution_count": 3,
   "id": "ab563ec6",
   "metadata": {},
   "outputs": [
    {
     "name": "stdout",
     "output_type": "stream",
     "text": [
      "0.02448394010570527\n",
      "0.04555127727272383\n"
     ]
    }
   ],
   "source": [
    "TN, FP, FN, TP = score.ravel()\n",
    "TN = np.array(TN)\n",
    "FP = np.array(FP)\n",
    "FN = np.array(FN)\n",
    "TP = np.array(TP)\n",
    "\n",
    "acc = (TP + TN) / (TP + FN + TN + FP)\n",
    "pr_pos = TP/(TP + FP)\n",
    "pr_neg = TN/(TN + FN)\n",
    "rc_pos = TP/(TP + FN)\n",
    "rc_neg = TN/(TN + FP)\n",
    "f1_pos = (2 * pr_pos * rc_pos) / (pr_pos + rc_pos)\n",
    "f1_neg = (2 * pr_neg * rc_neg) / (pr_neg + rc_neg)\n",
    "\n",
    "P = TP + FN\n",
    "N = TN + FP\n",
    "\n",
    "HSS1 = (TP + TN - N) / P\n",
    "HSS2 = (2*((TP*TN)-(FP*FN)))/(P*(FN+TN)+(TP+FP)*N)\n",
    "\n",
    "CH = ((TP+FP)*(TP+FN))/(P+N)\n",
    "GS = (TP-CH)/(TP+FP+FN-CH)\n",
    "\n",
    "TSS = ((TP*TN)-(FP*FN))/(P*N)\n",
    "\n",
    "print(TSS)\n",
    "print(HSS2)"
   ]
  },
  {
   "cell_type": "markdown",
   "id": "fb06739c",
   "metadata": {},
   "source": [
    "# Pair 16"
   ]
  },
  {
   "cell_type": "code",
   "execution_count": 2,
   "id": "59f9c936",
   "metadata": {},
   "outputs": [
    {
     "name": "stdout",
     "output_type": "stream",
     "text": [
      "WARNING:tensorflow:Layer lstm will not use cuDNN kernels since it doesn't meet the criteria. It will use a generic GPU kernel as fallback when running on GPU.\n"
     ]
    },
    {
     "name": "stderr",
     "output_type": "stream",
     "text": [
      "2023-01-07 14:19:17.195685: I tensorflow/core/platform/cpu_feature_guard.cc:151] This TensorFlow binary is optimized with oneAPI Deep Neural Network Library (oneDNN) to use the following CPU instructions in performance-critical operations:  AVX2 AVX512F FMA\n",
      "To enable them in other operations, rebuild TensorFlow with the appropriate compiler flags.\n",
      "2023-01-07 14:19:18.805695: I tensorflow/core/common_runtime/gpu/gpu_device.cc:1525] Created device /job:localhost/replica:0/task:0/device:GPU:0 with 14243 MB memory:  -> device: 0, name: NVIDIA RTX A4000, pci bus id: 0000:1b:00.0, compute capability: 8.6\n",
      "2023-01-07 14:19:18.806278: I tensorflow/core/common_runtime/gpu/gpu_device.cc:1525] Created device /job:localhost/replica:0/task:0/device:GPU:1 with 14243 MB memory:  -> device: 1, name: NVIDIA RTX A4000, pci bus id: 0000:1d:00.0, compute capability: 8.6\n",
      "2023-01-07 14:19:18.806703: I tensorflow/core/common_runtime/gpu/gpu_device.cc:1525] Created device /job:localhost/replica:0/task:0/device:GPU:2 with 14243 MB memory:  -> device: 2, name: NVIDIA RTX A4000, pci bus id: 0000:3d:00.0, compute capability: 8.6\n",
      "2023-01-07 14:19:18.807107: I tensorflow/core/common_runtime/gpu/gpu_device.cc:1525] Created device /job:localhost/replica:0/task:0/device:GPU:3 with 14243 MB memory:  -> device: 3, name: NVIDIA RTX A4000, pci bus id: 0000:3f:00.0, compute capability: 8.6\n"
     ]
    },
    {
     "name": "stdout",
     "output_type": "stream",
     "text": [
      "Model: \"sequential\"\n",
      "_________________________________________________________________\n",
      " Layer (type)                Output Shape              Param #   \n",
      "=================================================================\n",
      " lstm (LSTM)                 (None, 100)               64400     \n",
      "                                                                 \n",
      " dense (Dense)               (None, 1)                 101       \n",
      "                                                                 \n",
      "=================================================================\n",
      "Total params: 64,501\n",
      "Trainable params: 64,501\n",
      "Non-trainable params: 0\n",
      "_________________________________________________________________\n",
      "Epoch 1/5\n",
      "   5/1363 [..............................] - ETA: 39s - loss: 0.0188    "
     ]
    },
    {
     "name": "stderr",
     "output_type": "stream",
     "text": [
      "2023-01-07 14:19:21.079458: I tensorflow/stream_executor/cuda/cuda_blas.cc:1774] TensorFloat-32 will be used for the matrix multiplication. This will only be logged once.\n"
     ]
    },
    {
     "name": "stdout",
     "output_type": "stream",
     "text": [
      "1363/1363 [==============================] - 50s 36ms/step - loss: 0.0200\n",
      "Epoch 2/5\n",
      "1363/1363 [==============================] - 50s 37ms/step - loss: 0.0200\n",
      "Epoch 3/5\n",
      "1363/1363 [==============================] - 49s 36ms/step - loss: 0.0202\n",
      "Epoch 4/5\n",
      "1363/1363 [==============================] - 51s 37ms/step - loss: 0.0206\n",
      "Epoch 5/5\n",
      "1363/1363 [==============================] - 53s 39ms/step - loss: 0.0182\n",
      "[[65609     0]\n",
      " [  894     0]]\n"
     ]
    }
   ],
   "source": [
    "X_train, y_train, X_test, y_test = p4_data, p4_labels_binary, p5_data, p5_labels_binary\n",
    "y_train = y_train.astype('float64')\n",
    "y_test = y_test.astype('float64')\n",
    "X_train = X_train.astype('float64')\n",
    "X_test = X_test.astype('float64')\n",
    "X_train = X_train / np.linalg.norm(X_train)\n",
    "X_test = X_test / np.linalg.norm(X_test)\n",
    "\n",
    "model = Sequential()\n",
    "model.add(LSTM(100, activation='relu', input_shape=(24,60)))\n",
    "model.add(Dense(1))\n",
    "model.compile(optimizer='adam', loss='mse')\n",
    "model.summary()\n",
    "\n",
    "model.fit(X_train, y_train, epochs=5)\n",
    "\n",
    "pred = model.predict(X_test)\n",
    "\n",
    "pp = []\n",
    "for j in pred:\n",
    "    if (j < 0.5):\n",
    "        pp.append(0)\n",
    "    else:\n",
    "        pp.append(1)\n",
    "\n",
    "score = confusion_matrix(y_test,pp)\n",
    "\n",
    "print(score)"
   ]
  },
  {
   "cell_type": "code",
   "execution_count": 3,
   "id": "03aef651",
   "metadata": {},
   "outputs": [
    {
     "name": "stdout",
     "output_type": "stream",
     "text": [
      "0.0\n",
      "0.0\n"
     ]
    },
    {
     "name": "stderr",
     "output_type": "stream",
     "text": [
      "/tmp/ipykernel_86153/3715952775.py:8: RuntimeWarning: invalid value encountered in true_divide\n",
      "  pr_pos = TP/(TP + FP)\n"
     ]
    }
   ],
   "source": [
    "TN, FP, FN, TP = score.ravel()\n",
    "TN = np.array(TN)\n",
    "FP = np.array(FP)\n",
    "FN = np.array(FN)\n",
    "TP = np.array(TP)\n",
    "\n",
    "acc = (TP + TN) / (TP + FN + TN + FP)\n",
    "pr_pos = TP/(TP + FP)\n",
    "pr_neg = TN/(TN + FN)\n",
    "rc_pos = TP/(TP + FN)\n",
    "rc_neg = TN/(TN + FP)\n",
    "f1_pos = (2 * pr_pos * rc_pos) / (pr_pos + rc_pos)\n",
    "f1_neg = (2 * pr_neg * rc_neg) / (pr_neg + rc_neg)\n",
    "\n",
    "P = TP + FN\n",
    "N = TN + FP\n",
    "\n",
    "HSS1 = (TP + TN - N) / P\n",
    "HSS2 = (2*((TP*TN)-(FP*FN)))/(P*(FN+TN)+(TP+FP)*N)\n",
    "\n",
    "CH = ((TP+FP)*(TP+FN))/(P+N)\n",
    "GS = (TP-CH)/(TP+FP+FN-CH)\n",
    "\n",
    "TSS = ((TP*TN)-(FP*FN))/(P*N)\n",
    "\n",
    "print(TSS)\n",
    "print(HSS2)"
   ]
  },
  {
   "cell_type": "markdown",
   "id": "5d48f923",
   "metadata": {},
   "source": [
    "# Pair 17"
   ]
  },
  {
   "cell_type": "code",
   "execution_count": 2,
   "id": "00844c5c",
   "metadata": {},
   "outputs": [
    {
     "name": "stdout",
     "output_type": "stream",
     "text": [
      "WARNING:tensorflow:Layer lstm will not use cuDNN kernels since it doesn't meet the criteria. It will use a generic GPU kernel as fallback when running on GPU.\n"
     ]
    },
    {
     "name": "stderr",
     "output_type": "stream",
     "text": [
      "2023-01-07 14:24:39.820019: I tensorflow/core/platform/cpu_feature_guard.cc:151] This TensorFlow binary is optimized with oneAPI Deep Neural Network Library (oneDNN) to use the following CPU instructions in performance-critical operations:  AVX2 AVX512F FMA\n",
      "To enable them in other operations, rebuild TensorFlow with the appropriate compiler flags.\n",
      "2023-01-07 14:24:41.452449: I tensorflow/core/common_runtime/gpu/gpu_device.cc:1525] Created device /job:localhost/replica:0/task:0/device:GPU:0 with 14243 MB memory:  -> device: 0, name: NVIDIA RTX A4000, pci bus id: 0000:1b:00.0, compute capability: 8.6\n",
      "2023-01-07 14:24:41.453055: I tensorflow/core/common_runtime/gpu/gpu_device.cc:1525] Created device /job:localhost/replica:0/task:0/device:GPU:1 with 14243 MB memory:  -> device: 1, name: NVIDIA RTX A4000, pci bus id: 0000:1d:00.0, compute capability: 8.6\n",
      "2023-01-07 14:24:41.453547: I tensorflow/core/common_runtime/gpu/gpu_device.cc:1525] Created device /job:localhost/replica:0/task:0/device:GPU:2 with 14243 MB memory:  -> device: 2, name: NVIDIA RTX A4000, pci bus id: 0000:3d:00.0, compute capability: 8.6\n",
      "2023-01-07 14:24:41.453988: I tensorflow/core/common_runtime/gpu/gpu_device.cc:1525] Created device /job:localhost/replica:0/task:0/device:GPU:3 with 14243 MB memory:  -> device: 3, name: NVIDIA RTX A4000, pci bus id: 0000:3f:00.0, compute capability: 8.6\n"
     ]
    },
    {
     "name": "stdout",
     "output_type": "stream",
     "text": [
      "Model: \"sequential\"\n",
      "_________________________________________________________________\n",
      " Layer (type)                Output Shape              Param #   \n",
      "=================================================================\n",
      " lstm (LSTM)                 (None, 100)               64400     \n",
      "                                                                 \n",
      " dense (Dense)               (None, 1)                 101       \n",
      "                                                                 \n",
      "=================================================================\n",
      "Total params: 64,501\n",
      "Trainable params: 64,501\n",
      "Non-trainable params: 0\n",
      "_________________________________________________________________\n",
      "Epoch 1/5\n",
      "   5/2079 [..............................] - ETA: 1:02 - loss: 0.0062    "
     ]
    },
    {
     "name": "stderr",
     "output_type": "stream",
     "text": [
      "2023-01-07 14:24:43.979264: I tensorflow/stream_executor/cuda/cuda_blas.cc:1774] TensorFloat-32 will be used for the matrix multiplication. This will only be logged once.\n"
     ]
    },
    {
     "name": "stdout",
     "output_type": "stream",
     "text": [
      "2079/2079 [==============================] - 77s 36ms/step - loss: 0.0133\n",
      "Epoch 2/5\n",
      "2079/2079 [==============================] - 77s 37ms/step - loss: 0.0132\n",
      "Epoch 3/5\n",
      "2079/2079 [==============================] - 76s 37ms/step - loss: 0.0123\n",
      "Epoch 4/5\n",
      "2079/2079 [==============================] - 77s 37ms/step - loss: 0.0121\n",
      "Epoch 5/5\n",
      "2079/2079 [==============================] - 77s 37ms/step - loss: 0.0119\n",
      "[[68009     0]\n",
      " [ 1180     0]]\n"
     ]
    }
   ],
   "source": [
    "X_train, y_train, X_test, y_test = p5_data, p5_labels_binary, p1_data, p1_labels_binary\n",
    "y_train = y_train.astype('float64')\n",
    "y_test = y_test.astype('float64')\n",
    "X_train = X_train.astype('float64')\n",
    "X_test = X_test.astype('float64')\n",
    "X_train = X_train / np.linalg.norm(X_train)\n",
    "X_test = X_test / np.linalg.norm(X_test)\n",
    "\n",
    "model = Sequential()\n",
    "model.add(LSTM(100, activation='relu', input_shape=(24,60)))\n",
    "model.add(Dense(1))\n",
    "model.compile(optimizer='adam', loss='mse')\n",
    "model.summary()\n",
    "\n",
    "model.fit(X_train, y_train, epochs=5)\n",
    "\n",
    "pred = model.predict(X_test)\n",
    "\n",
    "pp = []\n",
    "for j in pred:\n",
    "    if (j < 0.5):\n",
    "        pp.append(0)\n",
    "    else:\n",
    "        pp.append(1)\n",
    "\n",
    "score = confusion_matrix(y_test,pp)\n",
    "\n",
    "print(score)"
   ]
  },
  {
   "cell_type": "code",
   "execution_count": 3,
   "id": "60709f7c",
   "metadata": {},
   "outputs": [
    {
     "name": "stdout",
     "output_type": "stream",
     "text": [
      "0.0\n",
      "0.0\n"
     ]
    },
    {
     "name": "stderr",
     "output_type": "stream",
     "text": [
      "/tmp/ipykernel_86786/3715952775.py:8: RuntimeWarning: invalid value encountered in true_divide\n",
      "  pr_pos = TP/(TP + FP)\n"
     ]
    }
   ],
   "source": [
    "TN, FP, FN, TP = score.ravel()\n",
    "TN = np.array(TN)\n",
    "FP = np.array(FP)\n",
    "FN = np.array(FN)\n",
    "TP = np.array(TP)\n",
    "\n",
    "acc = (TP + TN) / (TP + FN + TN + FP)\n",
    "pr_pos = TP/(TP + FP)\n",
    "pr_neg = TN/(TN + FN)\n",
    "rc_pos = TP/(TP + FN)\n",
    "rc_neg = TN/(TN + FP)\n",
    "f1_pos = (2 * pr_pos * rc_pos) / (pr_pos + rc_pos)\n",
    "f1_neg = (2 * pr_neg * rc_neg) / (pr_neg + rc_neg)\n",
    "\n",
    "P = TP + FN\n",
    "N = TN + FP\n",
    "\n",
    "HSS1 = (TP + TN - N) / P\n",
    "HSS2 = (2*((TP*TN)-(FP*FN)))/(P*(FN+TN)+(TP+FP)*N)\n",
    "\n",
    "CH = ((TP+FP)*(TP+FN))/(P+N)\n",
    "GS = (TP-CH)/(TP+FP+FN-CH)\n",
    "\n",
    "TSS = ((TP*TN)-(FP*FN))/(P*N)\n",
    "\n",
    "print(TSS)\n",
    "print(HSS2)"
   ]
  },
  {
   "cell_type": "markdown",
   "id": "d729adea",
   "metadata": {},
   "source": [
    "# Pair 18"
   ]
  },
  {
   "cell_type": "code",
   "execution_count": 2,
   "id": "f22e85c6",
   "metadata": {},
   "outputs": [
    {
     "name": "stdout",
     "output_type": "stream",
     "text": [
      "WARNING:tensorflow:Layer lstm will not use cuDNN kernels since it doesn't meet the criteria. It will use a generic GPU kernel as fallback when running on GPU.\n"
     ]
    },
    {
     "name": "stderr",
     "output_type": "stream",
     "text": [
      "2023-01-07 14:32:05.766270: I tensorflow/core/platform/cpu_feature_guard.cc:151] This TensorFlow binary is optimized with oneAPI Deep Neural Network Library (oneDNN) to use the following CPU instructions in performance-critical operations:  AVX2 AVX512F FMA\n",
      "To enable them in other operations, rebuild TensorFlow with the appropriate compiler flags.\n",
      "2023-01-07 14:32:07.386157: I tensorflow/core/common_runtime/gpu/gpu_device.cc:1525] Created device /job:localhost/replica:0/task:0/device:GPU:0 with 14243 MB memory:  -> device: 0, name: NVIDIA RTX A4000, pci bus id: 0000:1b:00.0, compute capability: 8.6\n",
      "2023-01-07 14:32:07.386802: I tensorflow/core/common_runtime/gpu/gpu_device.cc:1525] Created device /job:localhost/replica:0/task:0/device:GPU:1 with 14243 MB memory:  -> device: 1, name: NVIDIA RTX A4000, pci bus id: 0000:1d:00.0, compute capability: 8.6\n",
      "2023-01-07 14:32:07.387231: I tensorflow/core/common_runtime/gpu/gpu_device.cc:1525] Created device /job:localhost/replica:0/task:0/device:GPU:2 with 14243 MB memory:  -> device: 2, name: NVIDIA RTX A4000, pci bus id: 0000:3d:00.0, compute capability: 8.6\n",
      "2023-01-07 14:32:07.387664: I tensorflow/core/common_runtime/gpu/gpu_device.cc:1525] Created device /job:localhost/replica:0/task:0/device:GPU:3 with 14243 MB memory:  -> device: 3, name: NVIDIA RTX A4000, pci bus id: 0000:3f:00.0, compute capability: 8.6\n"
     ]
    },
    {
     "name": "stdout",
     "output_type": "stream",
     "text": [
      "Model: \"sequential\"\n",
      "_________________________________________________________________\n",
      " Layer (type)                Output Shape              Param #   \n",
      "=================================================================\n",
      " lstm (LSTM)                 (None, 100)               64400     \n",
      "                                                                 \n",
      " dense (Dense)               (None, 1)                 101       \n",
      "                                                                 \n",
      "=================================================================\n",
      "Total params: 64,501\n",
      "Trainable params: 64,501\n",
      "Non-trainable params: 0\n",
      "_________________________________________________________________\n",
      "Epoch 1/5\n",
      "   5/2079 [..............................] - ETA: 1:10 - loss: 0.0429"
     ]
    },
    {
     "name": "stderr",
     "output_type": "stream",
     "text": [
      "2023-01-07 14:32:09.869904: I tensorflow/stream_executor/cuda/cuda_blas.cc:1774] TensorFloat-32 will be used for the matrix multiplication. This will only be logged once.\n"
     ]
    },
    {
     "name": "stdout",
     "output_type": "stream",
     "text": [
      "2079/2079 [==============================] - 77s 36ms/step - loss: 0.0133\n",
      "Epoch 2/5\n",
      "2079/2079 [==============================] - 76s 37ms/step - loss: 0.0123\n",
      "Epoch 3/5\n",
      "2079/2079 [==============================] - 76s 37ms/step - loss: 0.0119\n",
      "Epoch 4/5\n",
      "2079/2079 [==============================] - 76s 36ms/step - loss: 0.0119\n",
      "Epoch 5/5\n",
      "2079/2079 [==============================] - 76s 37ms/step - loss: 0.0118\n",
      "[[78230    26]\n",
      " [ 1282     3]]\n"
     ]
    }
   ],
   "source": [
    "X_train, y_train, X_test, y_test = p5_data, p5_labels_binary, p2_data, p2_labels_binary\n",
    "y_train = y_train.astype('float64')\n",
    "y_test = y_test.astype('float64')\n",
    "X_train = X_train.astype('float64')\n",
    "X_test = X_test.astype('float64')\n",
    "X_train = X_train / np.linalg.norm(X_train)\n",
    "X_test = X_test / np.linalg.norm(X_test)\n",
    "\n",
    "model = Sequential()\n",
    "model.add(LSTM(100, activation='relu', input_shape=(24,60)))\n",
    "model.add(Dense(1))\n",
    "model.compile(optimizer='adam', loss='mse')\n",
    "model.summary()\n",
    "\n",
    "model.fit(X_train, y_train, epochs=5)\n",
    "\n",
    "pred = model.predict(X_test)\n",
    "\n",
    "pp = []\n",
    "for j in pred:\n",
    "    if (j < 0.5):\n",
    "        pp.append(0)\n",
    "    else:\n",
    "        pp.append(1)\n",
    "\n",
    "score = confusion_matrix(y_test,pp)\n",
    "\n",
    "print(score)"
   ]
  },
  {
   "cell_type": "code",
   "execution_count": 3,
   "id": "670f79ae",
   "metadata": {},
   "outputs": [
    {
     "name": "stdout",
     "output_type": "stream",
     "text": [
      "0.0020023874550810787\n",
      "0.003855869033349156\n"
     ]
    }
   ],
   "source": [
    "TN, FP, FN, TP = score.ravel()\n",
    "TN = np.array(TN)\n",
    "FP = np.array(FP)\n",
    "FN = np.array(FN)\n",
    "TP = np.array(TP)\n",
    "\n",
    "acc = (TP + TN) / (TP + FN + TN + FP)\n",
    "pr_pos = TP/(TP + FP)\n",
    "pr_neg = TN/(TN + FN)\n",
    "rc_pos = TP/(TP + FN)\n",
    "rc_neg = TN/(TN + FP)\n",
    "f1_pos = (2 * pr_pos * rc_pos) / (pr_pos + rc_pos)\n",
    "f1_neg = (2 * pr_neg * rc_neg) / (pr_neg + rc_neg)\n",
    "\n",
    "P = TP + FN\n",
    "N = TN + FP\n",
    "\n",
    "HSS1 = (TP + TN - N) / P\n",
    "HSS2 = (2*((TP*TN)-(FP*FN)))/(P*(FN+TN)+(TP+FP)*N)\n",
    "\n",
    "CH = ((TP+FP)*(TP+FN))/(P+N)\n",
    "GS = (TP-CH)/(TP+FP+FN-CH)\n",
    "\n",
    "TSS = ((TP*TN)-(FP*FN))/(P*N)\n",
    "\n",
    "print(TSS)\n",
    "print(HSS2)"
   ]
  },
  {
   "cell_type": "markdown",
   "id": "21d536fe",
   "metadata": {},
   "source": [
    "# Pair 19"
   ]
  },
  {
   "cell_type": "code",
   "execution_count": 2,
   "id": "33b88784",
   "metadata": {},
   "outputs": [
    {
     "name": "stdout",
     "output_type": "stream",
     "text": [
      "WARNING:tensorflow:Layer lstm will not use cuDNN kernels since it doesn't meet the criteria. It will use a generic GPU kernel as fallback when running on GPU.\n"
     ]
    },
    {
     "name": "stderr",
     "output_type": "stream",
     "text": [
      "2023-01-09 12:56:22.628413: I tensorflow/core/platform/cpu_feature_guard.cc:151] This TensorFlow binary is optimized with oneAPI Deep Neural Network Library (oneDNN) to use the following CPU instructions in performance-critical operations:  AVX2 AVX512F FMA\n",
      "To enable them in other operations, rebuild TensorFlow with the appropriate compiler flags.\n",
      "2023-01-09 12:56:24.264628: I tensorflow/core/common_runtime/gpu/gpu_device.cc:1525] Created device /job:localhost/replica:0/task:0/device:GPU:0 with 14243 MB memory:  -> device: 0, name: NVIDIA RTX A4000, pci bus id: 0000:1b:00.0, compute capability: 8.6\n",
      "2023-01-09 12:56:24.265263: I tensorflow/core/common_runtime/gpu/gpu_device.cc:1525] Created device /job:localhost/replica:0/task:0/device:GPU:1 with 14243 MB memory:  -> device: 1, name: NVIDIA RTX A4000, pci bus id: 0000:1d:00.0, compute capability: 8.6\n",
      "2023-01-09 12:56:24.265723: I tensorflow/core/common_runtime/gpu/gpu_device.cc:1525] Created device /job:localhost/replica:0/task:0/device:GPU:2 with 14243 MB memory:  -> device: 2, name: NVIDIA RTX A4000, pci bus id: 0000:3d:00.0, compute capability: 8.6\n",
      "2023-01-09 12:56:24.266178: I tensorflow/core/common_runtime/gpu/gpu_device.cc:1525] Created device /job:localhost/replica:0/task:0/device:GPU:3 with 14243 MB memory:  -> device: 3, name: NVIDIA RTX A4000, pci bus id: 0000:3f:00.0, compute capability: 8.6\n"
     ]
    },
    {
     "name": "stdout",
     "output_type": "stream",
     "text": [
      "Model: \"sequential\"\n",
      "_________________________________________________________________\n",
      " Layer (type)                Output Shape              Param #   \n",
      "=================================================================\n",
      " lstm (LSTM)                 (None, 100)               64400     \n",
      "                                                                 \n",
      " dense (Dense)               (None, 1)                 101       \n",
      "                                                                 \n",
      "=================================================================\n",
      "Total params: 64,501\n",
      "Trainable params: 64,501\n",
      "Non-trainable params: 0\n",
      "_________________________________________________________________\n",
      "Epoch 1/5\n",
      "   5/2079 [..............................] - ETA: 1:03 - loss: 6.1252e-07"
     ]
    },
    {
     "name": "stderr",
     "output_type": "stream",
     "text": [
      "2023-01-09 12:56:26.793240: I tensorflow/stream_executor/cuda/cuda_blas.cc:1774] TensorFloat-32 will be used for the matrix multiplication. This will only be logged once.\n"
     ]
    },
    {
     "name": "stdout",
     "output_type": "stream",
     "text": [
      "2079/2079 [==============================] - 77s 37ms/step - loss: 0.0133\n",
      "Epoch 2/5\n",
      "2079/2079 [==============================] - 75s 36ms/step - loss: 0.0132\n",
      "Epoch 3/5\n",
      "2079/2079 [==============================] - 78s 37ms/step - loss: 0.0125\n",
      "Epoch 4/5\n",
      "2079/2079 [==============================] - 73s 35ms/step - loss: 0.0120\n",
      "Epoch 5/5\n",
      "2079/2079 [==============================] - 77s 37ms/step - loss: 0.0119\n",
      "[[36535     0]\n",
      " [ 1277     0]]\n"
     ]
    }
   ],
   "source": [
    "X_train, y_train, X_test, y_test = p5_data, p5_labels_binary, p3_data, p3_labels_binary\n",
    "y_train = y_train.astype('float64')\n",
    "y_test = y_test.astype('float64')\n",
    "X_train = X_train.astype('float64')\n",
    "X_test = X_test.astype('float64')\n",
    "X_train = X_train / np.linalg.norm(X_train)\n",
    "X_test = X_test / np.linalg.norm(X_test)\n",
    "\n",
    "model = Sequential()\n",
    "model.add(LSTM(100, activation='relu', input_shape=(24,60)))\n",
    "model.add(Dense(1))\n",
    "model.compile(optimizer='adam', loss='mse')\n",
    "model.summary()\n",
    "\n",
    "model.fit(X_train, y_train, epochs=5)\n",
    "\n",
    "pred = model.predict(X_test)\n",
    "\n",
    "pp = []\n",
    "for j in pred:\n",
    "    if (j < 0.5):\n",
    "        pp.append(0)\n",
    "    else:\n",
    "        pp.append(1)\n",
    "\n",
    "score = confusion_matrix(y_test,pp)\n",
    "\n",
    "print(score)"
   ]
  },
  {
   "cell_type": "code",
   "execution_count": 3,
   "id": "aec3acaf",
   "metadata": {},
   "outputs": [
    {
     "name": "stdout",
     "output_type": "stream",
     "text": [
      "0.0\n",
      "0.0\n"
     ]
    },
    {
     "name": "stderr",
     "output_type": "stream",
     "text": [
      "/tmp/ipykernel_102226/3715952775.py:8: RuntimeWarning: invalid value encountered in true_divide\n",
      "  pr_pos = TP/(TP + FP)\n"
     ]
    }
   ],
   "source": [
    "TN, FP, FN, TP = score.ravel()\n",
    "TN = np.array(TN)\n",
    "FP = np.array(FP)\n",
    "FN = np.array(FN)\n",
    "TP = np.array(TP)\n",
    "\n",
    "acc = (TP + TN) / (TP + FN + TN + FP)\n",
    "pr_pos = TP/(TP + FP)\n",
    "pr_neg = TN/(TN + FN)\n",
    "rc_pos = TP/(TP + FN)\n",
    "rc_neg = TN/(TN + FP)\n",
    "f1_pos = (2 * pr_pos * rc_pos) / (pr_pos + rc_pos)\n",
    "f1_neg = (2 * pr_neg * rc_neg) / (pr_neg + rc_neg)\n",
    "\n",
    "P = TP + FN\n",
    "N = TN + FP\n",
    "\n",
    "HSS1 = (TP + TN - N) / P\n",
    "HSS2 = (2*((TP*TN)-(FP*FN)))/(P*(FN+TN)+(TP+FP)*N)\n",
    "\n",
    "CH = ((TP+FP)*(TP+FN))/(P+N)\n",
    "GS = (TP-CH)/(TP+FP+FN-CH)\n",
    "\n",
    "TSS = ((TP*TN)-(FP*FN))/(P*N)\n",
    "\n",
    "print(TSS)\n",
    "print(HSS2)"
   ]
  },
  {
   "cell_type": "markdown",
   "id": "d21a672b",
   "metadata": {},
   "source": [
    "# Pair 20"
   ]
  },
  {
   "cell_type": "code",
   "execution_count": 2,
   "id": "68f11636",
   "metadata": {},
   "outputs": [
    {
     "name": "stdout",
     "output_type": "stream",
     "text": [
      "WARNING:tensorflow:Layer lstm will not use cuDNN kernels since it doesn't meet the criteria. It will use a generic GPU kernel as fallback when running on GPU.\n"
     ]
    },
    {
     "name": "stderr",
     "output_type": "stream",
     "text": [
      "2023-01-09 13:06:45.217040: I tensorflow/core/platform/cpu_feature_guard.cc:151] This TensorFlow binary is optimized with oneAPI Deep Neural Network Library (oneDNN) to use the following CPU instructions in performance-critical operations:  AVX2 AVX512F FMA\n",
      "To enable them in other operations, rebuild TensorFlow with the appropriate compiler flags.\n",
      "2023-01-09 13:06:46.893321: I tensorflow/core/common_runtime/gpu/gpu_device.cc:1525] Created device /job:localhost/replica:0/task:0/device:GPU:0 with 14243 MB memory:  -> device: 0, name: NVIDIA RTX A4000, pci bus id: 0000:1b:00.0, compute capability: 8.6\n",
      "2023-01-09 13:06:46.893989: I tensorflow/core/common_runtime/gpu/gpu_device.cc:1525] Created device /job:localhost/replica:0/task:0/device:GPU:1 with 14243 MB memory:  -> device: 1, name: NVIDIA RTX A4000, pci bus id: 0000:1d:00.0, compute capability: 8.6\n",
      "2023-01-09 13:06:46.894472: I tensorflow/core/common_runtime/gpu/gpu_device.cc:1525] Created device /job:localhost/replica:0/task:0/device:GPU:2 with 14243 MB memory:  -> device: 2, name: NVIDIA RTX A4000, pci bus id: 0000:3d:00.0, compute capability: 8.6\n",
      "2023-01-09 13:06:46.894967: I tensorflow/core/common_runtime/gpu/gpu_device.cc:1525] Created device /job:localhost/replica:0/task:0/device:GPU:3 with 14243 MB memory:  -> device: 3, name: NVIDIA RTX A4000, pci bus id: 0000:3f:00.0, compute capability: 8.6\n"
     ]
    },
    {
     "name": "stdout",
     "output_type": "stream",
     "text": [
      "Model: \"sequential\"\n",
      "_________________________________________________________________\n",
      " Layer (type)                Output Shape              Param #   \n",
      "=================================================================\n",
      " lstm (LSTM)                 (None, 100)               64400     \n",
      "                                                                 \n",
      " dense (Dense)               (None, 1)                 101       \n",
      "                                                                 \n",
      "=================================================================\n",
      "Total params: 64,501\n",
      "Trainable params: 64,501\n",
      "Non-trainable params: 0\n",
      "_________________________________________________________________\n",
      "Epoch 1/5\n",
      "   5/2079 [..............................] - ETA: 1:15 - loss: 0.0186"
     ]
    },
    {
     "name": "stderr",
     "output_type": "stream",
     "text": [
      "2023-01-09 13:06:49.572628: I tensorflow/stream_executor/cuda/cuda_blas.cc:1774] TensorFloat-32 will be used for the matrix multiplication. This will only be logged once.\n"
     ]
    },
    {
     "name": "stdout",
     "output_type": "stream",
     "text": [
      "2079/2079 [==============================] - 79s 37ms/step - loss: 0.0133\n",
      "Epoch 2/5\n",
      "2079/2079 [==============================] - 75s 36ms/step - loss: 0.0123\n",
      "Epoch 3/5\n",
      "2079/2079 [==============================] - 76s 37ms/step - loss: 0.0118\n",
      "Epoch 4/5\n",
      "2079/2079 [==============================] - 75s 36ms/step - loss: 0.0118\n",
      "Epoch 5/5\n",
      "2079/2079 [==============================] - 70s 34ms/step - loss: 0.0117\n",
      "[[42609    86]\n",
      " [  859    31]]\n"
     ]
    }
   ],
   "source": [
    "X_train, y_train, X_test, y_test = p5_data, p5_labels_binary, p4_data, p4_labels_binary\n",
    "y_train = y_train.astype('float64')\n",
    "y_test = y_test.astype('float64')\n",
    "X_train = X_train.astype('float64')\n",
    "X_test = X_test.astype('float64')\n",
    "X_train = X_train / np.linalg.norm(X_train)\n",
    "X_test = X_test / np.linalg.norm(X_test)\n",
    "\n",
    "model = Sequential()\n",
    "model.add(LSTM(100, activation='relu', input_shape=(24,60)))\n",
    "model.add(Dense(1))\n",
    "model.compile(optimizer='adam', loss='mse')\n",
    "model.summary()\n",
    "\n",
    "model.fit(X_train, y_train, epochs=5)\n",
    "\n",
    "pred = model.predict(X_test)\n",
    "\n",
    "pp = []\n",
    "for j in pred:\n",
    "    if (j < 0.5):\n",
    "        pp.append(0)\n",
    "    else:\n",
    "        pp.append(1)\n",
    "\n",
    "score = confusion_matrix(y_test,pp)\n",
    "\n",
    "print(score)"
   ]
  },
  {
   "cell_type": "code",
   "execution_count": 3,
   "id": "666b9373",
   "metadata": {},
   "outputs": [
    {
     "name": "stdout",
     "output_type": "stream",
     "text": [
      "0.03281717328687542\n",
      "0.05709489997386786\n"
     ]
    }
   ],
   "source": [
    "TN, FP, FN, TP = score.ravel()\n",
    "TN = np.array(TN)\n",
    "FP = np.array(FP)\n",
    "FN = np.array(FN)\n",
    "TP = np.array(TP)\n",
    "\n",
    "acc = (TP + TN) / (TP + FN + TN + FP)\n",
    "pr_pos = TP/(TP + FP)\n",
    "pr_neg = TN/(TN + FN)\n",
    "rc_pos = TP/(TP + FN)\n",
    "rc_neg = TN/(TN + FP)\n",
    "f1_pos = (2 * pr_pos * rc_pos) / (pr_pos + rc_pos)\n",
    "f1_neg = (2 * pr_neg * rc_neg) / (pr_neg + rc_neg)\n",
    "\n",
    "P = TP + FN\n",
    "N = TN + FP\n",
    "\n",
    "HSS1 = (TP + TN - N) / P\n",
    "HSS2 = (2*((TP*TN)-(FP*FN)))/(P*(FN+TN)+(TP+FP)*N)\n",
    "\n",
    "CH = ((TP+FP)*(TP+FN))/(P+N)\n",
    "GS = (TP-CH)/(TP+FP+FN-CH)\n",
    "\n",
    "TSS = ((TP*TN)-(FP*FN))/(P*N)\n",
    "\n",
    "print(TSS)\n",
    "print(HSS2)"
   ]
  },
  {
   "cell_type": "markdown",
   "id": "6e799bd5",
   "metadata": {},
   "source": [
    "# VISUALIZING"
   ]
  },
  {
   "cell_type": "code",
   "execution_count": 4,
   "id": "98d94cad",
   "metadata": {},
   "outputs": [],
   "source": [
    "tss = [0.02926529868646215, 0.023273592576346536, 0.11161004827815799, -0.0016461156243808015, 0, 0,\n",
    "       0.006741573033707865, -0.0006553978874849488, 0, 0, 0.046067415730337076, 0, 0, 0.02380504929645255,\n",
    "       0.02448394010570527, 0, 0, 0.0020023874550810787, 0, 0.03281717328687542]"
   ]
  },
  {
   "cell_type": "code",
   "execution_count": 6,
   "id": "3e00e457",
   "metadata": {},
   "outputs": [
    {
     "data": {
      "image/png": "[encoded data removed]",
      "text/plain": [
       "<Figure size 1800x720 with 1 Axes>"
      ]
     },
     "metadata": {
      "needs_background": "light"
     },
     "output_type": "display_data"
    }
   ],
   "source": [
    "pair = np.arange(1,21)\n",
    "plt.figure(figsize=(25,10))\n",
    "plt.plot(pair, tss, label='TSS')\n",
    "plt.xlabel(\"Partition Pair\")\n",
    "plt.ylabel(\"TSS Score\")\n",
    "plt.title(\"Vanilla LSTM\")\n",
    "plt.legend()\n",
    "plt.xticks(pair)\n",
    "plt.grid(True)"
   ]
  },
  {
   "cell_type": "code",
   "execution_count": null,
   "id": "b11874b5",
   "metadata": {},
   "outputs": [],
   "source": []
  }
 ],
 "metadata": {
  "kernelspec": {
   "display_name": "Python 3 (ipykernel)",
   "language": "python",
   "name": "python3"
  },
  "language_info": {
   "codemirror_mode": {
    "name": "ipython",
    "version": 3
   },
   "file_extension": ".py",
   "mimetype": "text/x-python",
   "name": "python",
   "nbconvert_exporter": "python",
   "pygments_lexer": "ipython3",
   "version": "3.9.7"
  }
 },
 "nbformat": 4,
 "nbformat_minor": 5
}
