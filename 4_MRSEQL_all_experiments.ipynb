{
 "cells": [
  {
   "cell_type": "markdown",
   "id": "1e2bfe6d",
   "metadata": {},
   "source": [
    "# 1. Imports"
   ]
  },
  {
   "cell_type": "code",
   "execution_count": 1,
   "id": "111d7ebe",
   "metadata": {
    "scrolled": true
   },
   "outputs": [],
   "source": [
    "import json\n",
    "import pandas as pd\n",
    "import numpy as np\n",
    "from sklearn.metrics import accuracy_score, confusion_matrix, adjusted_rand_score\n",
    "from sklearn.svm import SVC\n",
    "import pickle\n",
    "from pandas import DataFrame\n",
    "from sklearn.linear_model import RidgeClassifierCV\n",
    "from sklearn.pipeline import Pipeline\n",
    "from sktime.transformations.panel.rocket import Rocket\n",
    "from collections import Counter\n",
    "from matplotlib import pyplot\n",
    "from numpy import where\n",
    "import statistics\n",
    "from sklearn.model_selection import StratifiedKFold\n",
    "from sktime.transformations.panel.rocket import MiniRocket, MiniRocketMultivariate\n",
    "import matplotlib.pyplot as plt\n",
    "from datetime import datetime\n",
    "from sktime.classification.hybrid import HIVECOTEV2\n",
    "from sktime.classification.interval_based import CanonicalIntervalForest\n",
    "from sktime.classification.interval_based import DrCIF\n",
    "from sktime.classification.shapelet_based import MrSEQLClassifier"
   ]
  },
  {
   "cell_type": "markdown",
   "id": "f36f393d",
   "metadata": {},
   "source": [
    "# 2. Data loading"
   ]
  },
  {
   "cell_type": "markdown",
   "id": "39367405",
   "metadata": {},
   "source": [
    "### 2.1 Original Data"
   ]
  },
  {
   "cell_type": "code",
   "execution_count": 2,
   "id": "312a3151",
   "metadata": {},
   "outputs": [
    {
     "name": "stdout",
     "output_type": "stream",
     "text": [
      "EXPERIMENTS START TIME = 01:40:04\n"
     ]
    }
   ],
   "source": [
    "#time\n",
    "now = datetime.now()\n",
    "current_time = now.strftime(\"%H:%M:%S\")\n",
    "\n",
    "print(\"EXPERIMENTS START TIME =\", current_time)"
   ]
  },
  {
   "cell_type": "code",
   "execution_count": 3,
   "id": "12947051",
   "metadata": {},
   "outputs": [],
   "source": [
    "p1_data = pd.read_pickle(r'og_data/partition1_data.pkl')\n",
    "p2_data = pd.read_pickle(r'og_data/partition2_data.pkl')\n",
    "p3_data = pd.read_pickle(r'og_data/partition3_data.pkl')\n",
    "p4_data = pd.read_pickle(r'og_data/partition4_data.pkl')\n",
    "p5_data = pd.read_pickle(r'og_data/partition5_data.pkl')\n",
    "p1_labels = pd.read_pickle(r'og_data/partition1_labels.pkl')\n",
    "p2_labels = pd.read_pickle(r'og_data/partition2_labels.pkl')\n",
    "p3_labels = pd.read_pickle(r'og_data/partition3_labels.pkl')\n",
    "p4_labels = pd.read_pickle(r'og_data/partition4_labels.pkl')\n",
    "p5_labels = pd.read_pickle(r'og_data/partition5_labels.pkl')"
   ]
  },
  {
   "cell_type": "markdown",
   "id": "9294e38a",
   "metadata": {},
   "source": [
    "### 2.2 Converting labels into Binary"
   ]
  },
  {
   "cell_type": "code",
   "execution_count": 4,
   "id": "1438dafc",
   "metadata": {},
   "outputs": [],
   "source": [
    "# converting labels into binary class\n",
    "p1_labels_binary = np.where(p1_labels == 'B', 'NF', p1_labels)\n",
    "p1_labels_binary = np.where(p1_labels_binary == 'C', 'NF', p1_labels_binary)\n",
    "p1_labels_binary = np.where(p1_labels_binary == 'F', 'NF', p1_labels_binary)\n",
    "p1_labels_binary = np.where(p1_labels_binary == 'M', 'F', p1_labels_binary)\n",
    "p1_labels_binary = np.where(p1_labels_binary == 'X', 'F', p1_labels_binary)\n",
    "\n",
    "p2_labels_binary = np.where(p2_labels == 'B', 'NF', p2_labels)\n",
    "p2_labels_binary = np.where(p2_labels_binary == 'C', 'NF', p2_labels_binary)\n",
    "p2_labels_binary = np.where(p2_labels_binary == 'F', 'NF', p2_labels_binary)\n",
    "p2_labels_binary = np.where(p2_labels_binary == 'M', 'F', p2_labels_binary)\n",
    "p2_labels_binary = np.where(p2_labels_binary == 'X', 'F', p2_labels_binary)\n",
    "\n",
    "p3_labels_binary = np.where(p3_labels == 'B', 'NF', p3_labels)\n",
    "p3_labels_binary = np.where(p3_labels_binary == 'C', 'NF', p3_labels_binary)\n",
    "p3_labels_binary = np.where(p3_labels_binary == 'F', 'NF', p3_labels_binary)\n",
    "p3_labels_binary = np.where(p3_labels_binary == 'M', 'F', p3_labels_binary)\n",
    "p3_labels_binary = np.where(p3_labels_binary == 'X', 'F', p3_labels_binary)\n",
    "\n",
    "p4_labels_binary = np.where(p4_labels == 'B', 'NF', p4_labels)\n",
    "p4_labels_binary = np.where(p4_labels_binary == 'C', 'NF', p4_labels_binary)\n",
    "p4_labels_binary = np.where(p4_labels_binary == 'F', 'NF', p4_labels_binary)\n",
    "p4_labels_binary = np.where(p4_labels_binary == 'M', 'F', p4_labels_binary)\n",
    "p4_labels_binary = np.where(p4_labels_binary == 'X', 'F', p4_labels_binary)\n",
    "\n",
    "p5_labels_binary = np.where(p5_labels == 'B', 'NF', p5_labels)\n",
    "p5_labels_binary = np.where(p5_labels_binary == 'C', 'NF', p5_labels_binary)\n",
    "p5_labels_binary = np.where(p5_labels_binary == 'F', 'NF', p5_labels_binary)\n",
    "p5_labels_binary = np.where(p5_labels_binary == 'M', 'F', p5_labels_binary)\n",
    "p5_labels_binary = np.where(p5_labels_binary == 'X', 'F', p5_labels_binary)"
   ]
  },
  {
   "cell_type": "markdown",
   "id": "8d78c9fc",
   "metadata": {},
   "source": [
    "# 3. All possible partition pair"
   ]
  },
  {
   "cell_type": "code",
   "execution_count": 5,
   "id": "5c338f52",
   "metadata": {},
   "outputs": [],
   "source": [
    "pp_20 = [ \n",
    "[p1_data, p2_data, p1_labels_binary, p2_labels_binary],\n",
    "\n",
    "[p1_data, p3_data, p1_labels_binary, p3_labels_binary],\n",
    "\n",
    "[p1_data, p4_data, p1_labels_binary, p4_labels_binary],\n",
    "\n",
    "[p1_data, p5_data, p1_labels_binary, p5_labels_binary],\n",
    "\n",
    "[p2_data, p1_data, p2_labels_binary, p1_labels_binary],\n",
    "\n",
    "[p2_data, p3_data, p2_labels_binary, p3_labels_binary],\n",
    "\n",
    "[p2_data, p4_data, p2_labels_binary, p4_labels_binary],\n",
    "\n",
    "[p2_data, p5_data, p2_labels_binary, p5_labels_binary],\n",
    "\n",
    "[p3_data, p1_data, p3_labels_binary, p1_labels_binary],\n",
    "\n",
    "[p3_data, p2_data, p3_labels_binary, p2_labels_binary],\n",
    "\n",
    "[p3_data, p4_data, p3_labels_binary, p4_labels_binary],\n",
    "\n",
    "[p3_data, p5_data, p3_labels_binary, p5_labels_binary],\n",
    "\n",
    "[p4_data, p1_data, p4_labels_binary, p1_labels_binary],\n",
    "\n",
    "[p4_data, p2_data, p4_labels_binary, p2_labels_binary],\n",
    "\n",
    "[p4_data, p3_data, p4_labels_binary, p3_labels_binary],\n",
    "\n",
    "[p4_data, p5_data, p4_labels_binary, p5_labels_binary],\n",
    "\n",
    "[p5_data, p1_data, p5_labels_binary, p1_labels_binary],\n",
    "\n",
    "[p5_data, p2_data, p5_labels_binary, p2_labels_binary],\n",
    "\n",
    "[p5_data, p3_data, p5_labels_binary, p3_labels_binary],\n",
    "\n",
    "[p5_data, p4_data, p5_labels_binary, p4_labels_binary],\n",
    "]"
   ]
  },
  {
   "cell_type": "markdown",
   "id": "8a789fc4",
   "metadata": {},
   "source": [
    "# 4. Experiment"
   ]
  },
  {
   "cell_type": "code",
   "execution_count": null,
   "id": "20acd0a5",
   "metadata": {},
   "outputs": [],
   "source": [
    "cm = []\n",
    "order = 1\n",
    "\n",
    "for i in pp_20:\n",
    "    \n",
    "    print(\"Iteration Begins: \", order)\n",
    "    \n",
    "    # Fit\n",
    "    clf = MrSEQLClassifier()\n",
    "    clf.fit(i[0], i[2])\n",
    "\n",
    "    # Predict\n",
    "    y_pred = clf.predict(i[1])\n",
    "    \n",
    "    #confusion matrix\n",
    "    score = confusion_matrix(i[3],y_pred)\n",
    "    cm.append(score)\n",
    "    \n",
    "    order += 1\n",
    "\n",
    "tss = []\n",
    "hss2 = []\n",
    "\n",
    "for i in cm:\n",
    "\n",
    "    TN, FP, FN, TP = i.ravel()\n",
    "    TN = np.array(TN)\n",
    "    FP = np.array(FP)\n",
    "    FN = np.array(FN)\n",
    "    TP = np.array(TP)\n",
    "\n",
    "    acc = (TP + TN) / (TP + FN + TN + FP)\n",
    "    pr_pos = TP/(TP + FP)\n",
    "    pr_neg = TN/(TN + FN)\n",
    "    rc_pos = TP/(TP + FN)\n",
    "    rc_neg = TN/(TN + FP)\n",
    "    f1_pos = (2 * pr_pos * rc_pos) / (pr_pos + rc_pos)\n",
    "    f1_neg = (2 * pr_neg * rc_neg) / (pr_neg + rc_neg)\n",
    "\n",
    "    P = TP + FN\n",
    "    N = TN + FP\n",
    "\n",
    "    HSS1 = (TP + TN - N) / P\n",
    "    HSS2 = (2*((TP*TN)-(FP*FN)))/(P*(FN+TN)+(TP+FP)*N)\n",
    "\n",
    "    CH = ((TP+FP)*(TP+FN))/(P+N)\n",
    "    GS = (TP-CH)/(TP+FP+FN-CH)\n",
    "\n",
    "    TSS = ((TP*TN)-(FP*FN))/(P*N)\n",
    "\n",
    "    tss.append(TSS)\n",
    "    hss2.append(HSS2)"
   ]
  },
  {
   "cell_type": "code",
   "execution_count": null,
   "id": "2148de25",
   "metadata": {},
   "outputs": [],
   "source": [
    "print(\"TSS and HSS2 score for MrSEQL is: \\n\")\n",
    "print(tss)\n",
    "print(hss2)"
   ]
  },
  {
   "cell_type": "code",
   "execution_count": null,
   "id": "d899fc20",
   "metadata": {},
   "outputs": [],
   "source": [
    "#time\n",
    "now = datetime.now()\n",
    "current_time = now.strftime(\"%H:%M:%S\")\n",
    "print(\"EXPERIMENTS FINISHED TIME =\", current_time)"
   ]
  }
 ],
 "metadata": {
  "kernelspec": {
   "display_name": "Python 3 (ipykernel)",
   "language": "python",
   "name": "python3"
  },
  "language_info": {
   "codemirror_mode": {
    "name": "ipython",
    "version": 3
   },
   "file_extension": ".py",
   "mimetype": "text/x-python",
   "name": "python",
   "nbconvert_exporter": "python",
   "pygments_lexer": "ipython3",
   "version": "3.9.7"
  }
 },
 "nbformat": 4,
 "nbformat_minor": 5
}
